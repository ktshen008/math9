{
 "cells": [
  {
   "cell_type": "code",
   "execution_count": 28,
   "metadata": {
    "collapsed": false
   },
   "outputs": [
    {
     "name": "stdout",
     "output_type": "stream",
     "text": [
      "[470, 509, 504, 468, 468, 525, 476, 476, 507, 458]\n",
      "[511935, 626331, 704623, 767903, 796095, 837799, 910107, 927003, 939497, 970599]\n"
     ]
    }
   ],
   "source": [
    "def length_collatz_seq(n):\n",
    "    counter=1\n",
    "    while n>1:\n",
    "        if n%2==0:\n",
    "            n=n/2\n",
    "            counter=counter+1\n",
    "        else:\n",
    "            n=3*n+1\n",
    "            counter=counter+1\n",
    "    return counter\n",
    "def argmin(lists):\n",
    "    return lists.index(min(lists))\n",
    "def main():\n",
    "    list1=[]\n",
    "    list2=[]\n",
    "    for n in range(1,1000000):\n",
    "        length=length_collatz_seq(n)\n",
    "        if len(list1)<10:\n",
    "            list1.append(length)\n",
    "            list2.append(n)\n",
    "        else:\n",
    "            list1.append(length)\n",
    "            list2.append(n)\n",
    "            arg=argmin(list1)\n",
    "            list1.remove(min(list1))\n",
    "            del list2[arg]\n",
    "    return list1,list2\n",
    "list1,list2=main()\n",
    "print(list1)\n",
    "print(list2)"
   ]
  },
  {
   "cell_type": "code",
   "execution_count": 23,
   "metadata": {
    "collapsed": false
   },
   "outputs": [
    {
     "data": {
      "text/plain": [
       "10"
      ]
     },
     "execution_count": 23,
     "metadata": {},
     "output_type": "execute_result"
    }
   ],
   "source": [
    "length_collatz_seq(13)"
   ]
  },
  {
   "cell_type": "code",
   "execution_count": null,
   "metadata": {
    "collapsed": true
   },
   "outputs": [],
   "source": []
  },
  {
   "cell_type": "code",
   "execution_count": null,
   "metadata": {
    "collapsed": true
   },
   "outputs": [],
   "source": []
  }
 ],
 "metadata": {
  "anaconda-cloud": {},
  "kernelspec": {
   "display_name": "Python [conda root]",
   "language": "python",
   "name": "conda-root-py"
  },
  "language_info": {
   "codemirror_mode": {
    "name": "ipython",
    "version": 3
   },
   "file_extension": ".py",
   "mimetype": "text/x-python",
   "name": "python",
   "nbconvert_exporter": "python",
   "pygments_lexer": "ipython3",
   "version": "3.5.2"
  }
 },
 "nbformat": 4,
 "nbformat_minor": 1
}

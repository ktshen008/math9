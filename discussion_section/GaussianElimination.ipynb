{
 "cells": [
  {
   "cell_type": "markdown",
   "metadata": {},
   "source": [
    "# Gaussian Elimination"
   ]
  },
  {
   "cell_type": "markdown",
   "metadata": {},
   "source": [
    "Gaussian elimination is a method that will allow us to transform a matrix into an upper triangular matrix, in a useful way. To do this, we are allowed to perform several operations. We can multiply any row by a (nonzero) scalar, we can switch two rows, and we can replace a row with that row, added to a scalar times another row."
   ]
  },
  {
   "cell_type": "markdown",
   "metadata": {},
   "source": [
    "In summary, we allow the following:<br>\n",
    "$R_i\\rightarrow \\lambda R_i$<br>\n",
    "$R_i,R_j\\rightarrow R_j,R_i$<br>\n",
    "$R_i\\rightarrow \\lambda R_j+R_i$"
   ]
  },
  {
   "cell_type": "markdown",
   "metadata": {},
   "source": [
    "Much of the value of the algorithm comes from applying it to an $n\\times n+1$ matrix, to obtain an upper triangular $n\\times n$ submatrix. To see why, consider an equation of the form $Ax=b$ where $x$ and $b$ are vectors, and $A$ is an $n\\times n$ matrix. If we augment the matrix $A$ to a matrix $A'$ where the first $n$ columns of $A'$ are columns of $A$, and the last is the vector $b$, and then apply the algorithm, we obtain an $n\\times n+1$ matrix $U'$ where the first $n$ columns of $U'$ form a matrix $U$, and the last column forms a vector $y$. $x$ is a solution of $Ux=y$."
   ]
  },
  {
   "cell_type": "markdown",
   "metadata": {},
   "source": [
    "Initially assume no row switches will be required to place an augmented matrix into reduce echelon form (the form where the first $n$ rows and columns of the resulting matrix form an upper triangular matrix). "
   ]
  },
  {
   "cell_type": "markdown",
   "metadata": {},
   "source": [
    "Let $A$ an $n\\times(n+1)$ matrix\n",
    "\n",
    "for $i=1\\dots n$\n",
    ">if $A(i,i)$ is nonzero\n",
    ">> for $j=i+1\\dots n$\n",
    ">>> $R_j\\rightarrow R_j+(-A(j,i)/A(i,i))R_i$<br>\n",
    ">>> or $A[j,:]\\rightarrow A[j,:]+(-A[j,i]/A[i,i])A[i,:]$\n",
    "\n",
    "> else\n",
    ">> return 'Method Failed'\n"
   ]
  },
  {
   "cell_type": "markdown",
   "metadata": {},
   "source": [
    "Row switches are required if at some point, the $A(i,i)$ element is zero. In this case, we must switch the $ith$ row with some $jth$ row beneath it, that has the property that $A(j,i)$ is nonzero. If no such vector exists, then there will be no unique solution to the associated equation. In this case, return 'method failed'. \n",
    "\n",
    "Attempt to adjust the previous code to allow for the possibility of row swaps."
   ]
  },
  {
   "cell_type": "code",
   "execution_count": 1,
   "metadata": {
    "collapsed": true
   },
   "outputs": [],
   "source": [
    "import numpy as np"
   ]
  },
  {
   "cell_type": "code",
   "execution_count": 2,
   "metadata": {
    "collapsed": false
   },
   "outputs": [
    {
     "data": {
      "text/plain": [
       "array([1, 2, 3, 4])"
      ]
     },
     "execution_count": 2,
     "metadata": {},
     "output_type": "execute_result"
    }
   ],
   "source": [
    "A=np.array([[1,2,3,4],[2,3,5,6],[1,4,7,8]])\n",
    "A[0,:]"
   ]
  },
  {
   "cell_type": "code",
   "execution_count": null,
   "metadata": {
    "collapsed": false
   },
   "outputs": [],
   "source": []
  },
  {
   "cell_type": "code",
   "execution_count": 4,
   "metadata": {
    "collapsed": false
   },
   "outputs": [
    {
     "data": {
      "text/plain": [
       "array([[1, 2, 3, 4],\n",
       "       [2, 3, 5, 6],\n",
       "       [1, 4, 7, 8]])"
      ]
     },
     "execution_count": 4,
     "metadata": {},
     "output_type": "execute_result"
    }
   ],
   "source": [
    "A"
   ]
  },
  {
   "cell_type": "code",
   "execution_count": 5,
   "metadata": {
    "collapsed": true
   },
   "outputs": [],
   "source": [
    "def GaussElim(A):\n",
    "    # Determine dimension of A\n",
    "    n,columns=A.shape\n",
    "    # make sure data type is float\n",
    "    if type(A[0,0]) is not 'float':\n",
    "        A=A.astype(float)\n",
    "    print(type(A[0,0]))\n",
    "    for i in range(0,n):\n",
    "        if abs(A[i,i])<10**(-12):\n",
    "            #look for a number under the (i i) element that is non zero\n",
    "            for p in range(i+1,n):\n",
    "                if abs(A[p,i])>10**(-12):\n",
    "                    break\n",
    "            if abs(A[p,i])>10**(-12):\n",
    "            #switch rows of matrix\n",
    "                A[[i,p]]=A[[p,i]]\n",
    "            else:\n",
    "                return 'method fails'\n",
    "            \n",
    "        \n",
    "        \n",
    "        \n",
    "        \n",
    "        for j in range(i+1,n):\n",
    "            A[j,:]=A[j,:]-A[j,i]/A[i,i]*A[i,:]\n",
    "    return A\n",
    "    \n",
    "            \n",
    "        \n",
    "    \n",
    "    "
   ]
  },
  {
   "cell_type": "code",
   "execution_count": 6,
   "metadata": {
    "collapsed": false
   },
   "outputs": [
    {
     "name": "stdout",
     "output_type": "stream",
     "text": [
      "<class 'numpy.float64'>\n",
      "[[ 1.  2.  3.  4.]\n",
      " [ 0. -1. -1. -2.]\n",
      " [ 0.  0.  2.  0.]]\n"
     ]
    }
   ],
   "source": [
    "print(GaussElim(A))"
   ]
  },
  {
   "cell_type": "code",
   "execution_count": null,
   "metadata": {
    "collapsed": true
   },
   "outputs": [],
   "source": []
  }
 ],
 "metadata": {
  "anaconda-cloud": {},
  "kernelspec": {
   "display_name": "Python [default]",
   "language": "python",
   "name": "python3"
  },
  "language_info": {
   "codemirror_mode": {
    "name": "ipython",
    "version": 3
   },
   "file_extension": ".py",
   "mimetype": "text/x-python",
   "name": "python",
   "nbconvert_exporter": "python",
   "pygments_lexer": "ipython3",
   "version": "3.5.2"
  }
 },
 "nbformat": 4,
 "nbformat_minor": 2
}

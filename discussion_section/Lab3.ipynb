{
 "cells": [
  {
   "cell_type": "markdown",
   "metadata": {},
   "source": [
    "# Palindromes"
   ]
  },
  {
   "cell_type": "markdown",
   "metadata": {},
   "source": [
    "### Question\n",
    "\n",
    "Use a `for` loop to wwrite a function called\n",
    "`is_palindrome_loop(s)` that returns `True` if the string `s` is a palindrome (a palindrome is a sequence that is the same in reverse. For example, `is_palindrome_loop('amanapanama')` should return `True`. "
   ]
  },
  {
   "cell_type": "markdown",
   "metadata": {},
   "source": [
    "### Solution"
   ]
  },
  {
   "cell_type": "code",
   "execution_count": 3,
   "metadata": {
    "collapsed": false
   },
   "outputs": [
    {
     "name": "stdout",
     "output_type": "stream",
     "text": [
      "False\n",
      "True\n"
     ]
    }
   ],
   "source": [
    "def is_palindrome_loop(s):\n",
    "    N = len(s)\n",
    "    for i in range(N//2):\n",
    "        if s[i] != s[N-i-1]:\n",
    "            return False\n",
    "    return True\n",
    "\n",
    "print is_palindrome_loop(\"abcab\")\n",
    "print is_palindrome_loop(\"amanapanama\")"
   ]
  },
  {
   "cell_type": "markdown",
   "metadata": {},
   "source": [
    "### Question\n",
    "\n",
    "Now write a function `is_palindrome_recursion(s)` that has the same functionality but is implemented via recursion instead of a loop."
   ]
  },
  {
   "cell_type": "markdown",
   "metadata": {},
   "source": [
    "### Wrong Answer"
   ]
  },
  {
   "cell_type": "code",
   "execution_count": 5,
   "metadata": {
    "collapsed": false
   },
   "outputs": [
    {
     "name": "stdout",
     "output_type": "stream",
     "text": [
      "None\n"
     ]
    }
   ],
   "source": [
    "def is_palindrome_recursion(s): \n",
    "    if len(s) >= 2: \n",
    "        if s[0] != s[-1]: \n",
    "            return False\n",
    "        else: \n",
    "            is_palindrome_recursion(s[1:-1])\n",
    "    else: \n",
    "        return True\n",
    "    \n",
    "print is_palindrome_recursion(\"abcba\")"
   ]
  },
  {
   "cell_type": "markdown",
   "metadata": {},
   "source": [
    "Woops! It doesn't work! There is one error: `True` is not propagated up the chain of calls. To see what I mean, draw a picture in which is_palindrome_recursion is called three times, as in the example above. \n",
    "\n",
    "Can you spot the small adjustment that we need to make in order for `True` to be propagated? [This stackoverflow question](https://stackoverflow.com/questions/15577693/python-return-statement-not-running) might help. "
   ]
  },
  {
   "cell_type": "markdown",
   "metadata": {},
   "source": [
    "### Correct Answer\n",
    "\n"
   ]
  },
  {
   "cell_type": "code",
   "execution_count": 1,
   "metadata": {
    "collapsed": false
   },
   "outputs": [
    {
     "name": "stdout",
     "output_type": "stream",
     "text": [
      "True\n"
     ]
    }
   ],
   "source": [
    "def is_palindrome_recursion(s): \n",
    "    if len(s) >= 2: \n",
    "        if s[0] != s[-1]: \n",
    "            return False\n",
    "        else: \n",
    "            return is_palindrome_recursion(s[1:-1])\n",
    "    else: \n",
    "        return True\n",
    "    \n",
    "print is_palindrome_recursion([1,2,1])"
   ]
  },
  {
   "cell_type": "markdown",
   "metadata": {},
   "source": [
    "## Alternative solutions"
   ]
  },
  {
   "cell_type": "code",
   "execution_count": 8,
   "metadata": {
    "collapsed": false
   },
   "outputs": [
    {
     "name": "stdout",
     "output_type": "stream",
     "text": [
      "True\n",
      "False\n"
     ]
    }
   ],
   "source": [
    "def is_palindrome_recursion(s): \n",
    "    #base cases\n",
    "    if len(s) == 1:\n",
    "        return True\n",
    "    if len(s)==2:\n",
    "        if s[0]==s[-1]:\n",
    "            return True\n",
    "        else:\n",
    "            return False\n",
    "    # recursive step\n",
    "    else:\n",
    "        if s[0] != s[-1]: \n",
    "            return False\n",
    "        else: \n",
    "            return is_palindrome_recursion(s[1:-1])\n",
    "            # I made in error in explanation in lab to some people. The following code can replace the above line\n",
    "            # I said it should be s[1:len(s)-2], but this is incorrect, because slicing does not include the end index\n",
    "            # No points will be taken off for this. \n",
    "            \n",
    "            return is_palindrome_recursion(s[1:len(s)-1])\n",
    "  \n",
    "    \n",
    "print is_palindrome_recursion([1,2,1])\n",
    "print is_palindrome_recursion([1,2,3,1])"
   ]
  },
  {
   "cell_type": "code",
   "execution_count": 15,
   "metadata": {
    "collapsed": false
   },
   "outputs": [
    {
     "name": "stdout",
     "output_type": "stream",
     "text": [
      "True\n",
      "False\n"
     ]
    }
   ],
   "source": [
    "def is_palindrome_recursion(s): \n",
    "    #base case\n",
    "    if len(s) == 0:\n",
    "        return True\n",
    "    # recursive step\n",
    "    else:\n",
    "        return ((s[0]==s[-1]) and is_palindrome_recursion(s[1:-1]))\n",
    "        # or\n",
    "        return ((s[0]==s[-1]) and is_palindrome_recursion(s[1:len(s)-1]))\n",
    "    \n",
    "print is_palindrome_recursion([1,1])\n",
    "print is_palindrome_recursion([1,2,3,1])"
   ]
  },
  {
   "cell_type": "code",
   "execution_count": 3,
   "metadata": {
    "collapsed": false
   },
   "outputs": [
    {
     "data": {
      "text/plain": [
       "True"
      ]
     },
     "execution_count": 3,
     "metadata": {},
     "output_type": "execute_result"
    }
   ],
   "source": [
    "# This version uses built in python functions, which isn't what I wanted you to do in class, but \n",
    "# you should be aware that such functions can simplify problems like this tremendously\n",
    "# Also note that the reverse function is easily defined using recursion\n",
    "def is_palindrome(s):\n",
    "    rev=list(s)\n",
    "    rev.reverse()\n",
    "    return s==rev\n",
    "is_palindrome([1,2,31])\n",
    "is_palindrome([1,2,1])"
   ]
  },
  {
   "cell_type": "code",
   "execution_count": null,
   "metadata": {
    "collapsed": false
   },
   "outputs": [],
   "source": []
  },
  {
   "cell_type": "code",
   "execution_count": null,
   "metadata": {
    "collapsed": false
   },
   "outputs": [],
   "source": []
  },
  {
   "cell_type": "code",
   "execution_count": null,
   "metadata": {
    "collapsed": false
   },
   "outputs": [],
   "source": [
    "\n",
    "\n",
    "\n",
    "\n"
   ]
  },
  {
   "cell_type": "code",
   "execution_count": null,
   "metadata": {
    "collapsed": true
   },
   "outputs": [],
   "source": []
  }
 ],
 "metadata": {
  "anaconda-cloud": {},
  "kernelspec": {
   "display_name": "Python [conda env:py27]",
   "language": "python",
   "name": "conda-env-py27-py"
  },
  "language_info": {
   "codemirror_mode": {
    "name": "ipython",
    "version": 2
   },
   "file_extension": ".py",
   "mimetype": "text/x-python",
   "name": "python",
   "nbconvert_exporter": "python",
   "pygments_lexer": "ipython2",
   "version": "2.7.13"
  }
 },
 "nbformat": 4,
 "nbformat_minor": 2
}

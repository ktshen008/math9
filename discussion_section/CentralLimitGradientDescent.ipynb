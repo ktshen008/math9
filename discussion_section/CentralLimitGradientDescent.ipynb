{
 "cells": [
  {
   "cell_type": "markdown",
   "metadata": {},
   "source": [
    "# Homework Problem"
   ]
  },
  {
   "cell_type": "markdown",
   "metadata": {},
   "source": [
    "$p(x)=a_nx^n+...+a_0$ and $q(x)=b_lx^l+...+b_0$."
   ]
  },
  {
   "cell_type": "markdown",
   "metadata": {},
   "source": [
    "Find $p(x)q(x)$."
   ]
  },
  {
   "cell_type": "markdown",
   "metadata": {},
   "source": [
    "$p(x)q(x)=\\sum_{i=0}^na_i x^i*q(x)$"
   ]
  },
  {
   "cell_type": "markdown",
   "metadata": {},
   "source": [
    "$a_i*q(x)$ can be computed using scaler multiplication"
   ]
  },
  {
   "cell_type": "markdown",
   "metadata": {},
   "source": [
    "If $q(x)=[b_0,...b_l]$, then $x^iq(x)=[0,0,0,...,0,b_0,...,b_l]$, where there are $i$ zeros in front of $b_0$."
   ]
  },
  {
   "cell_type": "markdown",
   "metadata": {},
   "source": [
    "$x^2*(2x+3)=2x^3+3x^2$"
   ]
  },
  {
   "cell_type": "markdown",
   "metadata": {},
   "source": [
    "coeff of $2x+3$ is $[3,2]$\n",
    "\n",
    "coeff of $2x^3+3x^2=[0,0,3,2]$"
   ]
  },
  {
   "cell_type": "markdown",
   "metadata": {},
   "source": [
    "Idea to finish the problem, find the coefficients of $a_ix^iq(x)$, use them to create a new polynomial $r_i$, and the sum up the polynomials $r_i$ to obtain the product of $p$ and $q$."
   ]
  },
  {
   "cell_type": "markdown",
   "metadata": {},
   "source": [
    "## Alternative Solution"
   ]
  },
  {
   "cell_type": "markdown",
   "metadata": {},
   "source": [
    "The degree of $p(x)q(x)$ is $n+l$. Take the coefficients of $p(x)$ and $q(x)$ and extend them by zeros until they are length $n+l$. $[a_0,....,a_n,0,0,...,0]$. "
   ]
  },
  {
   "cell_type": "markdown",
   "metadata": {},
   "source": [
    "To find the coefficient of $x^i$, for $i$ between $0$ and $n$, we can use the formula $s_i=\\sum_{j=0}^ia_{j}b_{i-j}$. the product polynomial is given by $\\sum_{i=0}^{n+l}s_ix^i$."
   ]
  },
  {
   "cell_type": "markdown",
   "metadata": {},
   "source": [
    "Take $(2x^3+3x+1)(2x+3)$. The coefficient of the $x$ term, is given by $(2*1+3*3)=11$ according to the formula\n"
   ]
  },
  {
   "cell_type": "markdown",
   "metadata": {},
   "source": [
    "# Central Limit Theorem"
   ]
  },
  {
   "cell_type": "markdown",
   "metadata": {},
   "source": [
    "Suppose $x_n$ is drawn from a probability distribution with mean $\\mu$ and standard deviation $\\sigma$, and let\n",
    "\n",
    "$y_n=\\frac{\\sum_{i=1}^nx_i}{n}$\n",
    "\n",
    "In distribution $y_n$ approaches $N(\\mu,\\frac{\\sigma}{\\sqrt{n}})$ as $n\\rightarrow \\infty$."
   ]
  },
  {
   "cell_type": "markdown",
   "metadata": {},
   "source": [
    "## Problem\n",
    "We can sample from the the $\\chi_N^2$ distribution using np.random.chisquare(N,size). Using this function and various values  of $N$, attempt to determine the mean and standard deviation of $\\chi_N^2$ using the central limit theorem."
   ]
  },
  {
   "cell_type": "code",
   "execution_count": 17,
   "metadata": {},
   "outputs": [],
   "source": [
    "import numpy as np\n",
    "x=np.random.chisquare(10,(2000,2000))\n",
    "y=np.sum(x,0)/2000"
   ]
  },
  {
   "cell_type": "code",
   "execution_count": 18,
   "metadata": {
    "collapsed": true
   },
   "outputs": [],
   "source": [
    "stddev=np.std(y)\n",
    "mean=np.mean(y)"
   ]
  },
  {
   "cell_type": "code",
   "execution_count": 19,
   "metadata": {},
   "outputs": [
    {
     "data": {
      "text/plain": [
       "10.001868539356256"
      ]
     },
     "execution_count": 19,
     "metadata": {},
     "output_type": "execute_result"
    }
   ],
   "source": [
    "#This should be approximately  the mean of the chi squared 1 distribution\n",
    "mean"
   ]
  },
  {
   "cell_type": "code",
   "execution_count": 16,
   "metadata": {},
   "outputs": [
    {
     "data": {
      "text/plain": [
       "2.8482740678914169"
      ]
     },
     "execution_count": 16,
     "metadata": {},
     "output_type": "execute_result"
    }
   ],
   "source": [
    "#this should be approximately the standard deviation of the chi  squared 1 distribution\n",
    "stddev*np.sqrt(2000)"
   ]
  },
  {
   "cell_type": "markdown",
   "metadata": {},
   "source": [
    "It turns out that the mean of $\\chi_N^2$ is $N$. The standard deviation of $\\chi_N^2$ is $\\sqrt{2 N}$."
   ]
  },
  {
   "cell_type": "code",
   "execution_count": 22,
   "metadata": {},
   "outputs": [
    {
     "name": "stdout",
     "output_type": "stream",
     "text": [
      "sample mean 0.999897054139 actual mean 1\n",
      "population standard deviation of chi square 1.40599091804 actual standard deviation 1.41421356237\n",
      "sample mean 1.99998558519 actual mean 2\n",
      "population standard deviation of chi square 1.99670834727 actual standard deviation 2.0\n",
      "sample mean 3.00034110708 actual mean 3\n",
      "population standard deviation of chi square 2.45305683353 actual standard deviation 2.44948974278\n",
      "sample mean 3.99955019058 actual mean 4\n",
      "population standard deviation of chi square 2.81693504773 actual standard deviation 2.82842712475\n",
      "sample mean 5.00004327468 actual mean 5\n",
      "population standard deviation of chi square 3.15795031254 actual standard deviation 3.16227766017\n",
      "sample mean 5.99962833144 actual mean 6\n",
      "population standard deviation of chi square 3.49133901342 actual standard deviation 3.46410161514\n"
     ]
    }
   ],
   "source": [
    "n=10000\n",
    "for i in range(1,7):\n",
    "    x=np.random.chisquare(i,(n,n))\n",
    "    y=np.sum(x,0)/n\n",
    "    print('sample mean', np.mean(y), 'actual mean', i)\n",
    "    print('population standard deviation of chi square', np.sqrt(n)*np.std(y),\n",
    "          'actual standard deviation', np.sqrt(2*i))"
   ]
  },
  {
   "cell_type": "markdown",
   "metadata": {},
   "source": [
    "# Function Optimization"
   ]
  },
  {
   "cell_type": "markdown",
   "metadata": {},
   "source": [
    "Real life applications require the minimization of multi dimensional functions. for example in machine learning, the training a neural network involves choosing parameters that will minimize the error the network returns. "
   ]
  },
  {
   "cell_type": "markdown",
   "metadata": {},
   "source": [
    "# How to Minimize multidimensional functions"
   ]
  },
  {
   "cell_type": "markdown",
   "metadata": {},
   "source": [
    "## Analytical approach"
   ]
  },
  {
   "cell_type": "markdown",
   "metadata": {},
   "source": [
    "consider the points where $\\nabla f=\\langle \\frac{\\partial f}{\\partial x_i}\\rangle$ is $0$."
   ]
  },
  {
   "cell_type": "markdown",
   "metadata": {},
   "source": [
    "If the gradient is $0$, you are either at a local minimum, a local maximum, or a saddle point. If we want to find the minimum value of the function, we  can just plug in these values."
   ]
  },
  {
   "cell_type": "markdown",
   "metadata": {},
   "source": [
    "## Numerical Approach"
   ]
  },
  {
   "cell_type": "markdown",
   "metadata": {},
   "source": [
    "We note that the gradient vector always points in the direction in which  $f$ is increasing the most. "
   ]
  },
  {
   "cell_type": "markdown",
   "metadata": {},
   "source": [
    "The negative gradient will point in the direction of decrease"
   ]
  },
  {
   "cell_type": "markdown",
   "metadata": {},
   "source": [
    "Therefore, we obtain gradient descent\n",
    "\n",
    "Algorithm\n",
    "\n",
    "$\\bf{x}\\leftarrow \\bf{x}-\\eta \\nabla f(\\bf{x})$\n",
    "\n",
    "where $\\eta$ is some small number called the learning parameter"
   ]
  },
  {
   "cell_type": "code",
   "execution_count": 23,
   "metadata": {
    "collapsed": true
   },
   "outputs": [],
   "source": [
    "f=lambda x,y,z: x*x+y*y+z*z+2*y+z+3*x"
   ]
  },
  {
   "cell_type": "code",
   "execution_count": 24,
   "metadata": {
    "collapsed": true
   },
   "outputs": [],
   "source": [
    "dfdx=lambda x,y,z: 2*x+3\n",
    "dfdy=lambda x,y,z: 2*y+2\n",
    "dfdz=lambda x,y,z: 2*z+1"
   ]
  },
  {
   "cell_type": "code",
   "execution_count": 26,
   "metadata": {},
   "outputs": [
    {
     "name": "stdout",
     "output_type": "stream",
     "text": [
      "-1.4999999999999445 -0.9999999999999722 -0.4999999999999861 -3.4999999999999996\n"
     ]
    }
   ],
   "source": [
    "#initialize randomly\n",
    "x,y,z=.3,.3,.3\n",
    "\n",
    "eta=.001\n",
    "x_vals=[]\n",
    "y_vals=[]\n",
    "z_vals=[]\n",
    "f_vals=[]\n",
    "\n",
    "num_steps=20000\n",
    "for i in range(num_steps):\n",
    "    x=x-eta*dfdx(x,y,z)\n",
    "    y=y-eta*dfdy(x,y,z)\n",
    "    z=z-eta*dfdz(x,y,z)\n",
    "    x_vals.append(x)\n",
    "    y_vals.append(y)\n",
    "    z_vals.append(z)\n",
    "    f_vals.append(f(x,y,z))\n",
    "    \n",
    "print(x_vals[-1],y_vals[-1],z_vals[-1],f_vals[-1])\n",
    "\n",
    "\n"
   ]
  },
  {
   "cell_type": "code",
   "execution_count": null,
   "metadata": {
    "collapsed": true
   },
   "outputs": [],
   "source": []
  }
 ],
 "metadata": {
  "kernelspec": {
   "display_name": "Python 3",
   "language": "python",
   "name": "python3"
  },
  "language_info": {
   "codemirror_mode": {
    "name": "ipython",
    "version": 3
   },
   "file_extension": ".py",
   "mimetype": "text/x-python",
   "name": "python",
   "nbconvert_exporter": "python",
   "pygments_lexer": "ipython3",
   "version": "3.6.2"
  }
 },
 "nbformat": 4,
 "nbformat_minor": 2
}

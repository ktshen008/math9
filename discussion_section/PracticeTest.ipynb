{
 "cells": [
  {
   "cell_type": "markdown",
   "metadata": {},
   "source": [
    "# Practice Test"
   ]
  },
  {
   "cell_type": "markdown",
   "metadata": {},
   "source": [
    "Problem (1) Write down the output of the following code. Attempt to do this without  running the code, then run the code to double check your answers."
   ]
  },
  {
   "cell_type": "markdown",
   "metadata": {},
   "source": [
    "a) \n",
    "```\n",
    "def f(n):\n",
    "    while n>1:\n",
    "        print(n)\n",
    "        if n%2==0:\n",
    "            n=n/2\n",
    "        else:\n",
    "            n=3*n+1\n",
    "```\n",
    "f(3)"
   ]
  },
  {
   "cell_type": "markdown",
   "metadata": {},
   "source": [
    "b)\n",
    "``` \n",
    "def f(n):\n",
    "    if n>3:\n",
    "        return (n-1)*g(n)\n",
    "    return 1\n",
    "def g(n):\n",
    "    return f((n//3)+1)\n",
    "print(f(6))\n",
    "```"
   ]
  },
  {
   "cell_type": "markdown",
   "metadata": {},
   "source": [
    "(c)\n",
    "```\n",
    "from functools import reduce\n",
    "x=reduce(lambda a,b:a+b,[1,2,3,4,5,6,7])\n",
    "print(x)\n",
    "```"
   ]
  },
  {
   "cell_type": "markdown",
   "metadata": {},
   "source": [
    "(d)\n",
    "```\n",
    "def f(xs):\n",
    "    if len(xs)==0:\n",
    "        return None\n",
    "    if len(xs)==1:\n",
    "        return xs[0]\n",
    "    else:\n",
    "        return max(xs[0],f(xs[1:]))\n",
    "print(f([1,2,3,4]))\n",
    "```"
   ]
  },
  {
   "cell_type": "markdown",
   "metadata": {},
   "source": [
    "2) Produce the following lists without for or while loops"
   ]
  },
  {
   "cell_type": "markdown",
   "metadata": {},
   "source": [
    "a)\n",
    "```\n",
    "[0,4,16,36,64,100,144,196,256,324,400]\n",
    "```"
   ]
  },
  {
   "cell_type": "markdown",
   "metadata": {},
   "source": [
    "b)\n",
    "```\n",
    "[1,2,3,4,6,7,8,9,11,12,13,14,16]\n",
    "```"
   ]
  },
  {
   "cell_type": "markdown",
   "metadata": {},
   "source": [
    "c)\n",
    "```\n",
    "[-1,3,-5,7,-9,11,-13,15,-17,19]\n",
    "```"
   ]
  },
  {
   "cell_type": "markdown",
   "metadata": {},
   "source": [
    "3) Write code to produce graphs satisfying the following conditions, import statements are not required."
   ]
  },
  {
   "cell_type": "markdown",
   "metadata": {},
   "source": [
    "a) a plot (using plt.plot) of $x^{1/3}cos(x)$ on the interval $[-3,4]$."
   ]
  },
  {
   "cell_type": "markdown",
   "metadata": {},
   "source": [
    "b) A scatter plot of 400 points standard normally distributed about the curve $y=x^2$ on the interval $[-2,2]$"
   ]
  },
  {
   "cell_type": "markdown",
   "metadata": {},
   "source": [
    "4) def functions to build numpy arrays satisfying the following patterns"
   ]
  },
  {
   "cell_type": "markdown",
   "metadata": {},
   "source": [
    "a) Implement a function that builds a tridiagonal matrix with 2s on the main diagonal, and 1s on the off diagonal"
   ]
  },
  {
   "cell_type": "markdown",
   "metadata": {},
   "source": [
    "Example\n",
    "```\n",
    "tri(5)=array([[2,1,0,0,0],\n",
    "              [1,2,1,0,0],\n",
    "              [0,1,2,1,0],\n",
    "              [0,0,1,2,1],\n",
    "              [0,0,0,1,2]])\n",
    "```"
   ]
  },
  {
   "cell_type": "code",
   "execution_count": 15,
   "metadata": {
    "collapsed": true
   },
   "outputs": [],
   "source": [
    "def tri(n):\n",
    "    pass"
   ]
  },
  {
   "cell_type": "markdown",
   "metadata": {},
   "source": [
    "b) Write a new piece of code that produces a similar tridiagonal matrix, but with -2 on the odd number rows (assuming the first row is row 1)"
   ]
  },
  {
   "cell_type": "markdown",
   "metadata": {},
   "source": [
    "Example\n",
    "``` \n",
    "newtri(5)=array([[-2,1,0,0,0],\n",
    "                 [1,2,1,0,0],\n",
    "                 [0,1,-2,1,0],\n",
    "                 [0,0,1,2,1],\n",
    "                 [0,0,0,1,-2]])\n",
    "```"
   ]
  },
  {
   "cell_type": "code",
   "execution_count": 16,
   "metadata": {
    "collapsed": true
   },
   "outputs": [],
   "source": [
    "def newtri(n):\n",
    "    pass"
   ]
  },
  {
   "cell_type": "markdown",
   "metadata": {},
   "source": [
    "5) Implement a function that will determine if a number is prime"
   ]
  },
  {
   "cell_type": "code",
   "execution_count": null,
   "metadata": {
    "collapsed": true
   },
   "outputs": [],
   "source": []
  },
  {
   "cell_type": "markdown",
   "metadata": {},
   "source": [
    "6) Write code that will sort a list. You may not use the python sort function."
   ]
  },
  {
   "cell_type": "markdown",
   "metadata": {},
   "source": [
    "The following code may be helpful\n",
    "```\n",
    "def argmax(xs): \n",
    "    current_max = xs[0]\n",
    "    current_max_location = 0\n",
    "    for i, x in enumerate(xs): \n",
    "        if x > current_max: \n",
    "            current_max = x \n",
    "            current_max_location = i \n",
    "    return current_max_location\n",
    "```"
   ]
  },
  {
   "cell_type": "markdown",
   "metadata": {},
   "source": [
    "7) Recall the Vector class constructed in lecture. Add a function that will produce the dot product of two vectors."
   ]
  },
  {
   "cell_type": "markdown",
   "metadata": {},
   "source": [
    "Recall the dot product of two vectors $<a,b,c>$ and $<x,y,z>$ is $ax+by+cz$"
   ]
  },
  {
   "cell_type": "markdown",
   "metadata": {},
   "source": [
    "```\n",
    "import math\n",
    "class Vector():\n",
    "    \n",
    "    def __init__(self, xx, yy, zz):\n",
    "        self.x = xx\n",
    "        self.y = yy\n",
    "        self.z = zz\n",
    "    \n",
    "    def norm(self):\n",
    "        return math.sqrt(self.x*self.x + self.y*self.y + self.z*self.z)\n",
    "\n",
    "    def normalize(self):\n",
    "        norm = self.norm()\n",
    "        self.x /= float(norm)\n",
    "        self.y /= float(norm)\n",
    "        self.z /= float(norm)    \n",
    "    \n",
    "    def __repr__(self):\n",
    "        return '< ' + str(self.x) + ', ' + str(self.y) + ', ' + str(self.z) + ' >'\n",
    "    def dot(self,w):\n",
    "        pass\n",
    "```        "
   ]
  },
  {
   "cell_type": "markdown",
   "metadata": {},
   "source": [
    "8) Write code that will find the minimum of the function $f(x,y)=x^2y^2+2x^2+2y^2-2x+3y-4$ using gradient descent. Use a starting point of $(x,y)=(1,1)$, and a learning rate $\\eta=.01$. Your code should print the minimum value found, and the point at which that value is found."
   ]
  },
  {
   "cell_type": "code",
   "execution_count": null,
   "metadata": {
    "collapsed": true
   },
   "outputs": [],
   "source": []
  }
 ],
 "metadata": {
  "kernelspec": {
   "display_name": "Python 3",
   "language": "python",
   "name": "python3"
  },
  "language_info": {
   "codemirror_mode": {
    "name": "ipython",
    "version": 3
   },
   "file_extension": ".py",
   "mimetype": "text/x-python",
   "name": "python",
   "nbconvert_exporter": "python",
   "pygments_lexer": "ipython3",
   "version": "3.6.1"
  }
 },
 "nbformat": 4,
 "nbformat_minor": 1
}

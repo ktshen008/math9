{
 "cells": [
  {
   "cell_type": "markdown",
   "metadata": {},
   "source": [
    "# Practice Test"
   ]
  },
  {
   "cell_type": "markdown",
   "metadata": {},
   "source": [
    "## (1) Write down the output of the following code. Attempt to do this without  running the code, then run the code to double check your answers."
   ]
  },
  {
   "cell_type": "markdown",
   "metadata": {},
   "source": [
    "a) \n",
    "```\n",
    "def f(n):\n",
    "    while n>1:\n",
    "        print(n)\n",
    "        if n%2==0:\n",
    "            n=n/2\n",
    "        else:\n",
    "            n=3*n+1\n",
    "```\n",
    "f(3)"
   ]
  },
  {
   "cell_type": "code",
   "execution_count": 1,
   "metadata": {
    "collapsed": false
   },
   "outputs": [
    {
     "name": "stdout",
     "output_type": "stream",
     "text": [
      "3\n",
      "10\n",
      "5.0\n",
      "16.0\n",
      "8.0\n",
      "4.0\n",
      "2.0\n"
     ]
    }
   ],
   "source": [
    "def f(n):\n",
    "    while n>1:\n",
    "        print(n)\n",
    "        if n%2==0:\n",
    "            n=n/2\n",
    "        else:\n",
    "            n=3*n+1\n",
    "f(3)"
   ]
  },
  {
   "cell_type": "markdown",
   "metadata": {},
   "source": [
    "3 is odd, so the next element is $3*3+1=10$, which is even, so the next term is $10/2=5$, etc."
   ]
  },
  {
   "cell_type": "markdown",
   "metadata": {},
   "source": [
    "b)\n",
    "``` \n",
    "def f(n):\n",
    "    if n>3:\n",
    "        return (n-1)*g(n)\n",
    "    return 1\n",
    "def g(n):\n",
    "    return f((n//3)+1)\n",
    "print(f(6))\n",
    "```"
   ]
  },
  {
   "cell_type": "code",
   "execution_count": 2,
   "metadata": {
    "collapsed": false
   },
   "outputs": [
    {
     "name": "stdout",
     "output_type": "stream",
     "text": [
      "5\n"
     ]
    }
   ],
   "source": [
    "def f(n):\n",
    "    if n>3:\n",
    "        return (n-1)*g(n)\n",
    "    return 1\n",
    "def g(n):\n",
    "    return f((n//3)+1)\n",
    "print(f(6))\n"
   ]
  },
  {
   "cell_type": "markdown",
   "metadata": {},
   "source": [
    "$f(6)=5*(g(2)=5$"
   ]
  },
  {
   "cell_type": "markdown",
   "metadata": {},
   "source": [
    "(c)\n",
    "```\n",
    "from functools import reduce\n",
    "x=reduce(lambda a,b:a+b,[1,2,3,4,5,6,7])\n",
    "print(x)\n",
    "```"
   ]
  },
  {
   "cell_type": "code",
   "execution_count": 3,
   "metadata": {
    "collapsed": false
   },
   "outputs": [
    {
     "name": "stdout",
     "output_type": "stream",
     "text": [
      "28\n"
     ]
    }
   ],
   "source": [
    "from functools import reduce\n",
    "x=reduce(lambda a,b:a+b,[1,2,3,4,5,6,7])\n",
    "print(x)"
   ]
  },
  {
   "cell_type": "markdown",
   "metadata": {},
   "source": [
    "Returns 1+2+3+...+7=28"
   ]
  },
  {
   "cell_type": "markdown",
   "metadata": {},
   "source": [
    "(d)\n",
    "```\n",
    "def f(xs):\n",
    "    if len(xs)==0:\n",
    "        return None\n",
    "    if len(xs)==1:\n",
    "        return xs[0]\n",
    "    else:\n",
    "        return max(xs[0],f(xs[1:]))\n",
    "print(f([1,2,3,4]))\n",
    "```"
   ]
  },
  {
   "cell_type": "code",
   "execution_count": 4,
   "metadata": {
    "collapsed": false
   },
   "outputs": [
    {
     "name": "stdout",
     "output_type": "stream",
     "text": [
      "4\n"
     ]
    }
   ],
   "source": [
    "def f(xs):\n",
    "    if len(xs)==0:\n",
    "        return None\n",
    "    if len(xs)==1:\n",
    "        return xs[0]\n",
    "    else:\n",
    "        return max(xs[0],f(xs[1:]))\n",
    "print(f([1,2,3,4]))\n"
   ]
  },
  {
   "cell_type": "markdown",
   "metadata": {},
   "source": [
    "This is a recursive function that returns the largest element of a list."
   ]
  },
  {
   "cell_type": "markdown",
   "metadata": {},
   "source": [
    "## 2) Produce the following lists without for or while loops"
   ]
  },
  {
   "cell_type": "markdown",
   "metadata": {},
   "source": [
    "a)\n",
    "```\n",
    "[0,4,16,36,64,100,144,196,256,324,400]\n",
    "```"
   ]
  },
  {
   "cell_type": "code",
   "execution_count": 5,
   "metadata": {
    "collapsed": false
   },
   "outputs": [
    {
     "data": {
      "text/plain": [
       "[0, 4, 16, 36, 64, 100, 144, 196, 256, 324, 400]"
      ]
     },
     "execution_count": 5,
     "metadata": {},
     "output_type": "execute_result"
    }
   ],
   "source": [
    "[i**2 for i in range(0,21) if i%2==0]"
   ]
  },
  {
   "cell_type": "markdown",
   "metadata": {},
   "source": [
    "b)\n",
    "```\n",
    "[1,2,3,4,6,7,8,9,11,12,13,14,16]\n",
    "```"
   ]
  },
  {
   "cell_type": "code",
   "execution_count": 6,
   "metadata": {
    "collapsed": false
   },
   "outputs": [
    {
     "data": {
      "text/plain": [
       "[1, 2, 3, 4, 6, 7, 8, 9, 11, 12, 13, 14, 16]"
      ]
     },
     "execution_count": 6,
     "metadata": {},
     "output_type": "execute_result"
    }
   ],
   "source": [
    "[i for i in range(17) if i%5!=0]"
   ]
  },
  {
   "cell_type": "markdown",
   "metadata": {},
   "source": [
    "c)\n",
    "```\n",
    "[-1,3,-5,7,-9,11,-13,15,-17,19]\n",
    "```"
   ]
  },
  {
   "cell_type": "code",
   "execution_count": 7,
   "metadata": {
    "collapsed": false
   },
   "outputs": [
    {
     "data": {
      "text/plain": [
       "[-1, 3, -5, 7, -9, 11, -13, 15, -17, 19]"
      ]
     },
     "execution_count": 7,
     "metadata": {},
     "output_type": "execute_result"
    }
   ],
   "source": [
    "[(-1)**(i+1)*(2*i+1) for i in range(0,10)]"
   ]
  },
  {
   "cell_type": "markdown",
   "metadata": {},
   "source": [
    "## 3) Write code to produce graphs satisfying the following conditions, import statements are not required."
   ]
  },
  {
   "cell_type": "markdown",
   "metadata": {},
   "source": [
    "a) a plot (using plt.plot) of $x^{1/3}cos(x)$ on the interval $[-3,4]$."
   ]
  },
  {
   "cell_type": "code",
   "execution_count": 8,
   "metadata": {
    "collapsed": false
   },
   "outputs": [
    {
     "data": {
      "image/png": "[encoded data removed]",
      "text/plain": [
       "<matplotlib.figure.Figure at 0x1b8daad0160>"
      ]
     },
     "metadata": {},
     "output_type": "display_data"
    }
   ],
   "source": [
    "\n",
    "import numpy as np\n",
    "from matplotlib import pyplot as plt\n",
    "#Python  didn't deal will with negative exponents, so I plot on [0,4] inestead\n",
    "x=np.linspace(0,4,200)\n",
    "y=x**(1/3.)*np.cos(x)\n",
    "plt.plot(x,y)\n",
    "plt.show()"
   ]
  },
  {
   "cell_type": "markdown",
   "metadata": {},
   "source": [
    "b) A scatter plot of 400 points standard normally distributed about the curve $y=x^2$ on the interval $[-2,2]$"
   ]
  },
  {
   "cell_type": "code",
   "execution_count": 9,
   "metadata": {
    "collapsed": false
   },
   "outputs": [
    {
     "data": {
      "image/png": "[encoded data removed]",
      "text/plain": [
       "<matplotlib.figure.Figure at 0x1b8dab450f0>"
      ]
     },
     "metadata": {},
     "output_type": "display_data"
    }
   ],
   "source": [
    "x=np.linspace(-2,2,400)\n",
    "y=x**2+np.random.normal(0,1,400)\n",
    "plt.scatter(x,y)\n",
    "plt.show()"
   ]
  },
  {
   "cell_type": "markdown",
   "metadata": {},
   "source": [
    "## 4) def functions to build numpy arrays satisfying the following patterns"
   ]
  },
  {
   "cell_type": "markdown",
   "metadata": {},
   "source": [
    "a) Implement a function that builds a tridiagonal matrix with 2s on the main diagonal, and 1s on the off diagonal"
   ]
  },
  {
   "cell_type": "markdown",
   "metadata": {},
   "source": [
    "Example\n",
    "```\n",
    "tri(5)=array([[2,1,0,0,0],\n",
    "              [1,2,1,0,0],\n",
    "              [0,1,2,1,0],\n",
    "              [0,0,1,2,1],\n",
    "              [0,0,0,1,2]])\n",
    "```"
   ]
  },
  {
   "cell_type": "code",
   "execution_count": 11,
   "metadata": {
    "collapsed": false
   },
   "outputs": [
    {
     "name": "stdout",
     "output_type": "stream",
     "text": [
      "[[2 1 0 0 0]\n",
      " [1 2 1 0 0]\n",
      " [0 1 2 1 0]\n",
      " [0 0 1 2 1]\n",
      " [0 0 0 1 2]]\n"
     ]
    }
   ],
   "source": [
    "def tri(n):\n",
    "    array=np.zeros((n,n))\n",
    "    #Notgraded, but python appears to default to float, so I change to int\n",
    "    array=array.astype(int)\n",
    "    for i in range(0,n):\n",
    "        for j in range(0,n):\n",
    "            #main diagonal\n",
    "            if i==j:\n",
    "                array[i,j]=2\n",
    "            if (j==i+1) or (j==i-1):\n",
    "                array[i,j]=1\n",
    "    return array\n",
    "print(tri(5))"
   ]
  },
  {
   "cell_type": "markdown",
   "metadata": {},
   "source": [
    "b) Write a new piece of code that produces a similar tridiagonal matrix, but with -2 on the odd number rows (assuming the first row is row 1)"
   ]
  },
  {
   "cell_type": "markdown",
   "metadata": {},
   "source": [
    "Example\n",
    "``` \n",
    "newtri(5)=array([[-2,1,0,0,0],\n",
    "                 [1,2,1,0,0],\n",
    "                 [0,1,-2,1,0],\n",
    "                 [0,0,1,2,1],\n",
    "                 [0,0,0,1,-2]])\n",
    "```"
   ]
  },
  {
   "cell_type": "code",
   "execution_count": 12,
   "metadata": {
    "collapsed": false
   },
   "outputs": [
    {
     "name": "stdout",
     "output_type": "stream",
     "text": [
      "[[-2  1  0  0  0]\n",
      " [ 1  2  1  0  0]\n",
      " [ 0  1 -2  1  0]\n",
      " [ 0  0  1  2  1]\n",
      " [ 0  0  0  1 -2]]\n"
     ]
    }
   ],
   "source": [
    "def newtri(n):\n",
    "    array=tri(n)\n",
    "    for i in range(n):\n",
    "        if i%2==0:\n",
    "            array[i,i]*=-1\n",
    "    return array\n",
    "print(newtri(5))"
   ]
  },
  {
   "cell_type": "markdown",
   "metadata": {},
   "source": [
    "## 5) Implement a function that will determine if a number is prime"
   ]
  },
  {
   "cell_type": "code",
   "execution_count": 19,
   "metadata": {
    "collapsed": false
   },
   "outputs": [
    {
     "name": "stdout",
     "output_type": "stream",
     "text": [
      "True\n",
      "False\n"
     ]
    }
   ],
   "source": [
    "def isprime(n):\n",
    "    bool=True\n",
    "    i=2\n",
    "    while i*i<=n:\n",
    "        if n%i==0:\n",
    "            bool=False\n",
    "            return bool\n",
    "        i=i+1\n",
    "    return bool\n",
    "print(isprime(7))\n",
    "print(isprime(8))\n",
    "    "
   ]
  },
  {
   "cell_type": "markdown",
   "metadata": {},
   "source": [
    "## 6) Write code that will sort a list. You may not use the python sort function."
   ]
  },
  {
   "cell_type": "markdown",
   "metadata": {},
   "source": [
    "The following code may be helpful\n",
    "```\n",
    "def argmax(xs): \n",
    "    current_max = xs[0]\n",
    "    current_max_location = 0\n",
    "    for i, x in enumerate(xs): \n",
    "        if x > current_max: \n",
    "            current_max = x \n",
    "            current_max_location = i \n",
    "    return current_max_location\n",
    "```"
   ]
  },
  {
   "cell_type": "code",
   "execution_count": 33,
   "metadata": {
    "collapsed": false
   },
   "outputs": [
    {
     "name": "stdout",
     "output_type": "stream",
     "text": [
      "[9, 7, 5, 4, 4, 3, 2, 1]\n"
     ]
    }
   ],
   "source": [
    "#I don't care if this is in ascending or descending order\n",
    "def argmax(xs): \n",
    "    current_max = xs[0]\n",
    "    current_max_location = 0\n",
    "    for i, x in enumerate(xs): \n",
    "        if x > current_max: \n",
    "            current_max = x \n",
    "            current_max_location = i \n",
    "    return current_max_location\n",
    "\n",
    "def sort(xs):\n",
    "    i=0\n",
    "    while i<len(xs)-1:\n",
    "        #Find index of largest element in the last n-i elements of the list\n",
    "        j=argmax(xs[i:])\n",
    "        #Collect the value corresponding to that index\n",
    "        val=xs[j+i]\n",
    "        #Switch the largest value found, with the ith element of the list.\n",
    "        xs[j+i]=xs[i]\n",
    "        \n",
    "        xs[i]=val\n",
    "        i=i+1\n",
    "        \n",
    "    return xs   \n",
    "print(sort([1,5,3,4,9,7,2,4]))"
   ]
  },
  {
   "cell_type": "markdown",
   "metadata": {},
   "source": [
    "## 7) Recall the Vector class constructed in lecture. Add a function that will produce the dot pr.oduct of two vectors."
   ]
  },
  {
   "cell_type": "markdown",
   "metadata": {},
   "source": [
    "Recall the dot produce of two vectors $<a,b,c>$ and $<x,y,z>$ is $ax+by+cz$"
   ]
  },
  {
   "cell_type": "markdown",
   "metadata": {},
   "source": [
    "```\n",
    "import math\n",
    "class Vector():\n",
    "    \n",
    "    def __init__(self, xx, yy, zz):\n",
    "        self.x = xx\n",
    "        self.y = yy\n",
    "        self.z = zz\n",
    "    \n",
    "    def norm(self):\n",
    "        return math.sqrt(self.x*self.x + self.y*self.y + self.z*self.z)\n",
    "\n",
    "    def normalize(self):\n",
    "        norm = self.norm()\n",
    "        self.x /= float(norm)\n",
    "        self.y /= float(norm)\n",
    "        self.z /= float(norm)    \n",
    "    \n",
    "    def __repr__(self):\n",
    "        return '< ' + str(self.x) + ', ' + str(self.y) + ', ' + str(self.z) + ' >'\n",
    "    def dot(self,w):\n",
    "        pass\n",
    "```        "
   ]
  },
  {
   "cell_type": "code",
   "execution_count": 34,
   "metadata": {
    "collapsed": true
   },
   "outputs": [],
   "source": [
    "import math\n",
    "class Vector():\n",
    "\n",
    "    def __init__(self, xx, yy, zz):\n",
    "        self.x = xx\n",
    "        self.y = yy\n",
    "        self.z = zz\n",
    "\n",
    "    def norm(self):\n",
    "        return math.sqrt(self.x*self.x + self.y*self.y + self.z*self.z)\n",
    "\n",
    "    def normalize(self):\n",
    "        norm = self.norm()\n",
    "        self.x /= float(norm)\n",
    "        self.y /= float(norm)\n",
    "        self.z /= float(norm)    \n",
    "\n",
    "    def __repr__(self):\n",
    "        return '< ' + str(self.x) + ', ' + str(self.y) + ', ' + str(self.z) + ' >'\n",
    "    def dot(self,w):\n",
    "        return self.x*w.x+self.y*w.y+self.z+w.z"
   ]
  },
  {
   "cell_type": "markdown",
   "metadata": {},
   "source": [
    "## 8) Write code that will find the minimum of the function $f(x,y)=x^2y^2+2x^2+2y^2-2x+3y-4$ using gradient descent. Use a starting point of $(x,y)=(1,1)$, and a learning rate $\\eta=.01$. Your code should print the minimum value found, and the point at which that value is found."
   ]
  },
  {
   "cell_type": "code",
   "execution_count": 37,
   "metadata": {
    "collapsed": false
   },
   "outputs": [
    {
     "name": "stdout",
     "output_type": "stream",
     "text": [
      "-5.5216882162859715\n",
      "0.403036285982841 -0.6936614266385213\n"
     ]
    }
   ],
   "source": [
    "f=lambda x,y: x**2*y**2+2*x**2+2*y**2-2*x+3*y-4\n",
    "eta=.0001\n",
    "dfdx=lambda x,y: 2*x*y**2+4*x-2\n",
    "dfdy=lambda x,y: 2*y*x**2+4*y+3\n",
    "x,y=1,1\n",
    "#This was arbitrary\n",
    "numsteps=100000\n",
    "\n",
    "for i in range(0,numsteps):\n",
    "    x0=dfdx(x,y)\n",
    "    y0=dfdy(x,y)\n",
    "    x=x-eta*x0\n",
    "    y=y-eta*y0\n",
    "print(f(x,y))\n",
    "print(x,y)\n",
    "\n",
    "\n"
   ]
  },
  {
   "cell_type": "code",
   "execution_count": null,
   "metadata": {
    "collapsed": true
   },
   "outputs": [],
   "source": []
  }
 ],
 "metadata": {
  "anaconda-cloud": {},
  "kernelspec": {
   "display_name": "Python [default]",
   "language": "python",
   "name": "python3"
  },
  "language_info": {
   "codemirror_mode": {
    "name": "ipython",
    "version": 3
   },
   "file_extension": ".py",
   "mimetype": "text/x-python",
   "name": "python",
   "nbconvert_exporter": "python",
   "pygments_lexer": "ipython3",
   "version": "3.5.2"
  }
 },
 "nbformat": 4,
 "nbformat_minor": 1
}

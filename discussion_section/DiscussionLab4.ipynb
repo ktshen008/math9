{
 "cells": [
  {
   "cell_type": "markdown",
   "metadata": {},
   "source": [
    "# More Sorting"
   ]
  },
  {
   "cell_type": "markdown",
   "metadata": {},
   "source": [
    "## Merge Sort"
   ]
  },
  {
   "cell_type": "markdown",
   "metadata": {},
   "source": [
    "We can also use recursion to build a list sorting algorithm. Here is the premise. Given a list, we divide the sequence into two subsequences of length n/2 (give or take 1), for n the length of the list.\n",
    "\n",
    "We sort the smaller lists\n",
    "\n",
    "We merge the sorted subsequences together."
   ]
  },
  {
   "cell_type": "markdown",
   "metadata": {},
   "source": [
    "We will first need a merge function, that will take in a list, A, and three indices $p\\leq q<r$. Assuming A[p:q+1] and A[q+1:r+1] are in sorted order, our merge function will create a single sorted subarray that replaces the current subarray A[p:r]."
   ]
  },
  {
   "cell_type": "code",
   "execution_count": 1,
   "metadata": {
    "collapsed": false
   },
   "outputs": [],
   "source": [
    "def Merge(A,p,q,r):\n",
    "    list1=A[p:q+1]\n",
    "    \n",
    "   \n",
    "    list2=A[q+1:r+1]\n",
    "    \n",
    "    i=0\n",
    "    while len(list1)>0 and len(list2)>0:\n",
    "        if list1[0]<list2[0]:\n",
    "        \n",
    "            A[p+i]=list1[0]\n",
    "            del list1[0]\n",
    "            i+=1\n",
    "            \n",
    "            \n",
    "        else:\n",
    "            \n",
    "            A[p+i]=list2[0]\n",
    "            del list2[0]\n",
    "            i+=1\n",
    "            \n",
    "    if len(list2)>0:\n",
    "       \n",
    "        A[i+p:r+1]=list2\n",
    "    if len(list1)>0:\n",
    "        A[i+p:r+1]=list1\n",
    "        \n",
    "\n",
    "            \n"
   ]
  },
  {
   "cell_type": "code",
   "execution_count": null,
   "metadata": {
    "collapsed": false
   },
   "outputs": [],
   "source": []
  },
  {
   "cell_type": "code",
   "execution_count": 2,
   "metadata": {
    "collapsed": false
   },
   "outputs": [
    {
     "data": {
      "text/plain": [
       "[1, 3, 4, 5, 6, 7, 8]"
      ]
     },
     "execution_count": 2,
     "metadata": {},
     "output_type": "execute_result"
    }
   ],
   "source": [
    "A=[1,3,5,7,4,6,8]\n",
    "Merge(A,1,3,6)\n",
    "A"
   ]
  },
  {
   "cell_type": "code",
   "execution_count": 11,
   "metadata": {
    "collapsed": false
   },
   "outputs": [],
   "source": [
    "def Merge_Sort(A,p,r):\n",
    "    if p<r:\n",
    "        q=int((p+r)/2)\n",
    "        \n",
    "        Merge_Sort(A,p,q)\n",
    "        Merge_Sort(A,q+1,r)\n",
    "        Merge(A,p,q,r)\n",
    "    "
   ]
  },
  {
   "cell_type": "code",
   "execution_count": 12,
   "metadata": {
    "collapsed": false
   },
   "outputs": [
    {
     "data": {
      "text/plain": [
       "[1, 2, 3, 3]"
      ]
     },
     "execution_count": 12,
     "metadata": {},
     "output_type": "execute_result"
    }
   ],
   "source": [
    "A=[2,3,3,1]\n",
    "Merge_Sort(A,0,len(A)-1)\n",
    "\n",
    "A"
   ]
  },
  {
   "cell_type": "code",
   "execution_count": 13,
   "metadata": {
    "collapsed": false
   },
   "outputs": [
    {
     "data": {
      "text/plain": [
       "[-1.7747209832104727,\n",
       " -0.82516168961257175,\n",
       " -0.67866734920325067,\n",
       " -0.5036201783025287,\n",
       " -0.08106343220485919,\n",
       " 0.056603697337763145,\n",
       " 0.22492082089795265,\n",
       " 0.26112567009959553,\n",
       " 0.35034248459744083,\n",
       " 0.5644802816533,\n",
       " 1.3505472307104274,\n",
       " 1.3849408984401554,\n",
       " 1.4639573379967825,\n",
       " 1.8612394570945219,\n",
       " 2.8142471157720483]"
      ]
     },
     "execution_count": 13,
     "metadata": {},
     "output_type": "execute_result"
    }
   ],
   "source": [
    "import numpy as np\n",
    "A=np.random.randn(15)\n",
    "A=list(A)\n",
    "Merge_Sort(A,0,len(A)-1)\n",
    "A"
   ]
  },
  {
   "cell_type": "markdown",
   "metadata": {},
   "source": [
    "The time complexity for Merge sort is $O(n\\log(n)$, the time complexity for Insertion Sort (the sort method defined previously) is $O(n^2)$. We therefore expect the Merge Sort algorithm to take significantly less time than the Insertion sort, especially if the length of our lists are large."
   ]
  },
  {
   "cell_type": "code",
   "execution_count": 6,
   "metadata": {
    "collapsed": false
   },
   "outputs": [
    {
     "name": "stdout",
     "output_type": "stream",
     "text": [
      "1.5033308740691726e-05\n",
      "2.2761274679681847e-05\n",
      "3.3145728910199826e-05\n",
      "0.00013970713424080582\n",
      "0.0002851498682019559\n",
      "0.0004882504730360401\n",
      "0.0009290464052279688\n",
      "0.0014578686994437071\n",
      "0.003307448672419976\n",
      "0.0077675717644274484\n",
      "0.019957230538506406\n",
      "0.036035807047180436\n",
      "0.07972441348964755\n",
      "0.18893029253973564\n",
      "0.47098722349881256\n",
      "1.375607701884054\n",
      "4.574254160724787\n",
      "17.06880208075483\n",
      "2943.295547604874\n"
     ]
    }
   ],
   "source": [
    "#This code looks at the average time it takes for Merge_Sort to sort a list of 2**i numbers for i in range(1,15)\n",
    "np.random.seed(42)\n",
    "import time\n",
    "list1=[2**i for i in range(1,15)]\n",
    "for i in list1:\n",
    "    start =time.clock()\n",
    "    for j in range(0,10):\n",
    "        Merge_Sort(list(np.random.randn(i)),0,i-1) \n",
    "    elapsed=time.clock()\n",
    "    print(((elapsed-start)/10))"
   ]
  },
  {
   "cell_type": "code",
   "execution_count": 7,
   "metadata": {
    "collapsed": false
   },
   "outputs": [],
   "source": [
    "# Insertion Sort Code\n",
    "def swap(xs, i, j):\n",
    "    dum = xs[i]\n",
    "    xs[i] = xs[j]\n",
    "    xs[j] = dum\n",
    "    \n",
    "\n",
    "def argmax(xs, start, end):  \n",
    "    '''returns the index of the max of a sub-list'''\n",
    "\n",
    "    current_max = xs[start]\n",
    "    current_max_location = start\n",
    "    for i in range(start, end):\n",
    "        if current_max < xs[i]:\n",
    "            current_max = xs[i]\n",
    "            current_max_location = i\n",
    "    return current_max_location\n",
    "def sort(xs):\n",
    "    N = len(xs)\n",
    "    for i in range(N):\n",
    "        swap(xs, argmax(xs,i,N), i)\n",
    "    \n"
   ]
  },
  {
   "cell_type": "code",
   "execution_count": 8,
   "metadata": {
    "collapsed": false
   },
   "outputs": [
    {
     "name": "stdout",
     "output_type": "stream",
     "text": [
      "3.181748470524326e-05\n",
      "2.7651628261082806e-05\n",
      "1.5516306302743032e-05\n",
      "3.344760261825286e-05\n",
      "8.506800004397519e-05\n",
      "0.0002302088603755692\n",
      "0.0007569180386781226\n",
      "0.00330273944309738\n",
      "0.013069197897493723\n",
      "0.04959295354419737\n",
      "0.2157723558582802\n",
      "0.8146652039878972\n",
      "3.2406087101418963\n",
      "13.041049928697612\n",
      "51.62327572778704\n",
      "212.2942229228378\n"
     ]
    },
    {
     "ename": "KeyboardInterrupt",
     "evalue": "",
     "output_type": "error",
     "traceback": [
      "\u001b[0;31m---------------------------------------------------------------------------\u001b[0m",
      "\u001b[0;31mKeyboardInterrupt\u001b[0m                         Traceback (most recent call last)",
      "\u001b[0;32m<ipython-input-8-4112d27e78fe>\u001b[0m in \u001b[0;36m<module>\u001b[0;34m()\u001b[0m\n\u001b[1;32m      5\u001b[0m     \u001b[0mstart\u001b[0m \u001b[1;33m=\u001b[0m\u001b[0mtime\u001b[0m\u001b[1;33m.\u001b[0m\u001b[0mclock\u001b[0m\u001b[1;33m(\u001b[0m\u001b[1;33m)\u001b[0m\u001b[1;33m\u001b[0m\u001b[0m\n\u001b[1;32m      6\u001b[0m     \u001b[1;32mfor\u001b[0m \u001b[0mj\u001b[0m \u001b[1;32min\u001b[0m \u001b[0mrange\u001b[0m\u001b[1;33m(\u001b[0m\u001b[1;36m0\u001b[0m\u001b[1;33m,\u001b[0m\u001b[1;36m10\u001b[0m\u001b[1;33m)\u001b[0m\u001b[1;33m:\u001b[0m\u001b[1;33m\u001b[0m\u001b[0m\n\u001b[0;32m----> 7\u001b[0;31m         \u001b[0msort\u001b[0m\u001b[1;33m(\u001b[0m\u001b[0mlist\u001b[0m\u001b[1;33m(\u001b[0m\u001b[0mnp\u001b[0m\u001b[1;33m.\u001b[0m\u001b[0mrandom\u001b[0m\u001b[1;33m.\u001b[0m\u001b[0mrandn\u001b[0m\u001b[1;33m(\u001b[0m\u001b[0mi\u001b[0m\u001b[1;33m)\u001b[0m\u001b[1;33m)\u001b[0m\u001b[1;33m)\u001b[0m\u001b[1;33m\u001b[0m\u001b[0m\n\u001b[0m\u001b[1;32m      8\u001b[0m     \u001b[0melapsed\u001b[0m\u001b[1;33m=\u001b[0m\u001b[0mtime\u001b[0m\u001b[1;33m.\u001b[0m\u001b[0mclock\u001b[0m\u001b[1;33m(\u001b[0m\u001b[1;33m)\u001b[0m\u001b[1;33m\u001b[0m\u001b[0m\n\u001b[1;32m      9\u001b[0m     \u001b[0mprint\u001b[0m\u001b[1;33m(\u001b[0m\u001b[1;33m(\u001b[0m\u001b[1;33m(\u001b[0m\u001b[0melapsed\u001b[0m\u001b[1;33m-\u001b[0m\u001b[0mstart\u001b[0m\u001b[1;33m)\u001b[0m\u001b[1;33m/\u001b[0m\u001b[1;36m10\u001b[0m\u001b[1;33m)\u001b[0m\u001b[1;33m)\u001b[0m\u001b[1;33m\u001b[0m\u001b[0m\n",
      "\u001b[0;32m<ipython-input-7-b4e67f86f193>\u001b[0m in \u001b[0;36msort\u001b[0;34m(xs)\u001b[0m\n\u001b[1;32m     19\u001b[0m     \u001b[0mN\u001b[0m \u001b[1;33m=\u001b[0m \u001b[0mlen\u001b[0m\u001b[1;33m(\u001b[0m\u001b[0mxs\u001b[0m\u001b[1;33m)\u001b[0m\u001b[1;33m\u001b[0m\u001b[0m\n\u001b[1;32m     20\u001b[0m     \u001b[1;32mfor\u001b[0m \u001b[0mi\u001b[0m \u001b[1;32min\u001b[0m \u001b[0mrange\u001b[0m\u001b[1;33m(\u001b[0m\u001b[0mN\u001b[0m\u001b[1;33m)\u001b[0m\u001b[1;33m:\u001b[0m\u001b[1;33m\u001b[0m\u001b[0m\n\u001b[0;32m---> 21\u001b[0;31m         \u001b[0mswap\u001b[0m\u001b[1;33m(\u001b[0m\u001b[0mxs\u001b[0m\u001b[1;33m,\u001b[0m \u001b[0margmax\u001b[0m\u001b[1;33m(\u001b[0m\u001b[0mxs\u001b[0m\u001b[1;33m,\u001b[0m\u001b[0mi\u001b[0m\u001b[1;33m,\u001b[0m\u001b[0mN\u001b[0m\u001b[1;33m)\u001b[0m\u001b[1;33m,\u001b[0m \u001b[0mi\u001b[0m\u001b[1;33m)\u001b[0m\u001b[1;33m\u001b[0m\u001b[0m\n\u001b[0m\u001b[1;32m     22\u001b[0m \u001b[1;33m\u001b[0m\u001b[0m\n",
      "\u001b[0;32m<ipython-input-7-b4e67f86f193>\u001b[0m in \u001b[0;36margmax\u001b[0;34m(xs, start, end)\u001b[0m\n\u001b[1;32m     12\u001b[0m     \u001b[0mcurrent_max_location\u001b[0m \u001b[1;33m=\u001b[0m \u001b[0mstart\u001b[0m\u001b[1;33m\u001b[0m\u001b[0m\n\u001b[1;32m     13\u001b[0m     \u001b[1;32mfor\u001b[0m \u001b[0mi\u001b[0m \u001b[1;32min\u001b[0m \u001b[0mrange\u001b[0m\u001b[1;33m(\u001b[0m\u001b[0mstart\u001b[0m\u001b[1;33m,\u001b[0m \u001b[0mend\u001b[0m\u001b[1;33m)\u001b[0m\u001b[1;33m:\u001b[0m\u001b[1;33m\u001b[0m\u001b[0m\n\u001b[0;32m---> 14\u001b[0;31m         \u001b[1;32mif\u001b[0m \u001b[0mcurrent_max\u001b[0m \u001b[1;33m<\u001b[0m \u001b[0mxs\u001b[0m\u001b[1;33m[\u001b[0m\u001b[0mi\u001b[0m\u001b[1;33m]\u001b[0m\u001b[1;33m:\u001b[0m\u001b[1;33m\u001b[0m\u001b[0m\n\u001b[0m\u001b[1;32m     15\u001b[0m             \u001b[0mcurrent_max\u001b[0m \u001b[1;33m=\u001b[0m \u001b[0mxs\u001b[0m\u001b[1;33m[\u001b[0m\u001b[0mi\u001b[0m\u001b[1;33m]\u001b[0m\u001b[1;33m\u001b[0m\u001b[0m\n\u001b[1;32m     16\u001b[0m             \u001b[0mcurrent_max_location\u001b[0m \u001b[1;33m=\u001b[0m \u001b[0mi\u001b[0m\u001b[1;33m\u001b[0m\u001b[0m\n",
      "\u001b[0;31mKeyboardInterrupt\u001b[0m: "
     ]
    }
   ],
   "source": [
    "#This code looks at the average time it takes for Regular Insertion Sort to sort a list of 2**i numbers for i in range(1,15)\n",
    "np.random.seed(42)\n",
    "import time\n",
    "list1=[2**i for i in range(1,15)]\n",
    "for i in list1:\n",
    "    start =time.clock()\n",
    "    for j in range(0,10):\n",
    "        sort(list(np.random.randn(i))) \n",
    "    elapsed=time.clock()\n",
    "    print(((elapsed-start)/10))\n"
   ]
  },
  {
   "cell_type": "code",
   "execution_count": null,
   "metadata": {
    "collapsed": true
   },
   "outputs": [],
   "source": []
  },
  {
   "cell_type": "code",
   "execution_count": null,
   "metadata": {
    "collapsed": true
   },
   "outputs": [],
   "source": []
  }
 ],
 "metadata": {
  "anaconda-cloud": {},
  "kernelspec": {
   "display_name": "Python [default]",
   "language": "python",
   "name": "python3"
  },
  "language_info": {
   "codemirror_mode": {
    "name": "ipython",
    "version": 3
   },
   "file_extension": ".py",
   "mimetype": "text/x-python",
   "name": "python",
   "nbconvert_exporter": "python",
   "pygments_lexer": "ipython3",
   "version": "3.5.2"
  }
 },
 "nbformat": 4,
 "nbformat_minor": 1
}

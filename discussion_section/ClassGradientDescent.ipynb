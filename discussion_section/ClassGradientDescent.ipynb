{
 "cells": [
  {
   "cell_type": "code",
   "execution_count": null,
   "metadata": {
    "collapsed": true
   },
   "outputs": [],
   "source": []
  },
  {
   "cell_type": "markdown",
   "metadata": {},
   "source": [
    "# Gradient Descent Lab"
   ]
  },
  {
   "cell_type": "markdown",
   "metadata": {},
   "source": [
    "We have coded examples of gradient descent for two and three variables in class and discussion. Today, we will attempt to code gradient descent for a more general function. That is, given some random, differentiable function from $\\mathbb{R}^n\\rightarrow \\mathbb{R}$, our function will run gradient descent and attempt to find the minimum value of the function, if it exists. Recall, the formula for gradient descent is given by\n",
    "\n",
    "$x\\leftarrow x-\\eta \\nabla f(x)$.\n",
    "\n",
    "I have given you code for a function of 4 variables that has a unique minimum, for you to test your code on."
   ]
  },
  {
   "cell_type": "code",
   "execution_count": 16,
   "metadata": {},
   "outputs": [],
   "source": [
    "import numpy as np\n",
    "#x is a numpy array\n",
    "def f(x):\n",
    "    return x[0]**2+x[1]**2+x[2]**2+x[3]**2+x[4]**2\n",
    "#on your code adjust so each variable is squared\n",
    "#This piece of code will take in a function, and give the number of indices in its input\n",
    "def varfunc(g):\n",
    "    i=1\n",
    "    while True:\n",
    "        try:\n",
    "            array=np.zeros(i)\n",
    "            g(array)\n",
    "        except:\n",
    "            pass\n",
    "        else: \n",
    "            break\n",
    "        i=i+1\n",
    "    return i\n",
    "def gradient(f,x,length,h=.00001):\n",
    "    #Takes in function, point where the gradient is desired, the number of indices in that point, and \n",
    "    # a small number h used to estimate the partial derivative\n",
    "    \n",
    "    #returns the estimated gradient at a point\n",
    "    gradientvector=np.zeros(length,dtype=np.float)\n",
    "    for i in range(length):\n",
    "        y=x.copy()\n",
    "        y[i]=y[i]+h\n",
    "        gradientvector[i]=(f(y)-f(x))/h\n",
    "        \n",
    "    return gradientvector\n",
    "def gradientdescent(f,numsteps=20000,learn_par=.001):\n",
    "    # Takes in a function, the number of steps and a learning parameter\n",
    "    \n",
    "    #randomly choose a starting vector using the normal distribution\n",
    "    #Repeatedly iterate using gradient descent\n",
    "    #store each point in x_val\n",
    "    \n",
    "    #output the final last point, the function value, and the distance between the last point, and the second to the last point\n",
    "    length=varfunc(f)\n",
    "    x_vals=[]\n",
    "    x0=np.random.normal(0,1,length)\n",
    "    for i in range(numsteps):\n",
    "        grad=gradient(f,x0,length)\n",
    "        x0=x0-learn_par*grad\n",
    "        x_vals.append(x0)\n",
    "    \n",
    "    \n",
    "    return x0,f(x0),np.linalg.norm(x_vals[-1]-x_vals[-2])"
   ]
  },
  {
   "cell_type": "code",
   "execution_count": 18,
   "metadata": {},
   "outputs": [
    {
     "name": "stdout",
     "output_type": "stream",
     "text": [
      "(array([ -5.00000000e-06,  -5.00000000e-06,  -5.00000000e-06]), 7.499999999989098e-11, 1.442445132346284e-20)\n"
     ]
    }
   ],
   "source": [
    "print(gradientdescent(f))"
   ]
  },
  {
   "cell_type": "markdown",
   "metadata": {},
   "source": [
    "$f(x,y,z,w)=x^2+y^2+z^2+w^2$\n",
    "\n",
    "$\\nabla f=[2x,2y,2z,2w]$"
   ]
  },
  {
   "cell_type": "markdown",
   "metadata": {},
   "source": [
    "To find the partial derivative with respect to $x_i$, we can estimate it by $(f(x+he_i)-f(x))/h$"
   ]
  },
  {
   "cell_type": "markdown",
   "metadata": {},
   "source": [
    "x=[1,2,3]\n",
    "\n",
    "$x+he_1$=[1+h,2,3]"
   ]
  },
  {
   "cell_type": "markdown",
   "metadata": {},
   "source": [
    "$\\nabla f(x)=\\langle \\frac{\\partial f}{\\partial x_i}\\rangle$"
   ]
  },
  {
   "cell_type": "markdown",
   "metadata": {},
   "source": [
    "if we are dealing with 4 variables, and $x=[x_1,x_2,x_3,x_4]$, then the gradient is estimated by $[(f([x_1+h,x_2,x_2,x_4])-f([x_1,x_2,x_3,x_4]))/h,\\dots,(f([x_1,x_2,x_2,x_4+h])-f([x_1,x_2,x_3,x_4]))/h]$"
   ]
  },
  {
   "cell_type": "code",
   "execution_count": null,
   "metadata": {
    "collapsed": true
   },
   "outputs": [],
   "source": []
  }
 ],
 "metadata": {
  "kernelspec": {
   "display_name": "Python 3",
   "language": "python",
   "name": "python3"
  },
  "language_info": {
   "codemirror_mode": {
    "name": "ipython",
    "version": 3
   },
   "file_extension": ".py",
   "mimetype": "text/x-python",
   "name": "python",
   "nbconvert_exporter": "python",
   "pygments_lexer": "ipython3",
   "version": "3.6.2"
  }
 },
 "nbformat": 4,
 "nbformat_minor": 1
}

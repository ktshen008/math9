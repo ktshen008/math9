{
 "cells": [
  {
   "cell_type": "markdown",
   "metadata": {},
   "source": [
    "# Last time\n",
    "\n",
    "We covered: Slicing, images, histograms.\n",
    "\n",
    "In particular, recall how slicing works with lists: "
   ]
  },
  {
   "cell_type": "code",
   "execution_count": 1,
   "metadata": {
    "scrolled": true
   },
   "outputs": [
    {
     "name": "stdout",
     "output_type": "stream",
     "text": [
      "xs = [0, 1, 2, 3] ys = [0, 1]\n",
      "xs = [0, 1, 2, 3] ys = [999, 1]\n"
     ]
    }
   ],
   "source": [
    "xs = [0,1,2,3]\n",
    "ys = xs[0:2]\n",
    "print 'xs =', xs, 'ys =', ys\n",
    "ys[0] = 999\n",
    "print 'xs =', xs, 'ys =', ys"
   ]
  },
  {
   "cell_type": "markdown",
   "metadata": {},
   "source": [
    "On the other hand, with numpy arrays:"
   ]
  },
  {
   "cell_type": "code",
   "execution_count": 2,
   "metadata": {},
   "outputs": [
    {
     "name": "stdout",
     "output_type": "stream",
     "text": [
      "X = [0 1 2 3] Y = [0 1]\n",
      "X = [999   1   2   3] Y = [999   1]\n"
     ]
    }
   ],
   "source": [
    "import numpy as np \n",
    "X = np.array([0,1,2,3])\n",
    "Y = X[0:2]\n",
    "print 'X =', X, 'Y =', Y\n",
    "Y[0] = 999\n",
    "print 'X =', X, 'Y =', Y"
   ]
  },
  {
   "cell_type": "markdown",
   "metadata": {},
   "source": [
    "In lists, slicing always makes a fresh copy, whereas for numpy arrays, slicing makes a reference to that part of the array. This makes sense because if you have some huge dataset, you don't want to copy the whole dataset when you want to look at a slice of it. "
   ]
  },
  {
   "cell_type": "markdown",
   "metadata": {},
   "source": [
    "# Randomness"
   ]
  },
  {
   "cell_type": "markdown",
   "metadata": {},
   "source": [
    "Randomness is used a lot both in mathematics and the real world.\n",
    "\n",
    "Generally, a random number comes from a probability distribution. \n",
    "\n",
    "The distribution might be discrete: i.e. \n",
    "it comes from a set \n",
    "\n",
    "$$ \\{ (x_1, p_1), ..., (x_n, p_n) \\},$$\n",
    "\n",
    "where you get outcome $x_i$ with probability $p_i$. It is assumed that $\\sum_i p_i = 1$ (if not you normalize the p's so their sum is 1). The function that takes $x_i \\mapsto p_i$ is called the *probability mass function*.\n",
    "\n",
    "For continuous random numbers, one normally uses a * probability density function*, e.g., \n",
    "\n",
    "$$ p(x) = \\frac{1}{\\sqrt{2\\pi}\\sigma}\\exp\\left({-\\frac{1}{2}\\left(\\frac{x}{\\sigma}\\right)^2}\\right)$$\n",
    "\n",
    "The probability of a random number from this distribution being in the interval $[a,b]$ is then:\n",
    "\n",
    "$$\\int_a^b p(x)dx$$\n",
    "\n",
    "The best known distributions are the uniform distribution and the normal distribution. "
   ]
  },
  {
   "cell_type": "code",
   "execution_count": 3,
   "metadata": {
    "scrolled": true
   },
   "outputs": [
    {
     "data": {
      "text/plain": [
       "[<matplotlib.lines.Line2D at 0x10f0dc0d0>]"
      ]
     },
     "execution_count": 3,
     "metadata": {},
     "output_type": "execute_result"
    },
    {
     "data": {
      "image/png": "[encoded data removed]",
      "text/plain": [
       "<matplotlib.figure.Figure at 0x10de99910>"
      ]
     },
     "metadata": {},
     "output_type": "display_data"
    }
   ],
   "source": [
    "# let's graph the density function of the normal distribution.\n",
    "import matplotlib.pyplot as plt\n",
    "%matplotlib inline\n",
    "from math import pi, sqrt, e\n",
    "X = np.linspace(-5,5,300)\n",
    "Y = 1/sqrt(2*pi)*e**(-0.5*X*X)\n",
    "plt.plot(X, Y)"
   ]
  },
  {
   "cell_type": "markdown",
   "metadata": {},
   "source": [
    "The easiest distribution to understand is the uniform distribution: all numbers in a given range are equally likely. In python the function `random.random()` will produce a random number in $(0,1)$."
   ]
  },
  {
   "cell_type": "code",
   "execution_count": 4,
   "metadata": {
    "scrolled": false
   },
   "outputs": [
    {
     "name": "stdout",
     "output_type": "stream",
     "text": [
      "0.639426798458\n",
      "0.0250107552227\n",
      "0.275029318369\n",
      "0.223210738149\n",
      "0.736471214164\n",
      "0.676699487423\n",
      "0.892179567705\n",
      "0.0869388326294\n",
      "0.421921819685\n",
      "0.0297972194381\n",
      "0.218637974804\n",
      "0.505355288103\n",
      "0.0265359696839\n",
      "0.198837650687\n",
      "0.64988443778\n"
     ]
    }
   ],
   "source": [
    "import random\n",
    "random.seed(42)  #optional: the seed will initialize the random number generator\n",
    "for i in range(15):\n",
    "    print random.random()"
   ]
  },
  {
   "cell_type": "markdown",
   "metadata": {},
   "source": [
    "How would we turn this into random numbers from a to b?"
   ]
  },
  {
   "cell_type": "code",
   "execution_count": 5,
   "metadata": {},
   "outputs": [
    {
     "name": "stdout",
     "output_type": "stream",
     "text": [
      "0.0898829612064\n",
      "-0.559118755919\n",
      "0.178531367752\n",
      "0.618860913356\n",
      "-0.987002480644\n",
      "0.611638503666\n",
      "0.396278789976\n",
      "-0.319498966964\n",
      "-0.689041000376\n",
      "0.914426144414\n"
     ]
    }
   ],
   "source": [
    "def rnum(a,b):\n",
    "    return a + (b-a)*random.random()\n",
    "\n",
    "for i in range(10):\n",
    "    print rnum(-1,1)"
   ]
  },
  {
   "cell_type": "markdown",
   "metadata": {},
   "source": [
    "You can use numpy to create numpy arrays with random numbers: "
   ]
  },
  {
   "cell_type": "code",
   "execution_count": 6,
   "metadata": {
    "scrolled": false
   },
   "outputs": [
    {
     "data": {
      "text/plain": [
       "<matplotlib.collections.PathCollection at 0x10f1edc90>"
      ]
     },
     "execution_count": 6,
     "metadata": {},
     "output_type": "execute_result"
    },
    {
     "data": {
      "image/png": "[encoded data removed]",
      "text/plain": [
       "<matplotlib.figure.Figure at 0x10f133710>"
      ]
     },
     "metadata": {},
     "output_type": "display_data"
    }
   ],
   "source": [
    "N = 300\n",
    "X = np.random.uniform(low=0,high=1,size=N)\n",
    "Y = np.random.uniform(low=0,high=1,size=N)\n",
    "plt.scatter(X,Y)"
   ]
  },
  {
   "cell_type": "markdown",
   "metadata": {},
   "source": [
    "What if we wanted to wanted to add some randomness to an otherwise deterministic (non-random) function?"
   ]
  },
  {
   "cell_type": "code",
   "execution_count": 7,
   "metadata": {},
   "outputs": [
    {
     "data": {
      "text/plain": [
       "<matplotlib.collections.PathCollection at 0x10f2db190>"
      ]
     },
     "execution_count": 7,
     "metadata": {},
     "output_type": "execute_result"
    },
    {
     "data": {
      "image/png": "[encoded data removed]",
      "text/plain": [
       "<matplotlib.figure.Figure at 0x10f133c10>"
      ]
     },
     "metadata": {},
     "output_type": "display_data"
    }
   ],
   "source": [
    "X = np.linspace(0,1,100)\n",
    "Y = 3 * X + 1 # line\n",
    "plt.plot(X, Y, \"r\") # line plot\n",
    "\n",
    "Z = Y + np.random.normal(0,1,len(X)) # add some noise to the line\n",
    "plt.scatter(X, Z) # scatter plot"
   ]
  },
  {
   "cell_type": "markdown",
   "metadata": {},
   "source": [
    "Getting the average of a bunch of random integers:"
   ]
  },
  {
   "cell_type": "code",
   "execution_count": 8,
   "metadata": {},
   "outputs": [
    {
     "name": "stdout",
     "output_type": "stream",
     "text": [
      "random integers: [ 3.  1.  1. ...,  5.  6.  5.]\n",
      "average of random integers: 3.50185\n"
     ]
    }
   ],
   "source": [
    "N = 20000\n",
    "X = np.zeros(N)\n",
    "for i in range(N):\n",
    "    X[i] = random.randint(1, 6)   # from 1 to 6 inclusive\n",
    "\n",
    "print 'random integers:', X\n",
    "print 'average of random integers:', np.mean(X)"
   ]
  },
  {
   "cell_type": "markdown",
   "metadata": {},
   "source": [
    "# Sampling from the normal distribution"
   ]
  },
  {
   "cell_type": "code",
   "execution_count": 9,
   "metadata": {},
   "outputs": [
    {
     "data": {
      "text/plain": [
       "<matplotlib.collections.PathCollection at 0x10f3af9d0>"
      ]
     },
     "execution_count": 9,
     "metadata": {},
     "output_type": "execute_result"
    },
    {
     "data": {
      "image/png": "[encoded data removed]",
      "text/plain": [
       "<matplotlib.figure.Figure at 0x10f233a10>"
      ]
     },
     "metadata": {},
     "output_type": "display_data"
    }
   ],
   "source": [
    "N = 50\n",
    "X = np.zeros(N)\n",
    "mu = 0.0\n",
    "sigma = 1.0\n",
    "for i in range(N):\n",
    "    X[i] = random.gauss(mu, sigma)\n",
    "\n",
    "plt.scatter(X, np.zeros(N))"
   ]
  },
  {
   "cell_type": "markdown",
   "metadata": {
    "collapsed": true
   },
   "source": [
    "We can also use the numpy library to sample from the normal distribution: "
   ]
  },
  {
   "cell_type": "code",
   "execution_count": 10,
   "metadata": {},
   "outputs": [
    {
     "data": {
      "text/plain": [
       "<matplotlib.collections.PathCollection at 0x10f48d1d0>"
      ]
     },
     "execution_count": 10,
     "metadata": {},
     "output_type": "execute_result"
    },
    {
     "data": {
      "image/png": "[encoded data removed]",
      "text/plain": [
       "<matplotlib.figure.Figure at 0x10f3da590>"
      ]
     },
     "metadata": {},
     "output_type": "display_data"
    }
   ],
   "source": [
    "N = 50\n",
    "mu = 0.0\n",
    "sigma = 1.0\n",
    "X = np.random.normal(loc=mu, scale=sigma, size=N)\n",
    "plt.scatter(X, np.zeros(N))"
   ]
  },
  {
   "cell_type": "markdown",
   "metadata": {},
   "source": [
    "Looks like the points are more concentrated around zero than away from zero. How can we see it better? Histogram."
   ]
  },
  {
   "cell_type": "code",
   "execution_count": 11,
   "metadata": {
    "scrolled": false
   },
   "outputs": [
    {
     "data": {
      "image/png": "[encoded data removed]",
      "text/plain": [
       "<matplotlib.figure.Figure at 0x10f3eed50>"
      ]
     },
     "metadata": {},
     "output_type": "display_data"
    }
   ],
   "source": [
    "N = 500000\n",
    "mu = 0.0\n",
    "sigma = 1.0\n",
    "X = np.random.normal(loc=mu, scale=sigma, size=N)\n",
    "plt.axis([-6, 6, 0, 0.45])\n",
    "_,_,_ = plt.hist(X, 50, normed=True) \n",
    "# if you omit '_,_,_ =', then the output of plt.hist will be printed below,\n",
    "# which is not what I want"
   ]
  },
  {
   "cell_type": "markdown",
   "metadata": {},
   "source": [
    "Sigma is the standard deviation, which measures how wide the normal distribution is. For example:"
   ]
  },
  {
   "cell_type": "code",
   "execution_count": 12,
   "metadata": {
    "scrolled": true
   },
   "outputs": [
    {
     "data": {
      "image/png": "[encoded data removed]",
      "text/plain": [
       "<matplotlib.figure.Figure at 0x117d61810>"
      ]
     },
     "metadata": {},
     "output_type": "display_data"
    }
   ],
   "source": [
    "N = 500000\n",
    "mu = 0.0\n",
    "sigma = 2.0  # larger standard deviation\n",
    "X = np.random.normal(loc=mu, scale=sigma, size=N)\n",
    "plt.axis([-6, 6, 0, 0.45])\n",
    "_,_,_ = plt.hist(X, 50, normed=True)"
   ]
  },
  {
   "cell_type": "markdown",
   "metadata": {},
   "source": [
    "The shape is the same, but compare the y-axis numbers in the two graphs above. \n",
    "\n",
    "You can compute the mean and standard deviation of any data:"
   ]
  },
  {
   "cell_type": "code",
   "execution_count": 13,
   "metadata": {
    "scrolled": false
   },
   "outputs": [
    {
     "name": "stdout",
     "output_type": "stream",
     "text": [
      "mean =  0.00191655889184\n",
      "std dev =  2.00103927719\n"
     ]
    }
   ],
   "source": [
    "print 'mean = ', np.mean(X)\n",
    "print 'std dev = ', np.std(X)"
   ]
  },
  {
   "cell_type": "markdown",
   "metadata": {},
   "source": [
    "In general, if `X` is my data-set, then the normal distribution with `mu = np.mean(X)`, and `sigma = np.std(X)` will fit the data best.\n",
    "\n",
    "A useful rule of thumb: If a data distribution is normal then **about 68 percent of the data values are within one standard deviation of the mean**."
   ]
  },
  {
   "cell_type": "markdown",
   "metadata": {},
   "source": [
    "We've seen a histogram of the normal distribution. What does the histogram of the uniform distribution look like? "
   ]
  },
  {
   "cell_type": "code",
   "execution_count": 14,
   "metadata": {},
   "outputs": [
    {
     "data": {
      "image/png": "[encoded data removed]",
      "text/plain": [
       "<matplotlib.figure.Figure at 0x10f2337d0>"
      ]
     },
     "metadata": {},
     "output_type": "display_data"
    }
   ],
   "source": [
    "N = 50000\n",
    "X = np.random.uniform(low=0, high=1, size=N)\n",
    "_, _, _ = plt.hist(X, 50)"
   ]
  }
 ],
 "metadata": {
  "kernelspec": {
   "display_name": "Python 2",
   "language": "python",
   "name": "python2"
  },
  "language_info": {
   "codemirror_mode": {
    "name": "ipython",
    "version": 2
   },
   "file_extension": ".py",
   "mimetype": "text/x-python",
   "name": "python",
   "nbconvert_exporter": "python",
   "pygments_lexer": "ipython2",
   "version": "2.7.14"
  }
 },
 "nbformat": 4,
 "nbformat_minor": 2
}

{
 "cells": [
  {
   "cell_type": "markdown",
   "metadata": {},
   "source": [
    "# A need to make code more expressive"
   ]
  },
  {
   "cell_type": "markdown",
   "metadata": {},
   "source": [
    "Suppose we wanted to represent the vector $\\langle 1, 2, 3 \\rangle$ in the computer. We could use a list: "
   ]
  },
  {
   "cell_type": "code",
   "execution_count": 1,
   "metadata": {
    "collapsed": true
   },
   "outputs": [],
   "source": [
    "v = [1,2,3]"
   ]
  },
  {
   "cell_type": "markdown",
   "metadata": {},
   "source": [
    "Suppose we then wanted to normalize the vector. We'd first have to find the length of the vector (called the norm of the vector in mathematics)..."
   ]
  },
  {
   "cell_type": "code",
   "execution_count": 2,
   "metadata": {
    "scrolled": true
   },
   "outputs": [
    {
     "data": {
      "text/plain": [
       "3.7416573867739413"
      ]
     },
     "execution_count": 2,
     "metadata": {},
     "output_type": "execute_result"
    }
   ],
   "source": [
    "import math \n",
    "norm = 0\n",
    "for i in range(len(v)): \n",
    "    norm += v[i]*v[i]\n",
    "norm = math.sqrt(norm)\n",
    "\n",
    "norm"
   ]
  },
  {
   "cell_type": "markdown",
   "metadata": {},
   "source": [
    "... and then divide each element by the norm: "
   ]
  },
  {
   "cell_type": "code",
   "execution_count": 3,
   "metadata": {
    "scrolled": true
   },
   "outputs": [
    {
     "data": {
      "text/plain": [
       "[0.2672612419124244, 0.5345224838248488, 0.8017837257372732]"
      ]
     },
     "execution_count": 3,
     "metadata": {},
     "output_type": "execute_result"
    }
   ],
   "source": [
    "for i in range(len(v)): \n",
    "    v[i] /= float(norm)\n",
    "v"
   ]
  },
  {
   "cell_type": "markdown",
   "metadata": {},
   "source": [
    "Suppose we then wanted to pretty-print the normalized vector as follows:"
   ]
  },
  {
   "cell_type": "code",
   "execution_count": 4,
   "metadata": {},
   "outputs": [
    {
     "data": {
      "text/plain": [
       "'< 0.267261241912, 0.534522483825, 0.534522483825 >'"
      ]
     },
     "execution_count": 4,
     "metadata": {},
     "output_type": "execute_result"
    }
   ],
   "source": [
    "'< ' + str(v[0]) + ', ' + str(v[1]) + ', ' + str(v[1]) + ' >'"
   ]
  },
  {
   "cell_type": "markdown",
   "metadata": {},
   "source": [
    "Wouldn't it be nice if we were instead able to write the much shorter: \n",
    "```\n",
    "v = Vector(1,2,3)\n",
    "v.normalize()\n",
    "v\n",
    "```\n",
    "to produce the same output? Wouldn't this code be much easier to interpret, i.e., to figure out what the code is doing? \n",
    "\n",
    "Classes provide a means to make code more expressive. "
   ]
  },
  {
   "cell_type": "markdown",
   "metadata": {},
   "source": [
    "# Classes\n",
    "\n",
    "We could spend a lof time discussing classes and object oriented programming but we only care about the basics in this course. It's important to know the main idea and be able to write simple classes that serve basic mathematical purposes.\n",
    "\n",
    "Once we understand classes, we will understand expressions like `xs.append(5)` that we used for lists. \n",
    "\n",
    "The main idea of classes is that sometimes you want to put various pieces of data, and functions that manipulate the data in one place. The functions are called *methods* of the class. \n",
    "\n",
    "For example, a vector in $\\mathbb{R}^3$ is represented by three floats. So why not make a new data type that contains three floats and call it a vector?\n",
    "\n",
    "Actually, let's make a list of all the things we know we can do to vectors in $\\mathbb{R}^3$. We can:\n",
    "\n",
    "* take the length of a vector (a.k.a. norm),\n",
    "* we can normalize the vector, meaning we can divide it by the norm so that it now has the same direction but has length 1,\n",
    "* take dot product of two vectors, i.e. take $(x_1,y_1,z_1)\\cdot(x_2,y_2,z_2) = x_1x_2 + y_1y_2 + z_1z_2$,\n",
    "* add vectors,\n",
    "* multiply a vector by a scalar,\n",
    "* take cross product of two vectors.\n",
    "\n",
    "We will make a new type of object in Python, called `Vector`, that allows us to do all of these things. \n",
    "\n",
    "### Defining a class"
   ]
  },
  {
   "cell_type": "code",
   "execution_count": 5,
   "metadata": {
    "collapsed": true
   },
   "outputs": [],
   "source": [
    "import math\n",
    "class Vector():\n",
    "    \n",
    "    # initialize the vector, e.g.  \n",
    "    # v = Vector(1,2,3)\n",
    "    # creates a new vector with those coordinates\n",
    "    def __init__(self, xx, yy, zz):\n",
    "        self.x = xx\n",
    "        self.y = yy\n",
    "        self.z = zz\n",
    "    \n",
    "    # compute the norm\n",
    "    def norm(self):\n",
    "        return math.sqrt(self.x*self.x + self.y*self.y + self.z*self.z)\n",
    "\n",
    "    # divide by the norm\n",
    "    def normalize(self):\n",
    "        norm = self.norm()\n",
    "        self.x /= float(norm)\n",
    "        self.y /= float(norm)\n",
    "        self.z /= float(norm)    \n",
    "        \n",
    "# note that member functions use 'self' to access the data in the class"
   ]
  },
  {
   "cell_type": "markdown",
   "metadata": {},
   "source": [
    "The `class` specifies what constitutes an object (the variables in it, which are all the variables that appear as `self.---`), and the functions that can be used. To create an object of the class, a.k.a. an instance of the class, we need to call the name of the class as if it's a function. "
   ]
  },
  {
   "cell_type": "markdown",
   "metadata": {},
   "source": [
    "### Using a class"
   ]
  },
  {
   "cell_type": "markdown",
   "metadata": {},
   "source": [
    "This creates the vector $\\langle 1, 2, 3\\rangle$:"
   ]
  },
  {
   "cell_type": "code",
   "execution_count": 6,
   "metadata": {
    "collapsed": true
   },
   "outputs": [],
   "source": [
    "v = Vector(1,2,3)   \n",
    "# the arguments of this call must match the arguments of the __init__ \n",
    "# function in the class, except the 'self' argument"
   ]
  },
  {
   "cell_type": "markdown",
   "metadata": {},
   "source": [
    "The object `v` is an instance of `Vector`, the class we just wrote: "
   ]
  },
  {
   "cell_type": "code",
   "execution_count": 7,
   "metadata": {
    "scrolled": true
   },
   "outputs": [
    {
     "name": "stdout",
     "output_type": "stream",
     "text": [
      "<__main__.Vector instance at 0x107c75b00>\n"
     ]
    }
   ],
   "source": [
    "print(v)"
   ]
  },
  {
   "cell_type": "markdown",
   "metadata": {},
   "source": [
    "We can access the data contained in this instance: "
   ]
  },
  {
   "cell_type": "code",
   "execution_count": 8,
   "metadata": {
    "scrolled": true
   },
   "outputs": [
    {
     "name": "stdout",
     "output_type": "stream",
     "text": [
      "1 2 3\n"
     ]
    }
   ],
   "source": [
    "print v.x, v.y, v.z"
   ]
  },
  {
   "cell_type": "markdown",
   "metadata": {},
   "source": [
    "We can normalize the vector: "
   ]
  },
  {
   "cell_type": "code",
   "execution_count": 9,
   "metadata": {
    "scrolled": true
   },
   "outputs": [
    {
     "name": "stdout",
     "output_type": "stream",
     "text": [
      "0.267261241912 0.534522483825 0.801783725737\n"
     ]
    }
   ],
   "source": [
    "v.normalize()\n",
    "print v.x, v.y, v.z"
   ]
  },
  {
   "cell_type": "markdown",
   "metadata": {},
   "source": [
    "The syntax `v.normalize()` should remind of `xs.append(5)` for a list `xs`. Indeed, `list` is a class just like our `Vector` class, and there is a function called `append(self, x)` in it that adds an extra element. "
   ]
  },
  {
   "cell_type": "markdown",
   "metadata": {},
   "source": [
    "Notice that to print the vector, we had to print each coordinate one by one. Wouldn't it be nice if a `Vector` object was able to print the vector it represented without our having to do all this work? \n",
    "\n",
    "We can do this. The idea is to have the class do all the work for us in a function called  `__repr__(self)`:"
   ]
  },
  {
   "cell_type": "code",
   "execution_count": 10,
   "metadata": {},
   "outputs": [
    {
     "name": "stdout",
     "output_type": "stream",
     "text": [
      "< 1, 2, 3 >\n"
     ]
    }
   ],
   "source": [
    "import math\n",
    "class Vector():\n",
    "    \n",
    "    def __init__(self, xx, yy, zz):\n",
    "        self.x = xx\n",
    "        self.y = yy\n",
    "        self.z = zz\n",
    "    \n",
    "    def norm(self):\n",
    "        return math.sqrt(self.x*self.x + self.y*self.y + self.z*self.z)\n",
    "\n",
    "    def normalize(self):\n",
    "        norm = self.norm()\n",
    "        self.x /= float(norm)\n",
    "        self.y /= float(norm)\n",
    "        self.z /= float(norm)    \n",
    "    \n",
    "    def __repr__(self):\n",
    "        return '< ' + str(self.x) + ', ' + str(self.y) + ', ' + str(self.z) + ' >'\n",
    "\n",
    "v = Vector(1,2,3)\n",
    "print v"
   ]
  },
  {
   "cell_type": "markdown",
   "metadata": {},
   "source": [
    "Let's also add dot products and scalar multiplication to our class:"
   ]
  },
  {
   "cell_type": "code",
   "execution_count": 11,
   "metadata": {
    "collapsed": true
   },
   "outputs": [],
   "source": [
    "import math\n",
    "class Vector():\n",
    "    \n",
    "    def __init__(self, xx, yy, zz):\n",
    "        self.x = xx\n",
    "        self.y = yy\n",
    "        self.z = zz\n",
    "    \n",
    "    def norm(self):\n",
    "        return math.sqrt(self.x*self.x + self.y*self.y + self.z*self.z)\n",
    "\n",
    "    def normalize(self):\n",
    "        norm = self.norm()\n",
    "        self.x /= float(norm)\n",
    "        self.y /= float(norm)\n",
    "        self.z /= float(norm)    \n",
    "    \n",
    "    def __repr__(self):\n",
    "        return '< ' + str(self.x) + ', ' + str(self.y) + ', ' + str(self.z) + ' >'\n",
    "    \n",
    "    def dot(self, w):\n",
    "        return self.x * w.x + self.y * w.y + self.z * w.z\n",
    "    \n",
    "    # returns a new vector without modifying the original\n",
    "    def times_scalar(self, alpha):\n",
    "        return Vector(alpha * self.x, alpha * self.y, alpha * self.z)"
   ]
  },
  {
   "cell_type": "markdown",
   "metadata": {},
   "source": [
    "Let's test the member functions we just wrote: "
   ]
  },
  {
   "cell_type": "code",
   "execution_count": 12,
   "metadata": {},
   "outputs": [
    {
     "data": {
      "text/plain": [
       "6"
      ]
     },
     "execution_count": 12,
     "metadata": {},
     "output_type": "execute_result"
    }
   ],
   "source": [
    "Vector(1,2,3).dot(Vector(1,1,1))"
   ]
  },
  {
   "cell_type": "code",
   "execution_count": 13,
   "metadata": {},
   "outputs": [
    {
     "data": {
      "text/plain": [
       "< 3, 6, 9 >"
      ]
     },
     "execution_count": 13,
     "metadata": {},
     "output_type": "execute_result"
    }
   ],
   "source": [
    "Vector(1,2,3).times_scalar(3)"
   ]
  },
  {
   "cell_type": "markdown",
   "metadata": {},
   "source": [
    "We can also write addition of vectors, we could write `add(self,w)` in the class and use `v.add(w)` to add `v` and `w`, but we could also **overload** the `+` operator as follows:"
   ]
  },
  {
   "cell_type": "code",
   "execution_count": 14,
   "metadata": {
    "collapsed": true
   },
   "outputs": [],
   "source": [
    "import math\n",
    "class Vector():\n",
    "    \n",
    "    def __init__(self, xx, yy, zz):\n",
    "        self.x = xx\n",
    "        self.y = yy\n",
    "        self.z = zz\n",
    "    \n",
    "    def norm(self):\n",
    "        return math.sqrt(self.x*self.x + self.y*self.y + self.z*self.z)\n",
    "\n",
    "    def normalize(self):\n",
    "        norm = self.norm()\n",
    "        self.x /= float(norm)\n",
    "        self.y /= float(norm)\n",
    "        self.z /= float(norm)    \n",
    "    \n",
    "    def __repr__(self):\n",
    "        return '< ' + str(self.x) + ', ' + str(self.y) + ', ' + str(self.z) + ' >'\n",
    "    \n",
    "    def dot(self, w):\n",
    "        return self.x * w.x + self.y * w.y + self.z * w.z\n",
    "    \n",
    "    def times_scalar(self, alpha):\n",
    "        return Vector(alpha * self.x, alpha * self.y, alpha * self.z)\n",
    "    \n",
    "    def __add__(self, w):\n",
    "        return Vector(self.x + w.x, self.y + w.y, self.z + w.z)    "
   ]
  },
  {
   "cell_type": "markdown",
   "metadata": {},
   "source": [
    "Who wouldn't expect the output of the next line to be the sum of the two vectors?"
   ]
  },
  {
   "cell_type": "code",
   "execution_count": 15,
   "metadata": {},
   "outputs": [
    {
     "data": {
      "text/plain": [
       "< 1, 7, 13 >"
      ]
     },
     "execution_count": 15,
     "metadata": {},
     "output_type": "execute_result"
    }
   ],
   "source": [
    "Vector(1,2,3) + Vector(0,5,10)"
   ]
  },
  {
   "cell_type": "markdown",
   "metadata": {},
   "source": [
    "Ultimately, this is why we use classes: they allow us to express better what the code is doing. "
   ]
  },
  {
   "cell_type": "markdown",
   "metadata": {},
   "source": [
    "# Exercise\n",
    "\n",
    "Make a class called `Line` which represents a line with equation $ax + by + c = 0$. Write the `__init__(self,a,b,c)`, `__repr__(self)` and `intersect(self,other_line)` methods for the class. The intersect method should return the coordinates of the intersection point of two lines. \n"
   ]
  }
 ],
 "metadata": {
  "kernelspec": {
   "display_name": "Python 2",
   "language": "python",
   "name": "python2"
  },
  "language_info": {
   "codemirror_mode": {
    "name": "ipython",
    "version": 2
   },
   "file_extension": ".py",
   "mimetype": "text/x-python",
   "name": "python",
   "nbconvert_exporter": "python",
   "pygments_lexer": "ipython2",
   "version": "2.7.14"
  }
 },
 "nbformat": 4,
 "nbformat_minor": 2
}

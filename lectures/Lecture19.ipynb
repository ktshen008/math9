{
 "cells": [
  {
   "cell_type": "markdown",
   "metadata": {},
   "source": [
    "# Last time \n",
    "\n",
    "Intoduction to probability and randomness.\n",
    "\n",
    "# This time \n",
    "\n",
    "* Brief review\n",
    "* `choice`\n",
    "* Fitting a Gaussian distribution to data\n",
    "* Simulations that use randomness"
   ]
  },
  {
   "cell_type": "markdown",
   "metadata": {},
   "source": [
    "# Brief review"
   ]
  },
  {
   "cell_type": "code",
   "execution_count": 1,
   "metadata": {
    "collapsed": true
   },
   "outputs": [],
   "source": [
    "# Let's just get into the habit of setting up our environment as follows: \n",
    "import numpy as np\n",
    "import matplotlib.pyplot as plt\n",
    "%matplotlib inline"
   ]
  },
  {
   "cell_type": "markdown",
   "metadata": {},
   "source": [
    "Here's how to sample from a probability distribution: "
   ]
  },
  {
   "cell_type": "code",
   "execution_count": 2,
   "metadata": {},
   "outputs": [
    {
     "data": {
      "text/plain": [
       "array([ 0.48231331,  0.53958949,  0.52381883,  0.82337816,  0.93356797,\n",
       "        0.09969232,  0.02146068,  0.57816314,  0.2505803 ])"
      ]
     },
     "execution_count": 2,
     "metadata": {},
     "output_type": "execute_result"
    }
   ],
   "source": [
    "# numpy array with uniform random numbers\n",
    "np.random.uniform(low=0, high=1, size=9)"
   ]
  },
  {
   "cell_type": "code",
   "execution_count": 3,
   "metadata": {},
   "outputs": [
    {
     "data": {
      "text/plain": [
       "array([ 0.36259364, -1.62137441, -0.52722734,  1.82589171, -0.38120698,\n",
       "        0.67847617,  1.03199113, -1.13825913,  0.34000456])"
      ]
     },
     "execution_count": 3,
     "metadata": {},
     "output_type": "execute_result"
    }
   ],
   "source": [
    "# numpy array with Gaussian (normal) random numbers\n",
    "np.random.normal(loc=0.0, scale=1.0, size=9)"
   ]
  },
  {
   "cell_type": "markdown",
   "metadata": {},
   "source": [
    "You can see the distribution from which random numbers were drawn by histograming them: "
   ]
  },
  {
   "cell_type": "code",
   "execution_count": 4,
   "metadata": {},
   "outputs": [
    {
     "data": {
      "image/png": "[encoded data removed]",
      "text/plain": [
       "<matplotlib.figure.Figure at 0x1036de590>"
      ]
     },
     "metadata": {},
     "output_type": "display_data"
    }
   ],
   "source": [
    "N = 5000\n",
    "mu = 0.0 # mean\n",
    "sigma = 1.0  # standard dev\n",
    "X = np.random.normal(loc=mu, scale=sigma, size=N)\n",
    "_,_,_ = plt.hist(X, 30)"
   ]
  },
  {
   "cell_type": "markdown",
   "metadata": {},
   "source": [
    "# Choice: choose a random element of a list"
   ]
  },
  {
   "cell_type": "code",
   "execution_count": 5,
   "metadata": {},
   "outputs": [
    {
     "data": {
      "text/plain": [
       "'tender'"
      ]
     },
     "execution_count": 5,
     "metadata": {},
     "output_type": "execute_result"
    }
   ],
   "source": [
    "import random\n",
    "words = [\"love\", \"hate\", \"tender\", \"care\", \"deep\"]\n",
    "random.choice(words)"
   ]
  },
  {
   "cell_type": "code",
   "execution_count": 6,
   "metadata": {},
   "outputs": [
    {
     "name": "stdout",
     "output_type": "stream",
     "text": [
      "hate tender hate \n",
      " care tender tender\n"
     ]
    }
   ],
   "source": [
    "# random poem:\n",
    "poem = []\n",
    "poem.extend([random.choice(words) for _ in range(3)])\n",
    "poem.append(\"\\n\")\n",
    "poem.extend([random.choice(words) for _ in range(3)])\n",
    "print(\" \".join(poem))"
   ]
  },
  {
   "cell_type": "markdown",
   "metadata": {},
   "source": [
    "# Fitting a Gaussian distribution to data"
   ]
  },
  {
   "cell_type": "markdown",
   "metadata": {},
   "source": [
    "Say I am given a numpy array X full of numbers (e.g. grades).\n"
   ]
  },
  {
   "cell_type": "code",
   "execution_count": 7,
   "metadata": {
    "collapsed": true
   },
   "outputs": [],
   "source": [
    "X = np.array([67, 62, 78, 67, 64, 52, 50, 80, 50, 94, 77, 62, 78, 67, 44, 52, 70, 80, 50, 94, 100, 61, 59, 56, 30, 91, 60, 54, 34, 98])"
   ]
  },
  {
   "cell_type": "code",
   "execution_count": 8,
   "metadata": {},
   "outputs": [
    {
     "name": "stdout",
     "output_type": "stream",
     "text": [
      "grade range: 30 - 100\n"
     ]
    }
   ],
   "source": [
    "print 'grade range:', min(X), '-', max(X)"
   ]
  },
  {
   "cell_type": "code",
   "execution_count": 9,
   "metadata": {},
   "outputs": [
    {
     "data": {
      "text/plain": [
       "<matplotlib.collections.PathCollection at 0x109636250>"
      ]
     },
     "execution_count": 9,
     "metadata": {},
     "output_type": "execute_result"
    },
    {
     "data": {
      "image/png": "[encoded data removed]",
      "text/plain": [
       "<matplotlib.figure.Figure at 0x1042646d0>"
      ]
     },
     "metadata": {},
     "output_type": "display_data"
    }
   ],
   "source": [
    "plt.scatter(X, np.zeros(30)+1)"
   ]
  },
  {
   "cell_type": "code",
   "execution_count": 10,
   "metadata": {},
   "outputs": [
    {
     "data": {
      "image/png": "[encoded data removed]",
      "text/plain": [
       "<matplotlib.figure.Figure at 0x10966f150>"
      ]
     },
     "metadata": {},
     "output_type": "display_data"
    }
   ],
   "source": [
    "_, _, _ = plt.hist(X,6)"
   ]
  },
  {
   "cell_type": "markdown",
   "metadata": {},
   "source": [
    "**Question: ** If we knew that these numbers came from a normal distribution $N(\\mu, \\sigma)$, what is the most likely normal distribution that these data would have come from?\n",
    "\n",
    "\n",
    "**Answer: ** It's the normal distribution $N(\\mu, \\sigma)$ where $\\mu$ is the mean of the data, and $\\sigma$ is the standard deviation of the data. Mean is the average of the data, standard deviation is the square root of the average of the square of the distance to the mean of the data... better to write down the formula:\n",
    "\n",
    "$$\\mu = \\frac{1}{N}\\sum_{i=1}^N x_i$$\n",
    "\n",
    "$$\\sigma = \\sqrt{\\frac{1}{N}\\sum_{i=1}^N (x_i - \\mu)^2}$$\n",
    "\n",
    "In python, we can use `np.mean` and `np.std` to compute these."
   ]
  },
  {
   "cell_type": "code",
   "execution_count": 11,
   "metadata": {
    "scrolled": true
   },
   "outputs": [
    {
     "name": "stdout",
     "output_type": "stream",
     "text": [
      "mean:  66.0333333333\n",
      "standard deviation:  17.8390644996\n"
     ]
    }
   ],
   "source": [
    "mu, sigma = np.mean(X), np.std(X)\n",
    "print \"mean: \", mu\n",
    "print \"standard deviation: \", sigma"
   ]
  },
  {
   "cell_type": "markdown",
   "metadata": {},
   "source": [
    "Recall that the Gaussian distribution $N(\\mu, \\sigma)$ has density function:\n",
    "\n",
    "$$ p(x) = \\frac{1}{\\sqrt{2\\pi}\\sigma}\\exp\\left({-\\frac{1}{2}\\left(\\frac{x-\\mu}{\\sigma}\\right)^2}\\right)$$\n",
    "\n",
    "We can now draw the bell curve:\n"
   ]
  },
  {
   "cell_type": "code",
   "execution_count": 12,
   "metadata": {},
   "outputs": [
    {
     "data": {
      "image/png": "[encoded data removed]",
      "text/plain": [
       "<matplotlib.figure.Figure at 0x1096841d0>"
      ]
     },
     "metadata": {},
     "output_type": "display_data"
    }
   ],
   "source": [
    "from math import sqrt, pi, e\n",
    "\n",
    "Z = np.linspace(0,100,300)\n",
    "gaussian_func = lambda mu, sigma: lambda x: 1/(sqrt(2*pi)*sigma) * e**(-0.5*(x-mu)*(x-mu)/(sigma*sigma))\n",
    "plt.plot(Z, gaussian_func(mu, sigma)(Z))\n",
    "_, _, _ = plt.hist(X,6,normed=True)"
   ]
  },
  {
   "cell_type": "markdown",
   "metadata": {},
   "source": [
    "**Remember:** For any data-set, the mean and standard deviation of the best-fitting Gaussian distribution are the mean and standard deviation of the data-set."
   ]
  },
  {
   "cell_type": "markdown",
   "metadata": {},
   "source": [
    "# Random Simulation: modeling a real-life situation (optional)\n",
    "\n",
    "The bus from my street to work is scheduled at 8:00 A.M. However, I measured that the bus' arrival time has a Gaussian (normal) distribution with mean 8:05 and a standard deviation of 4 minutes. \n",
    "\n",
    "If I miss the bus, the bus after that will come 50 minutes after the first bus.\n",
    "\n",
    "When should I get to the bus stop to minimize my total expected waiting time? (I don't care how late I am. I just don't want to wait for the bus at the stop. I'm weird like that.)"
   ]
  },
  {
   "cell_type": "markdown",
   "metadata": {},
   "source": [
    "Let's simulate"
   ]
  },
  {
   "cell_type": "code",
   "execution_count": 13,
   "metadata": {},
   "outputs": [
    {
     "data": {
      "text/plain": [
       "Text(0,0.5,u'simulated average waiting time')"
      ]
     },
     "execution_count": 13,
     "metadata": {},
     "output_type": "execute_result"
    },
    {
     "data": {
      "image/png": "[encoded data removed]",
      "text/plain": [
       "<matplotlib.figure.Figure at 0x1097907d0>"
      ]
     },
     "metadata": {},
     "output_type": "display_data"
    }
   ],
   "source": [
    "import random\n",
    "time_till_next_bus = 50\n",
    "mu = 0  # 8:05 is time 0\n",
    "sigma = 4\n",
    "N = 10000  # number of simulations\n",
    "\n",
    "average_waiting_times = []\n",
    "\n",
    "for my_arrival_at_stop in range(-20,20):\n",
    "    sum_of_waiting_times = 0.0\n",
    "    for i in range(N):\n",
    "        bus_arrival = random.gauss(mu, sigma)\n",
    "        if my_arrival_at_stop < bus_arrival:\n",
    "            sum_of_waiting_times += bus_arrival - my_arrival_at_stop\n",
    "        elif my_arrival_at_stop < bus_arrival + time_till_next_bus:\n",
    "            sum_of_waiting_times += bus_arrival + time_till_next_bus - my_arrival_at_stop\n",
    "        # if i missed the next bus too, don't count that one.\n",
    "    average_waiting_times.append(sum_of_waiting_times / N)\n",
    "    \n",
    "plt.plot(range(-20,20), average_waiting_times)\n",
    "plt.xlabel('my arrival time (8:05 is time 0)')\n",
    "plt.ylabel('simulated average waiting time')"
   ]
  },
  {
   "cell_type": "code",
   "execution_count": null,
   "metadata": {
    "collapsed": true
   },
   "outputs": [],
   "source": []
  }
 ],
 "metadata": {
  "kernelspec": {
   "display_name": "Python 2",
   "language": "python",
   "name": "python2"
  },
  "language_info": {
   "codemirror_mode": {
    "name": "ipython",
    "version": 2
   },
   "file_extension": ".py",
   "mimetype": "text/x-python",
   "name": "python",
   "nbconvert_exporter": "python",
   "pygments_lexer": "ipython2",
   "version": "2.7.14"
  }
 },
 "nbformat": 4,
 "nbformat_minor": 2
}

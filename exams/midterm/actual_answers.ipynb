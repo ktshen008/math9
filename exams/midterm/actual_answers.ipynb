{
 "cells": [
  {
   "cell_type": "markdown",
   "metadata": {},
   "source": [
    "# Question 1\n",
    "### Part 1"
   ]
  },
  {
   "cell_type": "code",
   "execution_count": 1,
   "metadata": {},
   "outputs": [
    {
     "name": "stdout",
     "output_type": "stream",
     "text": [
      "5\n",
      "10\n",
      "20\n",
      "40\n",
      "80\n",
      "160\n"
     ]
    }
   ],
   "source": [
    "i = 5 \n",
    "while i < 100:\n",
    "    print(i)\n",
    "    i *= 2 \n",
    "print(i)\n"
   ]
  },
  {
   "cell_type": "markdown",
   "metadata": {},
   "source": [
    "### Part 2"
   ]
  },
  {
   "cell_type": "code",
   "execution_count": 2,
   "metadata": {},
   "outputs": [
    {
     "name": "stdout",
     "output_type": "stream",
     "text": [
      "2\n"
     ]
    }
   ],
   "source": [
    "def f(n):\n",
    "    for i in range(10):\n",
    "        if i > n:\n",
    "            continue\n",
    "        n = n // 2\n",
    "    return n\n",
    "\n",
    "print(f(32))"
   ]
  },
  {
   "cell_type": "markdown",
   "metadata": {},
   "source": [
    "### Part 3"
   ]
  },
  {
   "cell_type": "code",
   "execution_count": 3,
   "metadata": {},
   "outputs": [
    {
     "name": "stdout",
     "output_type": "stream",
     "text": [
      "[0, 0, 0, 1]\n"
     ]
    }
   ],
   "source": [
    "def g(n):\n",
    "    if n == 0:\n",
    "        return [] \n",
    "    return [n % 2] + g(n // 2) \n",
    "\n",
    "print(g(8))"
   ]
  },
  {
   "cell_type": "markdown",
   "metadata": {},
   "source": [
    "# Question 2\n",
    "### Part 1"
   ]
  },
  {
   "cell_type": "code",
   "execution_count": 4,
   "metadata": {},
   "outputs": [
    {
     "data": {
      "text/plain": [
       "[1, 1, 1, 1, 2, 2, 2, 2, 3, 3, 3, 3, 4, 4, 4, 4]"
      ]
     },
     "execution_count": 4,
     "metadata": {},
     "output_type": "execute_result"
    }
   ],
   "source": [
    "l = []\n",
    "for i in range(1,5): \n",
    "    l += 4*[i]\n",
    "l"
   ]
  },
  {
   "cell_type": "markdown",
   "metadata": {},
   "source": [
    "### Part 2"
   ]
  },
  {
   "cell_type": "code",
   "execution_count": 5,
   "metadata": {},
   "outputs": [
    {
     "data": {
      "text/plain": [
       "[1, -1, 2, -2, 3, -3, 4, -4, 5, -5]"
      ]
     },
     "execution_count": 5,
     "metadata": {},
     "output_type": "execute_result"
    }
   ],
   "source": [
    "l = []\n",
    "for i in range(1,6): \n",
    "    l += [i, -i]\n",
    "l"
   ]
  },
  {
   "cell_type": "markdown",
   "metadata": {},
   "source": [
    "### Part 3"
   ]
  },
  {
   "cell_type": "code",
   "execution_count": 6,
   "metadata": {},
   "outputs": [
    {
     "data": {
      "text/plain": [
       "[12, 10, 8, 6, 4, 2, 0, 0, 0, 0]"
      ]
     },
     "execution_count": 6,
     "metadata": {},
     "output_type": "execute_result"
    }
   ],
   "source": [
    "[i for i in range(12,0,-2)] + 4*[0]"
   ]
  },
  {
   "cell_type": "markdown",
   "metadata": {},
   "source": [
    "# Question 3\n",
    "### Part 1"
   ]
  },
  {
   "cell_type": "code",
   "execution_count": 7,
   "metadata": {},
   "outputs": [
    {
     "data": {
      "text/plain": [
       "120"
      ]
     },
     "execution_count": 7,
     "metadata": {},
     "output_type": "execute_result"
    }
   ],
   "source": [
    "reduce(lambda x, y: x*y, range(1,6))"
   ]
  },
  {
   "cell_type": "markdown",
   "metadata": {},
   "source": [
    "### Part 2"
   ]
  },
  {
   "cell_type": "code",
   "execution_count": 8,
   "metadata": {},
   "outputs": [
    {
     "data": {
      "text/plain": [
       "12345"
      ]
     },
     "execution_count": 8,
     "metadata": {},
     "output_type": "execute_result"
    }
   ],
   "source": [
    "reduce(lambda a,d: 10*a+d, [1,2,3,4,5])"
   ]
  },
  {
   "cell_type": "markdown",
   "metadata": {},
   "source": [
    "# Question 4"
   ]
  },
  {
   "cell_type": "code",
   "execution_count": 9,
   "metadata": {},
   "outputs": [
    {
     "data": {
      "text/plain": [
       "13"
      ]
     },
     "execution_count": 9,
     "metadata": {},
     "output_type": "execute_result"
    }
   ],
   "source": [
    "def spread(xs): \n",
    "    \"\"\" this involves one pass through the list => O(n)\"\"\"\n",
    "    \n",
    "    x_max = xs[0]\n",
    "    x_min = xs[0]\n",
    "    for x in xs: \n",
    "        if x > x_max: \n",
    "            x_max = x \n",
    "        if x < x_min: \n",
    "            x_min = x \n",
    "    return x_max - x_min\n",
    "\n",
    "spread([1,2,-1,5,10,12,0,0,4])"
   ]
  },
  {
   "cell_type": "markdown",
   "metadata": {},
   "source": [
    "### Alternative solution 1 (slower)"
   ]
  },
  {
   "cell_type": "code",
   "execution_count": 10,
   "metadata": {},
   "outputs": [
    {
     "name": "stdout",
     "output_type": "stream",
     "text": [
      "testing recursive max function: \n",
      "[1, 2, 7, 5, 1, -1]\n",
      "max =  7\n",
      "max (recursive implementation) =  7\n"
     ]
    },
    {
     "data": {
      "text/plain": [
       "13"
      ]
     },
     "execution_count": 10,
     "metadata": {},
     "output_type": "execute_result"
    }
   ],
   "source": [
    "def my_max(xs): \n",
    "    current_max = xs[0]\n",
    "    for x in xs: \n",
    "        if x > current_max: \n",
    "            current_max = x\n",
    "    return current_max\n",
    "\n",
    "def my_max_recursive(xs): \n",
    "    if len(xs) == 1: \n",
    "        return xs[0]\n",
    "    max_0 = xs[0]\n",
    "    max_rest = my_max_recursive(xs[1:])\n",
    "    if max_0 > max_rest:\n",
    "        return max_0\n",
    "    else: \n",
    "        return max_rest\n",
    "\n",
    "l = [1,2,7,5,1,-1]\n",
    "print 'testing recursive max function: '\n",
    "print l\n",
    "print 'max = ', my_max(l)\n",
    "print 'max (recursive implementation) = ', my_max_recursive(l)\n",
    "        \n",
    "def my_min(xs): \n",
    "    current_min = xs[0]\n",
    "    for x in xs: \n",
    "        if x < current_min: \n",
    "            current_min = x\n",
    "    return current_min\n",
    "\n",
    "def spread(xs): \n",
    "    \"\"\" this involves two passes through the list => O(n) \"\"\"\n",
    "    return my_max(xs) - my_min(xs)\n",
    "\n",
    "spread([1,2,-1,5,10,12,0,0,4])"
   ]
  },
  {
   "cell_type": "markdown",
   "metadata": {},
   "source": [
    "### Alternative solution 2 (slowest)"
   ]
  },
  {
   "cell_type": "code",
   "execution_count": 11,
   "metadata": {},
   "outputs": [
    {
     "data": {
      "text/plain": [
       "13"
      ]
     },
     "execution_count": 11,
     "metadata": {},
     "output_type": "execute_result"
    }
   ],
   "source": [
    "def swap(xs, i, j): \n",
    "    # https://stackoverflow.com/questions/14836228/is-there-a-standardized-method-to-swap-two-variables-in-python\n",
    "    xs[i], xs[j] = xs[j], xs[i]\n",
    "    \n",
    "def argmax(xs): \n",
    "    current_max = xs[0]\n",
    "    current_max_location = 0\n",
    "    for i, x in enumerate(xs): \n",
    "        if x > current_max: \n",
    "            current_max = x \n",
    "            current_max_location = i \n",
    "    return current_max_location\n",
    "\n",
    "def sort(xs):\n",
    "    \"\"\" \n",
    "    selection sort (descending order) \n",
    "    For each loop through the list, there is another loop => O(n^2)\n",
    "    \"\"\"\n",
    "    for i in range(len(xs)): \n",
    "        swap(xs, i+argmax(xs[i:]), i)\n",
    "    \n",
    "def spread(xs): \n",
    "    sort(xs)\n",
    "    return xs[0] - xs[-1]\n",
    "\n",
    "spread([1,2,-1,5,10,12,0,0,4])"
   ]
  },
  {
   "cell_type": "markdown",
   "metadata": {},
   "source": [
    "# Question 5"
   ]
  },
  {
   "cell_type": "code",
   "execution_count": 12,
   "metadata": {},
   "outputs": [
    {
     "data": {
      "text/plain": [
       "6"
      ]
     },
     "execution_count": 12,
     "metadata": {},
     "output_type": "execute_result"
    }
   ],
   "source": [
    "def gcd(a,b):\n",
    "    # assume b>a:\n",
    "    while b != 0:\n",
    "        r = a % b\n",
    "        a = b\n",
    "        b = r\n",
    "    return a\n",
    "\n",
    "gcd(60,42)"
   ]
  }
 ],
 "metadata": {
  "kernelspec": {
   "display_name": "Python 2",
   "language": "python",
   "name": "python2"
  },
  "language_info": {
   "codemirror_mode": {
    "name": "ipython",
    "version": 2
   },
   "file_extension": ".py",
   "mimetype": "text/x-python",
   "name": "python",
   "nbconvert_exporter": "python",
   "pygments_lexer": "ipython2",
   "version": "2.7.14"
  }
 },
 "nbformat": 4,
 "nbformat_minor": 2
}

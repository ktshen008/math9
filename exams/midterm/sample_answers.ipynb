{
 "cells": [
  {
   "cell_type": "markdown",
   "metadata": {},
   "source": [
    "# Question 1"
   ]
  },
  {
   "cell_type": "markdown",
   "metadata": {},
   "source": [
    "### Part 1"
   ]
  },
  {
   "cell_type": "code",
   "execution_count": 1,
   "metadata": {},
   "outputs": [
    {
     "name": "stdout",
     "output_type": "stream",
     "text": [
      "97\n",
      "87\n",
      "77\n",
      "67\n",
      "57\n",
      "47\n",
      "37\n",
      "27\n",
      "17\n",
      "7\n",
      "-3\n"
     ]
    }
   ],
   "source": [
    "i = 97\n",
    "while i >= 0:\n",
    "    print(i)\n",
    "    i -= 10 \n",
    "print i"
   ]
  },
  {
   "cell_type": "markdown",
   "metadata": {},
   "source": [
    "### Part 2"
   ]
  },
  {
   "cell_type": "code",
   "execution_count": 2,
   "metadata": {},
   "outputs": [
    {
     "name": "stdout",
     "output_type": "stream",
     "text": [
      "(4, 5)\n"
     ]
    }
   ],
   "source": [
    "def f(n): \n",
    "    count = 0\n",
    "    while n >= 1: \n",
    "        n = n // 2 \n",
    "        count += 1\n",
    "    return count\n",
    "\n",
    "print (f(15), f(16))"
   ]
  },
  {
   "cell_type": "markdown",
   "metadata": {},
   "source": [
    "### Part 3"
   ]
  },
  {
   "cell_type": "code",
   "execution_count": 3,
   "metadata": {},
   "outputs": [
    {
     "name": "stdout",
     "output_type": "stream",
     "text": [
      "[0, 2, 1, 5]\n"
     ]
    }
   ],
   "source": [
    "def g(n): \n",
    "    if n == 0:\n",
    "        return []\n",
    "    return [n % 10] + g(n // 10)\n",
    "\n",
    "print g(5120)"
   ]
  },
  {
   "cell_type": "markdown",
   "metadata": {},
   "source": [
    "# Question 2"
   ]
  },
  {
   "cell_type": "markdown",
   "metadata": {},
   "source": [
    "### Part 1"
   ]
  },
  {
   "cell_type": "code",
   "execution_count": 4,
   "metadata": {},
   "outputs": [
    {
     "name": "stdout",
     "output_type": "stream",
     "text": [
      "[1, 2, 3, 4, 5, 11, 12, 13, 14, 15, 21, 22, 23, 24, 25, 31, 32, 33, 34, 35]\n"
     ]
    }
   ],
   "source": [
    "l = []\n",
    "for i in range(1,40,10): \n",
    "    for j in range(5): \n",
    "        l.append(i+j)\n",
    "print l"
   ]
  },
  {
   "cell_type": "markdown",
   "metadata": {},
   "source": [
    "### Part 2"
   ]
  },
  {
   "cell_type": "code",
   "execution_count": 5,
   "metadata": {},
   "outputs": [
    {
     "name": "stdout",
     "output_type": "stream",
     "text": [
      "[9, 99, 999, 9999, 99999, 999999, 9999999]\n"
     ]
    }
   ],
   "source": [
    "l = []\n",
    "for i in range(1,8): \n",
    "    l.append(10**i - 1)\n",
    "print l"
   ]
  },
  {
   "cell_type": "markdown",
   "metadata": {},
   "source": [
    "### Part 3"
   ]
  },
  {
   "cell_type": "code",
   "execution_count": 6,
   "metadata": {},
   "outputs": [
    {
     "name": "stdout",
     "output_type": "stream",
     "text": [
      "[1, 3, 5, 7, 1, 3, 5, 7, 1, 3, 5, 7]\n"
     ]
    }
   ],
   "source": [
    "l = []\n",
    "for i in range(1,8,2): \n",
    "    l += [i]\n",
    "print 3*l"
   ]
  },
  {
   "cell_type": "markdown",
   "metadata": {},
   "source": [
    "# Question 3"
   ]
  },
  {
   "cell_type": "markdown",
   "metadata": {},
   "source": [
    "### Part 1"
   ]
  },
  {
   "cell_type": "code",
   "execution_count": 7,
   "metadata": {},
   "outputs": [
    {
     "data": {
      "text/plain": [
       "32"
      ]
     },
     "execution_count": 7,
     "metadata": {},
     "output_type": "execute_result"
    }
   ],
   "source": [
    "reduce(lambda x, y: x*y, [2 for i in range(5)])"
   ]
  },
  {
   "cell_type": "markdown",
   "metadata": {},
   "source": [
    "### Part 2"
   ]
  },
  {
   "cell_type": "code",
   "execution_count": 8,
   "metadata": {},
   "outputs": [
    {
     "data": {
      "text/plain": [
       "4"
      ]
     },
     "execution_count": 8,
     "metadata": {},
     "output_type": "execute_result"
    }
   ],
   "source": [
    "reduce(lambda x, y: x if (x>y) else y, range(5))"
   ]
  },
  {
   "cell_type": "markdown",
   "metadata": {},
   "source": [
    "# Question 4"
   ]
  },
  {
   "cell_type": "markdown",
   "metadata": {},
   "source": [
    "Write down a Python function `second_largest(xs)` that will return the second largest element of a list `xs`. [Hint: sort but do not use the built-in `sort()` function]"
   ]
  },
  {
   "cell_type": "code",
   "execution_count": 9,
   "metadata": {},
   "outputs": [
    {
     "name": "stdout",
     "output_type": "stream",
     "text": [
      "50\n"
     ]
    }
   ],
   "source": [
    "def swap(xs, i, j): \n",
    "    dum = xs[i]\n",
    "    xs[i] = xs[j]\n",
    "    xs[j] = dum \n",
    "\n",
    "def argmax(xs): \n",
    "    current_max = xs[0]\n",
    "    current_max_location = 0\n",
    "    for i, x in enumerate(xs): \n",
    "        if x > current_max: \n",
    "            current_max = x \n",
    "            current_max_location = i \n",
    "    return current_max_location\n",
    "\n",
    "def sort(xs): \n",
    "    for i in range(len(xs)): \n",
    "        swap(xs, i+argmax(xs[i:]), i)\n",
    "    \n",
    "def second_largest(xs): \n",
    "    sort(xs)\n",
    "    return xs[1]\n",
    "\n",
    "print second_largest([-10,40,50,70])"
   ]
  },
  {
   "cell_type": "markdown",
   "metadata": {},
   "source": [
    "# Question 5"
   ]
  },
  {
   "cell_type": "markdown",
   "metadata": {},
   "source": [
    "Write down a Python function `base_10(binary_number)` that will convert a number in binary to its base-10 equivalent, e.g. `base_10(1101)` should return `13`. [Hint: use `digits(binary_number)` which gives you a list of the digits of the binary number in reverse order and remember that, e.g., 11 in base 2 is $2^1 + 2^0$ in base 10.] "
   ]
  },
  {
   "cell_type": "code",
   "execution_count": 1,
   "metadata": {},
   "outputs": [
    {
     "name": "stdout",
     "output_type": "stream",
     "text": [
      "binary number =  1101\n",
      "digits of binary number in reverse order =  [1, 0, 1, 1]\n",
      "binary number in base base 10 =  13\n"
     ]
    }
   ],
   "source": [
    "b = 1101\n",
    "print 'binary number = ', b\n",
    "\n",
    "def digits(n): \n",
    "    '''returns a list containing digits of n in reverse order'''\n",
    "    if n == 0:\n",
    "        return []\n",
    "    return [n % 10] + digits(n // 10)\n",
    "print 'digits of binary number in reverse order = ', digits(b)\n",
    "\n",
    "def base_10(binary_number):\n",
    "    binary_digits = digits(binary_number)\n",
    "    result = 0\n",
    "    for i, binary_digit in enumerate(binary_digits): \n",
    "        result += binary_digit*2**i\n",
    "    return result\n",
    "print 'binary number in base base 10 = ', base_10(b)"
   ]
  },
  {
   "cell_type": "code",
   "execution_count": null,
   "metadata": {
    "collapsed": true
   },
   "outputs": [],
   "source": []
  }
 ],
 "metadata": {
  "kernelspec": {
   "display_name": "Python 2",
   "language": "python",
   "name": "python2"
  },
  "language_info": {
   "codemirror_mode": {
    "name": "ipython",
    "version": 2
   },
   "file_extension": ".py",
   "mimetype": "text/x-python",
   "name": "python",
   "nbconvert_exporter": "python",
   "pygments_lexer": "ipython2",
   "version": "2.7.14"
  }
 },
 "nbformat": 4,
 "nbformat_minor": 2
}

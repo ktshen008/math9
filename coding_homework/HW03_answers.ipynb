{
 "cells": [
  {
   "cell_type": "code",
   "execution_count": 1,
   "metadata": {
    "collapsed": true
   },
   "outputs": [],
   "source": [
    "# Student name: \n",
    "# Student ID: "
   ]
  },
  {
   "cell_type": "markdown",
   "metadata": {},
   "source": [
    "Please fill this notebook with your code (if necessary, remove `pass` after \"# your code here\"), execute all cells, save the notebook on your machine. Upload the notebook (the file whose filename extension is `.ipynb`) only. Please upload to the [Math9 HW03 Dropbox](https://eee.uci.edu/toolbox/dropbox/) by the deadline indicated in the Dropbox. A primer on Dropbox is [here](https://eee.uci.edu/help/dropbox/instructors/_assets/dropbox_primer.pdf)."
   ]
  },
  {
   "cell_type": "markdown",
   "metadata": {},
   "source": [
    "## Problem 1 \n",
    "\n",
    "Using the `isprime(n)` function from lecture, write a function `primes_basic(m)` that returns a list of prime numbers between $1$ and $m$. \n",
    "\n"
   ]
  },
  {
   "cell_type": "markdown",
   "metadata": {},
   "source": [
    "### Solution"
   ]
  },
  {
   "cell_type": "code",
   "execution_count": 3,
   "metadata": {},
   "outputs": [
    {
     "data": {
      "text/plain": [
       "[2, 3, 5, 7, 11, 13, 17, 19, 23, 29, 31, 37]"
      ]
     },
     "execution_count": 3,
     "metadata": {},
     "output_type": "execute_result"
    }
   ],
   "source": [
    "# from the lecture:\n",
    "def isprime(n):\n",
    "    if n <= 1:\n",
    "        return False\n",
    "    d = 2\n",
    "    while d*d<=n:    # so clever!!!\n",
    "        if n % d  == 0:\n",
    "            return False\n",
    "        d += 1\n",
    "    return True\n",
    "\n",
    "# check and add approach to finding primes\n",
    "def primes_basic(m):\n",
    "    ps = []\n",
    "    for i in range(2,m+1):\n",
    "        if isprime(i):\n",
    "            ps.append(i)\n",
    "    return ps\n",
    "\n",
    "primes_basic(40)"
   ]
  },
  {
   "cell_type": "markdown",
   "metadata": {
    "collapsed": true
   },
   "source": [
    "## Problem 2 ([Sieve of Eratosthenes](https://en.wikipedia.org/wiki/Sieve_of_Eratosthenes))"
   ]
  },
  {
   "cell_type": "markdown",
   "metadata": {},
   "source": [
    "The Sieve of Eratosthenes is a method for producing primes more efficiently than the method in the preceding problem. Start with a list of numbers,\n",
    "\n",
    "\\begin{equation} \n",
    "2,3,4,5,6,7,8,9,10,11,12,13,14,15 \\ldots,m.\n",
    "\\end{equation}\n",
    "\n",
    "Eliminate all multiples of 2 (the first prime), excluding itself:\n",
    "\n",
    "\\begin{equation} \n",
    "2,3,(4),5,(6),7,(8),9,(10),11,(12),13,(14),15 \\ldots,m.\n",
    "\\end{equation}\n",
    "\n",
    "Eliminate all multiples of the number after 2, namely 3 (the next prime), excluding itself: \n",
    "\n",
    "\\begin{equation} \n",
    "2,3,(4),5,(6),7,(8),(9),(10),11,(12),13,(14),(15) \\ldots,m.\n",
    "\\end{equation}\n",
    "\n",
    "Eliminate all multiples of the number after 3, namely 5 (the next prime), excluding itself:\n",
    "\n",
    "\\begin{equation} \n",
    "2,3,(4),5,(6),7,(8),(9),(10),11,(12),13,(14),(15) \\ldots,m.\n",
    "\\end{equation}\n",
    "\n",
    "Repeat until there are no numbers to eliminate. \n",
    "The remaining numbers are the prime numbers.\n",
    "\n",
    "Define a function `primes_sieve(m)`\n",
    "that implements the Sieve of Eratosthenes using Python lists and that returns a list of prime numbers between $1$ and $m$.\n",
    "\n"
   ]
  },
  {
   "cell_type": "markdown",
   "metadata": {},
   "source": [
    "Optional note: \n",
    "\n",
    "In class we spoke about algorithm complexity -- how long it is expected to take for an algorithm to complete. For those who are curious, the Sieve of Eratosthenes is an $O(n\\log n)$ algorithm: see [ShreevatsaR' answer](https://stackoverflow.com/questions/2582732/time-complexity-of-sieve-of-eratosthenes-algorithm)"
   ]
  },
  {
   "cell_type": "markdown",
   "metadata": {},
   "source": [
    "### Hint \n",
    "\n",
    "One thing you may (or may not) find useful is to create a list like this:"
   ]
  },
  {
   "cell_type": "code",
   "execution_count": 71,
   "metadata": {},
   "outputs": [
    {
     "data": {
      "text/plain": [
       "[True, True, True, True, True, True, True, True, True, True]"
      ]
     },
     "execution_count": 71,
     "metadata": {},
     "output_type": "execute_result"
    }
   ],
   "source": [
    "is_prime = 10*[True]\n",
    "is_prime"
   ]
  },
  {
   "cell_type": "markdown",
   "metadata": {},
   "source": [
    "### Solution"
   ]
  },
  {
   "cell_type": "code",
   "execution_count": 21,
   "metadata": {
    "collapsed": true
   },
   "outputs": [],
   "source": [
    "def primes_sieve(m):\n",
    "    is_prime = m*[True]\n",
    "    primes = []  \n",
    "    for i in range(2,m):\n",
    "        if is_prime[i]:\n",
    "            primes.append(i)\n",
    "            # mark out multiples of i\n",
    "            for j in range(2*i,m,i):\n",
    "                is_prime[j] = False\n",
    "    return primes\n",
    "primes_sieve(40)"
   ]
  },
  {
   "cell_type": "markdown",
   "metadata": {},
   "source": [
    "## Problem 3 (lists)\n",
    "\n",
    "Produce the following lists in Python. Use list comprehension, list comprehension with if (`[blah for i in some list if some_condition]`), list concatenation, `m*list`, etc. Try not to use `for` or `while` loops. \n",
    "\n",
    "Write your solution in a code cell under the corresponding markdown cell. \n",
    "\n",
    "\n",
    "\n"
   ]
  },
  {
   "cell_type": "markdown",
   "metadata": {},
   "source": [
    "* `[1,3,5,7,..,51]`"
   ]
  },
  {
   "cell_type": "code",
   "execution_count": 30,
   "metadata": {},
   "outputs": [
    {
     "data": {
      "text/plain": [
       "[1,\n",
       " 3,\n",
       " 5,\n",
       " 7,\n",
       " 9,\n",
       " 11,\n",
       " 13,\n",
       " 15,\n",
       " 17,\n",
       " 19,\n",
       " 21,\n",
       " 23,\n",
       " 25,\n",
       " 27,\n",
       " 29,\n",
       " 31,\n",
       " 33,\n",
       " 35,\n",
       " 37,\n",
       " 39,\n",
       " 41,\n",
       " 43,\n",
       " 45,\n",
       " 47,\n",
       " 49,\n",
       " 51]"
      ]
     },
     "execution_count": 30,
     "metadata": {},
     "output_type": "execute_result"
    }
   ],
   "source": [
    "range(1,52,2)"
   ]
  },
  {
   "cell_type": "markdown",
   "metadata": {},
   "source": [
    "* `[21,23,25,27,..,51]`"
   ]
  },
  {
   "cell_type": "code",
   "execution_count": 31,
   "metadata": {
    "scrolled": true
   },
   "outputs": [
    {
     "data": {
      "text/plain": [
       "[21, 23, 25, 27, 29, 31, 33, 35, 37, 39, 41, 43, 45, 47, 49, 51]"
      ]
     },
     "execution_count": 31,
     "metadata": {},
     "output_type": "execute_result"
    }
   ],
   "source": [
    "range(21,52,2)"
   ]
  },
  {
   "cell_type": "markdown",
   "metadata": {},
   "source": [
    "* `[1,2,4,8,16,.., 1048576]`"
   ]
  },
  {
   "cell_type": "code",
   "execution_count": 32,
   "metadata": {
    "scrolled": true
   },
   "outputs": [
    {
     "data": {
      "text/plain": [
       "[1,\n",
       " 2,\n",
       " 4,\n",
       " 8,\n",
       " 16,\n",
       " 32,\n",
       " 64,\n",
       " 128,\n",
       " 256,\n",
       " 512,\n",
       " 1024,\n",
       " 2048,\n",
       " 4096,\n",
       " 8192,\n",
       " 16384,\n",
       " 32768,\n",
       " 65536,\n",
       " 131072,\n",
       " 262144,\n",
       " 524288,\n",
       " 1048576]"
      ]
     },
     "execution_count": 32,
     "metadata": {},
     "output_type": "execute_result"
    }
   ],
   "source": [
    "[2**i for i in range(21)]"
   ]
  },
  {
   "cell_type": "markdown",
   "metadata": {},
   "source": [
    "* `[1,-1,1,-1,..,1,-1] (length 20)`"
   ]
  },
  {
   "cell_type": "code",
   "execution_count": 34,
   "metadata": {
    "scrolled": true
   },
   "outputs": [
    {
     "name": "stdout",
     "output_type": "stream",
     "text": [
      "[1, -1, 1, -1, 1, -1, 1, -1, 1, -1, 1, -1, 1, -1, 1, -1, 1, -1, 1, -1]\n",
      "[1, -1, 1, -1, 1, -1, 1, -1, 1, -1, 1, -1, 1, -1, 1, -1, 1, -1, 1, -1]\n"
     ]
    }
   ],
   "source": [
    "print [(-1)**i for i in range(20)]\n",
    "\n",
    "# alternative\n",
    "print 10*[1,-1]"
   ]
  },
  {
   "cell_type": "markdown",
   "metadata": {},
   "source": [
    "* `[0,1,1,1,..,1] (length 20)`"
   ]
  },
  {
   "cell_type": "code",
   "execution_count": 36,
   "metadata": {},
   "outputs": [
    {
     "data": {
      "text/plain": [
       "[0, 1, 1, 1, 1, 1, 1, 1, 1, 1, 1, 1, 1, 1, 1, 1, 1, 1, 1, 1]"
      ]
     },
     "execution_count": 36,
     "metadata": {},
     "output_type": "execute_result"
    }
   ],
   "source": [
    "xs = 20*[1]\n",
    "xs[0] = 0\n",
    "xs"
   ]
  },
  {
   "cell_type": "markdown",
   "metadata": {},
   "source": [
    "* `[1,0,1,0,0,1,0,0,0,1,0,0,0,0,1,0,0,0,0,0,1,..] (length 100)` Looping might be easier for this one, but can you do it with only one loop? Hint: use `list.extend()`"
   ]
  },
  {
   "cell_type": "code",
   "execution_count": 35,
   "metadata": {},
   "outputs": [
    {
     "data": {
      "text/plain": [
       "[1,\n",
       " 0,\n",
       " 1,\n",
       " 0,\n",
       " 0,\n",
       " 1,\n",
       " 0,\n",
       " 0,\n",
       " 0,\n",
       " 1,\n",
       " 0,\n",
       " 0,\n",
       " 0,\n",
       " 0,\n",
       " 1,\n",
       " 0,\n",
       " 0,\n",
       " 0,\n",
       " 0,\n",
       " 0,\n",
       " 1,\n",
       " 0,\n",
       " 0,\n",
       " 0,\n",
       " 0,\n",
       " 0,\n",
       " 0,\n",
       " 1,\n",
       " 0,\n",
       " 0,\n",
       " 0,\n",
       " 0,\n",
       " 0,\n",
       " 0,\n",
       " 0,\n",
       " 1,\n",
       " 0,\n",
       " 0,\n",
       " 0,\n",
       " 0,\n",
       " 0,\n",
       " 0,\n",
       " 0,\n",
       " 0,\n",
       " 1,\n",
       " 0,\n",
       " 0,\n",
       " 0,\n",
       " 0,\n",
       " 0,\n",
       " 0,\n",
       " 0,\n",
       " 0,\n",
       " 0,\n",
       " 1,\n",
       " 0,\n",
       " 0,\n",
       " 0,\n",
       " 0,\n",
       " 0,\n",
       " 0,\n",
       " 0,\n",
       " 0,\n",
       " 0,\n",
       " 0,\n",
       " 1,\n",
       " 0,\n",
       " 0,\n",
       " 0,\n",
       " 0,\n",
       " 0,\n",
       " 0,\n",
       " 0,\n",
       " 0,\n",
       " 0,\n",
       " 0,\n",
       " 0,\n",
       " 1,\n",
       " 0,\n",
       " 0,\n",
       " 0,\n",
       " 0,\n",
       " 0,\n",
       " 0,\n",
       " 0,\n",
       " 0,\n",
       " 0,\n",
       " 0,\n",
       " 0,\n",
       " 0,\n",
       " 1,\n",
       " 0,\n",
       " 0,\n",
       " 0,\n",
       " 0,\n",
       " 0,\n",
       " 0,\n",
       " 0,\n",
       " 0,\n",
       " 0]"
      ]
     },
     "execution_count": 35,
     "metadata": {},
     "output_type": "execute_result"
    }
   ],
   "source": [
    "xs = []\n",
    "for i in range(50):\n",
    "    xs.extend(i*[0] + [1])\n",
    "# we want only the first 100 elements\n",
    "xs[:100]"
   ]
  },
  {
   "cell_type": "markdown",
   "metadata": {},
   "source": [
    "# Problem 4 (list functions)\n",
    "\n",
    "For each of the following, write the described function. Please pay attention to the description of the function, some of them say to return a new list, which means that your function shouldn’t modify `xs`, but should make a fresh list and return that; others (e.g. `reverse`) ask you to modify `xs` (these should return `xs` anyway). Check each function on at least two examples."
   ]
  },
  {
   "cell_type": "markdown",
   "metadata": {},
   "source": [
    "`kth_from_last(xs,k)`. Returns the kth from last element of `xs`. \n",
    "* `f([1,2,3,4], 1)` should return `4`. \n",
    "* `f([1,2,3,4], 3)` should return `2`"
   ]
  },
  {
   "cell_type": "code",
   "execution_count": 37,
   "metadata": {},
   "outputs": [
    {
     "name": "stdout",
     "output_type": "stream",
     "text": [
      "5\n",
      "4\n"
     ]
    }
   ],
   "source": [
    "def kth_from_last(xs,k):   # assuming k>0\n",
    "    return xs[-k]\n",
    "print(kth_from_last([1,2,3,4,5],1))\n",
    "print(kth_from_last([1,2,3,4,5],2))"
   ]
  },
  {
   "cell_type": "markdown",
   "metadata": {},
   "source": [
    "`damean(xs)`. Returns the mean (average) of the elements of `xs`. \n",
    "* `damean([1,2,3,4])` should return 2.5\n",
    "\n",
    "NOTE: write `1/2.0` not `1/2`. The latter is integer arithmetic in `Python 2`"
   ]
  },
  {
   "cell_type": "code",
   "execution_count": 39,
   "metadata": {},
   "outputs": [
    {
     "data": {
      "text/plain": [
       "2.5"
      ]
     },
     "execution_count": 39,
     "metadata": {},
     "output_type": "execute_result"
    }
   ],
   "source": [
    "def da_mean(xs):\n",
    "    total = 0\n",
    "    for x in xs:\n",
    "        total += x\n",
    "    return total/float(len(xs))\n",
    "\n",
    "da_mean([1,2,3,4])"
   ]
  },
  {
   "cell_type": "markdown",
   "metadata": {},
   "source": [
    "`appears(xs,ys)` returns the number of times `ys` appears in `xs` as a subsequence. \n",
    "* `appears([1,2,3,4,1,1,2,1], [1,2])` should return 2"
   ]
  },
  {
   "cell_type": "code",
   "execution_count": 44,
   "metadata": {},
   "outputs": [
    {
     "data": {
      "text/plain": [
       "2"
      ]
     },
     "execution_count": 44,
     "metadata": {},
     "output_type": "execute_result"
    }
   ],
   "source": [
    "def appears(xs,ys):  \n",
    "    times_seen = 0\n",
    "    for i in range(len(xs)):\n",
    "        if xs[i:i+len(ys)] == ys:  \n",
    "            times_seen += 1\n",
    "    return times_seen\n",
    "\n",
    "appears([1,2,3,4,1,1,2,1], [1,2])"
   ]
  },
  {
   "cell_type": "markdown",
   "metadata": {},
   "source": [
    "`reverse(xs)`, reverses the order of the elements of `xs` and returns `xs`. [Hint: use `swap`]\n",
    "\n",
    "* if `xs = [1,2,3,4]`, then `reverse(xs)` should return `[4,3,2,1]`,\n",
    "and afterwards, if we print `xs`, we should see `[4,3,2,1]`."
   ]
  },
  {
   "cell_type": "code",
   "execution_count": 56,
   "metadata": {},
   "outputs": [
    {
     "name": "stdout",
     "output_type": "stream",
     "text": [
      "[1, 2, 3, 4, 5]\n",
      "[5, 4, 3, 2, 1]\n",
      "[5, 4, 3, 2, 1]\n"
     ]
    }
   ],
   "source": [
    "def swap(xs, i, j):\n",
    "    dum = xs[i]\n",
    "    xs[i] = xs[j]\n",
    "    xs[j] = dum\n",
    "\n",
    "def reverse(xs):\n",
    "    N = len(xs)\n",
    "    for i in range(N//2):\n",
    "        swap(xs, i, N-i-1)\n",
    "    return xs\n",
    "\n",
    "xs = [1,2,3,4,5]\n",
    "print xs\n",
    "print reverse(xs)\n",
    "print xs"
   ]
  }
 ],
 "metadata": {
  "kernelspec": {
   "display_name": "Python 2",
   "language": "python",
   "name": "python2"
  },
  "language_info": {
   "codemirror_mode": {
    "name": "ipython",
    "version": 2
   },
   "file_extension": ".py",
   "mimetype": "text/x-python",
   "name": "python",
   "nbconvert_exporter": "python",
   "pygments_lexer": "ipython2",
   "version": "2.7.14"
  }
 },
 "nbformat": 4,
 "nbformat_minor": 2
}

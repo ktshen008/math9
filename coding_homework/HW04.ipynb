{
 "cells": [
  {
   "cell_type": "code",
   "execution_count": 2,
   "metadata": {
    "collapsed": true
   },
   "outputs": [],
   "source": [
    "# Student name: \n",
    "# Student ID: "
   ]
  },
  {
   "cell_type": "markdown",
   "metadata": {},
   "source": [
    "Please fill this notebook with your code (if necessary, remove `pass` after \"# your code here\"), execute all cells, save the notebook on your machine. Upload the notebook (the file whose filename extension is `.ipynb`) only. Please upload to the [Math9 HW04 Dropbox](https://eee.uci.edu/toolbox/dropbox/) by the deadline indicated in the Dropbox. A primer on Dropbox is [here](https://eee.uci.edu/help/dropbox/instructors/_assets/dropbox_primer.pdf)."
   ]
  },
  {
   "cell_type": "markdown",
   "metadata": {},
   "source": [
    "# Problem 1: binary and decimal \n",
    "\n",
    "Write a function `binary(decimal_number)` that will return the binary representation of an integer, e.g., `binary(13)` should return `1101`. Refer to Method 1 at [this webpage](https://www.wikihow.com/Convert-from-Decimal-to-Binary). Write a function `decimal(binary_number)` that will return the base 10 representation of a binary number, e.g., `decimal(1101)` should return `13`. These two functions should be inverses of each other, i.e. `decimal(binary(decimal_number))` should return `decimal_number`. \n",
    "\n"
   ]
  },
  {
   "cell_type": "markdown",
   "metadata": {},
   "source": [
    "### Solution"
   ]
  },
  {
   "cell_type": "code",
   "execution_count": 4,
   "metadata": {},
   "outputs": [
    {
     "name": "stdout",
     "output_type": "stream",
     "text": [
      "binary digits of 13 in reverse order are:  [1, 0, 1, 1]\n",
      "decimal digits of 1101 in reverse order are:  [1, 0, 1, 1]\n"
     ]
    }
   ],
   "source": [
    "def digits(n, base): \n",
    "    if n == 0:\n",
    "        return []\n",
    "    return [n % base] + digits(n // base, base)\n",
    "\n",
    "print 'binary digits of 13 in reverse order are: ', digits(13,2)\n",
    "print 'decimal digits of 1101 in reverse order are: ', digits(1101,10)"
   ]
  },
  {
   "cell_type": "code",
   "execution_count": 5,
   "metadata": {},
   "outputs": [
    {
     "name": "stdout",
     "output_type": "stream",
     "text": [
      "13 in binary is: None\n",
      "1101 in decimal is: None\n"
     ]
    }
   ],
   "source": [
    "def binary(decimal_number): \n",
    "    # your code here \n",
    "    pass\n",
    "print '13 in binary is:', binary(13)\n",
    "\n",
    "def decimal(binary_number): \n",
    "    # your code here \n",
    "    pass\n",
    "print '1101 in decimal is:', decimal(1101)"
   ]
  },
  {
   "cell_type": "markdown",
   "metadata": {},
   "source": [
    "Checking to see if these functions are really inverses of each other:"
   ]
  },
  {
   "cell_type": "code",
   "execution_count": 6,
   "metadata": {},
   "outputs": [
    {
     "name": "stdout",
     "output_type": "stream",
     "text": [
      "None None None None None None None None None None None None None None None None None None None None\n"
     ]
    }
   ],
   "source": [
    "for i in range(20):\n",
    "    print decimal(binary(i)), "
   ]
  },
  {
   "cell_type": "markdown",
   "metadata": {},
   "source": [
    "# Problem 2: Goldbach’s conjecture\n",
    "\n",
    "The famous Goldbach conjecture states that every even number $n > 2$ is a sum of two\n",
    "prime numbers. Forexample: $4=2+2,6=3+3,8=5+3,10=7+3,12=7+5,...$\n",
    "\n",
    "Write Python code that checks Goldbach’s conjecture for $n$ up to $10000$. Print out how the even numbers from $9900$ to $9998$ can be written as sums of prime numbers. Use your `primes_sieve(n)`, which returned a list of primes up to $n$ from the previous assignment."
   ]
  },
  {
   "cell_type": "code",
   "execution_count": 8,
   "metadata": {},
   "outputs": [],
   "source": [
    "def primes_sieve(m):\n",
    "    is_prime = m*[True]\n",
    "    primes = []  \n",
    "    for i in range(2,m):\n",
    "        if is_prime[i]:\n",
    "            primes.append(i)\n",
    "            # mark out multiples of i\n",
    "            for j in range(2*i,m,i):\n",
    "                is_prime[j] = False\n",
    "    return primes\n",
    "\n",
    "# your code here "
   ]
  },
  {
   "cell_type": "markdown",
   "metadata": {},
   "source": [
    "# Problem 3: Recursion\n",
    "\n",
    "Here is an example of a recursive function: (if you understand how this works, you understand recursion): \n",
    "\n"
   ]
  },
  {
   "cell_type": "code",
   "execution_count": 51,
   "metadata": {},
   "outputs": [
    {
     "data": {
      "text/plain": [
       "[4, 3, 2, 1]"
      ]
     },
     "execution_count": 51,
     "metadata": {},
     "output_type": "execute_result"
    }
   ],
   "source": [
    "def reverse(xs): \n",
    "    if xs == []:\n",
    "        return xs\n",
    "    return xs[-1:] + reverse(xs[:-1])\n",
    "reverse([1,2,3,4])"
   ]
  },
  {
   "cell_type": "markdown",
   "metadata": {},
   "source": [
    "Write the following functions  using only recursion. \n",
    "\n",
    "* `maximo(xs)`, returns the maximum of a list of numbers.\n",
    "* `lengtho(xs)`, returns the length of a list.\n",
    "* `ispalindrome(xs)` returns `True` if `xs` is a palindrome (a palindrome is a sequence that is the same in reverse, example: “amanaplanacanalpanama”).\n",
    "* `gcd(a,b)`, returns the greatest common divisor of two integers `a` and `b`. Use Euclid’s algorithm, but implement it using recursion. Remember the key fact: if `a = b*q + r`, then `gcd(a,b) = gcd(b,r)`.\n",
    "\n",
    "Please don’t use loops, the idea is for us to learn how to use recursion. If I gave you only recursion exercises that are easier to do with recursion and hard to do with loops, they would be very difficult and it would make it much harder for you to learn to use recursion. \n",
    "\n",
    "Also please don’t use the built-in function `max`, etc."
   ]
  },
  {
   "cell_type": "markdown",
   "metadata": {},
   "source": [
    "### Solution"
   ]
  },
  {
   "cell_type": "code",
   "execution_count": 9,
   "metadata": {},
   "outputs": [],
   "source": [
    "def maximo(xs):\n",
    "    # your code here \n",
    "    pass \n",
    "maximo([1,2,3,5,-2])"
   ]
  },
  {
   "cell_type": "code",
   "execution_count": 10,
   "metadata": {},
   "outputs": [],
   "source": [
    "def lengtho(xs):\n",
    "    # your code here \n",
    "    pass \n",
    "        \n",
    "lengtho([1,2,3,4,1,4,1,4,1,1])"
   ]
  },
  {
   "cell_type": "code",
   "execution_count": 11,
   "metadata": {},
   "outputs": [
    {
     "name": "stdout",
     "output_type": "stream",
     "text": [
      "None\n",
      "None\n"
     ]
    }
   ],
   "source": [
    "def ispalindrome(xs):\n",
    "    # your code here \n",
    "    pass \n",
    "\n",
    "print ispalindrome(\"abba\")\n",
    "print ispalindrome(\"abca\")"
   ]
  },
  {
   "cell_type": "markdown",
   "metadata": {},
   "source": [
    "We already know Euclid's algorithm for GCD. We now want to implement it using recursion:"
   ]
  },
  {
   "cell_type": "code",
   "execution_count": 12,
   "metadata": {},
   "outputs": [
    {
     "name": "stdout",
     "output_type": "stream",
     "text": [
      "None\n",
      "None\n",
      "None\n"
     ]
    }
   ],
   "source": [
    "def gcd(a,b):\n",
    "    # your code here \n",
    "    pass \n",
    "\n",
    "print(gcd(15,25))\n",
    "print(gcd(17,25))\n",
    "print(gcd(30,100))"
   ]
  },
  {
   "cell_type": "code",
   "execution_count": null,
   "metadata": {
    "collapsed": true
   },
   "outputs": [],
   "source": []
  }
 ],
 "metadata": {
  "kernelspec": {
   "display_name": "Python 2",
   "language": "python",
   "name": "python2"
  },
  "language_info": {
   "codemirror_mode": {
    "name": "ipython",
    "version": 2
   },
   "file_extension": ".py",
   "mimetype": "text/x-python",
   "name": "python",
   "nbconvert_exporter": "python",
   "pygments_lexer": "ipython2",
   "version": "2.7.14"
  }
 },
 "nbformat": 4,
 "nbformat_minor": 2
}

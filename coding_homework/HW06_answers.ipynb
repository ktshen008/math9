{
 "cells": [
  {
   "cell_type": "code",
   "execution_count": 1,
   "metadata": {
    "collapsed": true
   },
   "outputs": [],
   "source": [
    "# Student name: \n",
    "# Student ID: "
   ]
  },
  {
   "cell_type": "markdown",
   "metadata": {},
   "source": [
    "Please fill this notebook with your code (if necessary, remove `pass` after \"# your code here\"), execute all cells, save the notebook on your machine. Upload the notebook (the file whose filename extension is `.ipynb`) only. Please upload to the [Math9 HW06 Dropbox](https://eee.uci.edu/toolbox/dropbox/) by the deadline indicated in the Dropbox. A primer on Dropbox is [here](https://eee.uci.edu/help/dropbox/instructors/_assets/dropbox_primer.pdf)."
   ]
  },
  {
   "cell_type": "markdown",
   "metadata": {
    "collapsed": true
   },
   "source": [
    "# Problem 1: Goldbach's wrong conjecture\n",
    "\n",
    "It was proposed by Goldbach that every odd number can be written as the sum of a prime and twice a square. For example:\n",
    "\n",
    "\\begin{eqnarray*}\n",
    "7 = 7 + 2 \\times 0^2\\\\\n",
    "9 = 7 + 2\\times 1^2\\\\\n",
    "11 = 11 + 2 \\times 0^2\\\\\n",
    "15 = 7 + 2\\times2^2 \\\\\n",
    "21 = 3 + 2\\times3^2\\\\\n",
    "25 = 7 + 2\\times3^2\\\\\n",
    "27 = 19 + 2\\times2^2\\\\\n",
    "33 = 31 + 2\\times1^2\n",
    "\\end{eqnarray*}\n",
    "\n",
    "Prove Golbach wrong by finding the first odd number that is not a prime plus twice a square.\n",
    "\n"
   ]
  },
  {
   "cell_type": "markdown",
   "metadata": {},
   "source": [
    "### Solution"
   ]
  },
  {
   "cell_type": "code",
   "execution_count": 2,
   "metadata": {
    "collapsed": true
   },
   "outputs": [],
   "source": [
    "def is_prime(n):\n",
    "    if n <= 1:\n",
    "        return False\n",
    "    d = 2\n",
    "    while d*d<=n:    # so clever!!!\n",
    "        if n % d  == 0:\n",
    "            return False\n",
    "        d += 1\n",
    "    return True"
   ]
  },
  {
   "cell_type": "code",
   "execution_count": 3,
   "metadata": {
    "collapsed": true
   },
   "outputs": [],
   "source": [
    "# modularize your code by writing this useful function\n",
    "def is_prime_plus_twice_a_square(m, print_when_found=False):\n",
    "    s = 0\n",
    "    while 2*s*s < m:\n",
    "        if is_prime(m - 2*s*s):\n",
    "            if print_when_found:\n",
    "                print m, \"=\", m - 2*s*s, \"+ 2 *\", s,\"*\", s\n",
    "            return True\n",
    "        s += 1\n",
    "    return False"
   ]
  },
  {
   "cell_type": "code",
   "execution_count": 4,
   "metadata": {},
   "outputs": [
    {
     "name": "stdout",
     "output_type": "stream",
     "text": [
      "35 = 17 + 2 * 3 * 3\n"
     ]
    },
    {
     "data": {
      "text/plain": [
       "True"
      ]
     },
     "execution_count": 4,
     "metadata": {},
     "output_type": "execute_result"
    }
   ],
   "source": [
    "# test your function\n",
    "is_prime_plus_twice_a_square(35, print_when_found=True)"
   ]
  },
  {
   "cell_type": "code",
   "execution_count": 5,
   "metadata": {},
   "outputs": [
    {
     "name": "stdout",
     "output_type": "stream",
     "text": [
      "5777\n"
     ]
    }
   ],
   "source": [
    "# use your function to compute the first counter example\n",
    "m = 3\n",
    "while is_prime_plus_twice_a_square(m):\n",
    "    m += 2\n",
    "print m"
   ]
  },
  {
   "cell_type": "markdown",
   "metadata": {},
   "source": [
    "# Problem 2: Polynomial v2.0\n",
    "\n",
    "In the previous homework, we designed a class for polynomials. Please check last week's solutions if you were not sure about how to do this. Our class supported \n",
    "\n",
    "* initialization by list, i.e. `__init__(self, coefficients)`\n",
    "* printing, i.e. `__repr__(self)`\n",
    "* addition, i.e. `__add__(self, other)`\n",
    "* evaluation, i.e. `evaluate(self, x)`\n",
    "\n",
    "Add the following functionality to `Polynomial`:\n",
    "\n",
    "* `cleanup()`, should remove monomials with zero coefficients at the end of the polynomial, i.e. monomials of highest degree. Assume a float is zero if it is less than $\\epsilon = 0.00000000001$. For example, \n",
    "```\n",
    "p = Polynomial([1.0,1.0,0.0])\n",
    "p.cleanup()\n",
    "print p\n",
    "```\n",
    "should print `1.0 + 1.0x^1`. \n",
    "\n",
    "* `p.degree()` should return the degree of $p(x)$. For example, `Polynomial([1.0, 0.0, 0.5]).degree()` should be 2. Be careful: `Polynomial([1.0, 0.0, 0.0, 0.0]).degree()` should be zero.\n",
    "  \n",
    "* `p == q`, should return `True` if all the coefficients of `p` and `q` are within $\\epsilon$ of each other, and `False` otherwise. You do this by implementing a method called `__eq__(self, other)` in the `Polynomial` class. \n",
    "\n",
    "* `power_of_x(n)` should return $x^n$ as a `Polynomial`.\n",
    "\n",
    "* `p * q`, should return the product of two polynomials. You do this by implementing `__mul__(self, other)` within the class. [Hint: use the `scalar_mult` method that I've written for you and the `power_of_x` function you wrote previously.]\n",
    "\n",
    "Make sure you test each method with a couple of examples. \n",
    "\n"
   ]
  },
  {
   "cell_type": "code",
   "execution_count": 6,
   "metadata": {
    "collapsed": true
   },
   "outputs": [],
   "source": [
    "class Polynomial():\n",
    "    def __init__(self, xs):\n",
    "        self.coeffs = xs\n",
    "    \n",
    "    def __repr__(self):\n",
    "        if self.coeffs == []:\n",
    "            return \"0\"\n",
    "        c = \"\"\n",
    "        for i, x in enumerate(self.coeffs):\n",
    "            c += str(x) + \"x\" + \"^\" + str(i) + \" + \"\n",
    "        return c[:-3]\n",
    "    \n",
    "    def __add__(self, other):\n",
    "        i = 0\n",
    "        new_coeffs = [0.0 for i in range(max(len(self.coeffs), len(other.coeffs)))]\n",
    "        for i in range(len(new_coeffs)):\n",
    "            coefa = self.coeffs[i] if i < len(self.coeffs) else 0.0\n",
    "            coefb = other.coeffs[i] if i < len(other.coeffs) else 0.0\n",
    "            new_coeffs[i] = coefa + coefb\n",
    "        return Polynomial(new_coeffs)\n",
    "                \n",
    "    def evaluate(self, x):\n",
    "        total = 0.0\n",
    "        power_of_x = 1\n",
    "        for i, coe in enumerate(self.coeffs):\n",
    "            total += coe * power_of_x\n",
    "            power_of_x *= x\n",
    "        return total\n",
    "    \n",
    "    # removes 0 coefficients at end of polynomial\n",
    "    def cleanup(self):\n",
    "        i = len(self.coeffs) - 1\n",
    "        while i >= 0 and self.coeffs[i] < 0.0000000001:\n",
    "            i -= 1\n",
    "        # if it was all zero\n",
    "        if i == -1:\n",
    "            self.coeffs = []\n",
    "        self.coeffs = self.coeffs[:i+1]\n",
    "    \n",
    "    def degree(self):\n",
    "        self.cleanup()\n",
    "        if len(self.coeffs) > 0:\n",
    "            return len(self.coeffs) - 1\n",
    "        else: \n",
    "            return None\n",
    "    \n",
    "    def __eq__(self, other):\n",
    "        ds = self.degree()  # degree of self\n",
    "        do = other.degree() # degree of other\n",
    "        for i in range(max(do, ds) + 1):\n",
    "            cs = 0.0 if i > ds else self.coeffs[i]\n",
    "            co = 0.0 if i > do else other.coeffs[i]\n",
    "            if abs(cs - co) > 0.0000000001:\n",
    "                return False\n",
    "        return True\n",
    "       \n",
    "    def scalar_mult(self, alpha):\n",
    "        for i in range(len(self.coeffs)):\n",
    "            self.coeffs[i] *= alpha\n",
    "        return self\n",
    "    \n",
    "    def __mul__(self, other):\n",
    "        answer = Polynomial([])\n",
    "        for i, cs in enumerate(self.coeffs):\n",
    "            for j, co in enumerate(other.coeffs):\n",
    "                answer += power_of_x(i + j).scalar_mult(cs * co)\n",
    "        return answer\n",
    "            \n",
    "def power_of_x(n):\n",
    "    return Polynomial([0 for i in range(n)] + [1.0])"
   ]
  },
  {
   "cell_type": "code",
   "execution_count": 7,
   "metadata": {},
   "outputs": [
    {
     "name": "stdout",
     "output_type": "stream",
     "text": [
      "p = 1.0x^0 + 2.0x^1 + 3.0x^2 + 0.0x^3\n",
      "q = 0.0x^0\n",
      "\n",
      "p + q = 1.0x^0 + 2.0x^1 + 3.0x^2 + 0.0x^3\n",
      "\n",
      "p(1.0) =  6.0\n",
      "\n",
      "cleaned-up p = 1.0x^0 + 2.0x^1 + 3.0x^2\n",
      "cleaned-up q = 0\n",
      "\n",
      "degree of p = 2\n",
      "degree of q = None\n",
      "r = 1.0x^0 + 0.0x^1 + 0.0x^2 + 0.0x^3\n",
      "degree of r = 0\n",
      "\n",
      "p = 1.0x^0 + 2.0x^1 + 0.0x^2 + 4.0x^3\n",
      "q = 1.0x^0 + 2.0x^1 + 0.0x^2 + 4.0x^3\n",
      "is p equal to q? True\n",
      "\n",
      "x^3 = 0x^0 + 0x^1 + 0x^2 + 1.0x^3\n",
      "\n",
      "p = 1.0x^0 + 2.0x^1 + 0.0x^2 + 4.0x^3\n",
      "3*p = 3.0x^0 + 6.0x^1 + 0.0x^2 + 12.0x^3\n",
      "\n",
      "p = 1x^0 + 2x^1\n",
      "p^2 = 1.0x^0 + 4.0x^1 + 4.0x^2\n"
     ]
    }
   ],
   "source": [
    "p = Polynomial([1.0,2.0,3.0,0.0])\n",
    "print 'p =', p\n",
    "q = Polynomial([0.0])\n",
    "print 'q =', q\n",
    "print \n",
    "\n",
    "print 'p + q =', p+q\n",
    "print \n",
    "\n",
    "print 'p(1.0) = ', p.evaluate(1.0)\n",
    "print \n",
    "\n",
    "p.cleanup()\n",
    "print 'cleaned-up p =', p\n",
    "q.cleanup()\n",
    "print 'cleaned-up q =', q\n",
    "print \n",
    "\n",
    "print 'degree of p =', p.degree()\n",
    "print 'degree of q =', q.degree()\n",
    "r = Polynomial([1.0, 0.0, 0.0, 0.0])\n",
    "print 'r =', r\n",
    "print 'degree of r =', r.degree()\n",
    "print \n",
    "\n",
    "p = Polynomial([1.0, 2.0, 0.0, 4.0])\n",
    "q = Polynomial([1.0, 2.0, 0.0, 4.0])\n",
    "print 'p =', p\n",
    "print 'q =', q\n",
    "print 'is p equal to q?', p == q\n",
    "print \n",
    "\n",
    "print 'x^3 =', power_of_x(3)\n",
    "print \n",
    "\n",
    "print 'p =', p\n",
    "print '3*p =', p.scalar_mult(3)\n",
    "print \n",
    "\n",
    "p = Polynomial([1, 2])\n",
    "print 'p =', p\n",
    "print 'p^2 =', p * p"
   ]
  },
  {
   "cell_type": "markdown",
   "metadata": {},
   "source": [
    "# Problem 3: random walk \n",
    "\n",
    "A drunk bear called Randi is standing at the origin in $\\mathbb{R}$. At each time step, he goes 1 unit to the left with probability $p = 0.5$ or 1 unit to the right with probability $1-p = 0.5$. Let the length of a random walk (number of time steps) be denoted by $M$, where $M \\leq 100$. An example simulation of Randi's walk is `[1,0,1,2,1,0,-1,-2,...,-3]`.\n",
    "\n",
    "* Make a numpy array of shape `(10000,100)` and fill it with simulated random walks each consisting of 100 time steps.\n",
    "* Compute the mean and standard deviation of the ending point of  walks of length 30. [Hints: use `np.mean` and `np.std`; also take subarrays of your simulations to do your computation.] Make a histogram of where we will find Randi at the end of his walk. \n",
    "* Consider a random walk of length $M$. Let $r_M$ be the fraction of those walks where, *at any point during the walk*, Randi returned to the origin. For $M = 1,2,3,4,5,6,7,8,9,\\dots,100$, compute $r_M$ and make a graph of $r_M$ as a function of $M$."
   ]
  },
  {
   "cell_type": "markdown",
   "metadata": {},
   "source": [
    "### Solution"
   ]
  },
  {
   "cell_type": "code",
   "execution_count": 8,
   "metadata": {},
   "outputs": [
    {
     "name": "stdout",
     "output_type": "stream",
     "text": [
      "[[  0.  -1.  -2.  -3.  -4.  -3.  -4.  -3.  -2.  -3.  -2.  -3.  -4.  -3.\n",
      "   -4.  -3.  -2.  -1.   0.   1.   2.   3.   2.   1.   0.   1.   0.  -1.\n",
      "   -2.  -1.  -2.  -3.  -4.  -3.  -4.  -5.  -4.  -5.  -6.  -5.  -4.  -5.\n",
      "   -6.  -5.  -6.  -7.  -8.  -7.  -6.  -7.  -8.  -7.  -8.  -7.  -8.  -9.\n",
      "  -10. -11. -12. -11. -12. -13. -12. -11. -12. -11. -10. -11. -10. -11.\n",
      "  -10. -11. -12. -11. -10. -11. -10.  -9.  -8.  -7.  -8.  -7.  -6.  -7.\n",
      "   -8.  -9.  -8.  -7.  -6.  -5.  -6.  -7.  -6.  -7.  -6.  -5.  -4.  -5.\n",
      "   -6.  -5.  -4.]\n",
      " [  0.  -1.   0.  -1.  -2.  -3.  -4.  -5.  -6.  -5.  -4.  -3.  -2.  -1.\n",
      "    0.   1.   0.  -1.   0.   1.   2.   3.   2.   1.   0.   1.   0.   1.\n",
      "    0.  -1.  -2.  -3.  -2.  -3.  -2.  -3.  -4.  -3.  -2.  -1.  -2.  -3.\n",
      "   -4.  -5.  -6.  -5.  -6.  -7.  -8.  -7.  -6.  -7.  -6.  -5.  -6.  -7.\n",
      "   -6.  -5.  -6.  -5.  -6.  -5.  -4.  -3.  -2.  -3.  -4.  -3.  -4.  -5.\n",
      "   -4.  -5.  -6.  -5.  -4.  -3.  -2.  -1.  -2.  -3.  -4.  -3.  -2.  -3.\n",
      "   -2.  -1.  -2.  -3.  -4.  -5.  -4.  -3.  -4.  -3.  -2.  -1.  -2.  -1.\n",
      "   -2.  -3.  -2.]]\n"
     ]
    }
   ],
   "source": [
    "import random\n",
    "import numpy as np\n",
    "import matplotlib.pyplot as plt\n",
    "%matplotlib inline\n",
    "\n",
    "max_M = 100 # maximum number of time steps\n",
    "N = 10000 # number of walks\n",
    "simulations = np.zeros([N,max_M+1])\n",
    "\n",
    "def get_step():\n",
    "    return -1 if random.random() < 0.5 else 1\n",
    "    # could have used random.choice([-1,1])\n",
    "\n",
    "# fill the array with simulations\n",
    "for i in range(N):\n",
    "    for j in range(1,max_M+1):\n",
    "        simulations[i,j] = simulations[i,j-1] + get_step()\n",
    "    \n",
    "print simulations[:2] "
   ]
  },
  {
   "cell_type": "code",
   "execution_count": 9,
   "metadata": {},
   "outputs": [
    {
     "name": "stdout",
     "output_type": "stream",
     "text": [
      "mean position after 30 time steps =  0.0596\n",
      "std dev of position after 30 time steps =  5.46908107821\n"
     ]
    },
    {
     "data": {
      "image/png": "[encoded data removed]",
      "text/plain": [
       "<matplotlib.figure.Figure at 0x10ebb4250>"
      ]
     },
     "metadata": {},
     "output_type": "display_data"
    }
   ],
   "source": [
    "M = 30\n",
    "print 'mean position after', M, 'time steps = ', \\\n",
    "np.mean(simulations[:,M])\n",
    "print 'std dev of position after', M, 'time steps = ', \\\n",
    "np.std(simulations[:,M])\n",
    "_,_,_ = plt.hist(simulations[:,M])"
   ]
  },
  {
   "cell_type": "code",
   "execution_count": 10,
   "metadata": {},
   "outputs": [
    {
     "name": "stdout",
     "output_type": "stream",
     "text": [
      "[    0.     0.  5022.  5022.  6294.  6294.  6923.  6923.  7279.  7279.\n",
      "  7543.  7543.  7754.  7754.  7923.  7923.  8034.  8034.  8136.  8136.\n",
      "  8233.  8233.  8295.  8295.  8360.  8360.  8422.  8422.  8486.  8486.\n",
      "  8540.  8540.  8583.  8583.  8633.  8633.  8673.  8673.  8716.  8716.\n",
      "  8737.  8737.  8770.  8770.  8791.  8791.  8821.  8821.  8844.  8844.\n",
      "  8868.  8868.  8898.  8898.  8921.  8921.  8935.  8935.  8958.  8958.\n",
      "  8970.  8970.  8989.  8989.  9004.  9004.  9020.  9020.  9037.  9037.\n",
      "  9054.  9054.  9067.  9067.  9075.  9075.  9083.  9083.  9092.  9092.\n",
      "  9100.  9100.  9109.  9109.  9113.  9113.  9118.  9118.  9125.  9125.\n",
      "  9133.  9133.  9141.  9141.  9150.  9150.  9160.  9160.  9170.  9170.\n",
      "  9176.]\n"
     ]
    },
    {
     "data": {
      "text/plain": [
       "Text(0,0.5,u'fraction of random walks that returned to 0')"
      ]
     },
     "execution_count": 10,
     "metadata": {},
     "output_type": "execute_result"
    },
    {
     "data": {
      "image/png": "[encoded data removed]",
      "text/plain": [
       "<matplotlib.figure.Figure at 0x10eb59c90>"
      ]
     },
     "metadata": {},
     "output_type": "display_data"
    }
   ],
   "source": [
    "# we now want to see the ratio of simulations that returned to zero\n",
    "# we'll do this for every M and plot\n",
    "\n",
    "numbers_of_walks_that_went_back_to_0 = np.zeros(max_M+1)\n",
    "\n",
    "def has_zero(xs):\n",
    "    for x in xs:\n",
    "        if x == 0:\n",
    "            return True\n",
    "    return False\n",
    "\n",
    "for M in range(1,max_M+1):\n",
    "    for i in range(N):\n",
    "        # don't want to count t=0:\n",
    "        if has_zero(simulations[i][1:M+1]):   \n",
    "            numbers_of_walks_that_went_back_to_0[M] += 1\n",
    "\n",
    "print numbers_of_walks_that_went_back_to_0\n",
    "        \n",
    "# to get the ratio, we need to divide by number of simulations \n",
    "plt.plot(numbers_of_walks_that_went_back_to_0 / float(N))\n",
    "plt.xlabel('# time steps in random walk')\n",
    "plt.ylabel('fraction of random walks that returned to 0')"
   ]
  }
 ],
 "metadata": {
  "kernelspec": {
   "display_name": "Python 2",
   "language": "python",
   "name": "python2"
  },
  "language_info": {
   "codemirror_mode": {
    "name": "ipython",
    "version": 2
   },
   "file_extension": ".py",
   "mimetype": "text/x-python",
   "name": "python",
   "nbconvert_exporter": "python",
   "pygments_lexer": "ipython2",
   "version": "2.7.14"
  }
 },
 "nbformat": 4,
 "nbformat_minor": 2
}

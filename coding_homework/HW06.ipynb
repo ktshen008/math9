{
 "cells": [
  {
   "cell_type": "code",
   "execution_count": 1,
   "metadata": {
    "collapsed": true
   },
   "outputs": [],
   "source": [
    "# Student name: \n",
    "# Student ID: "
   ]
  },
  {
   "cell_type": "markdown",
   "metadata": {},
   "source": [
    "Please fill this notebook with your code (if necessary, remove `pass` after \"# your code here\"), execute all cells, save the notebook on your machine. Upload the notebook (the file whose filename extension is `.ipynb`) only. Please upload to the [Math9 HW06 Dropbox](https://eee.uci.edu/toolbox/dropbox/) by the deadline indicated in the Dropbox. A primer on Dropbox is [here](https://eee.uci.edu/help/dropbox/instructors/_assets/dropbox_primer.pdf)."
   ]
  },
  {
   "cell_type": "markdown",
   "metadata": {
    "collapsed": true
   },
   "source": [
    "# Problem 1: Goldbach's wrong conjecture\n",
    "\n",
    "It was proposed by Goldbach that every odd number can be written as the sum of a prime and twice a square. For example:\n",
    "\n",
    "\\begin{eqnarray*}\n",
    "7 = 7 + 2 \\times 0^2\\\\\n",
    "9 = 7 + 2\\times 1^2\\\\\n",
    "11 = 11 + 2 \\times 0^2\\\\\n",
    "15 = 7 + 2\\times2^2 \\\\\n",
    "21 = 3 + 2\\times3^2\\\\\n",
    "25 = 7 + 2\\times3^2\\\\\n",
    "27 = 19 + 2\\times2^2\\\\\n",
    "33 = 31 + 2\\times1^2\n",
    "\\end{eqnarray*}\n",
    "\n",
    "Prove Golbach wrong by finding the first odd number that is not a prime plus twice a square.\n",
    "\n"
   ]
  },
  {
   "cell_type": "markdown",
   "metadata": {},
   "source": [
    "### Solution"
   ]
  },
  {
   "cell_type": "code",
   "execution_count": 2,
   "metadata": {
    "collapsed": true
   },
   "outputs": [],
   "source": [
    "def is_prime(n):\n",
    "    if n <= 1:\n",
    "        return False\n",
    "    d = 2\n",
    "    while d*d<=n:    # so clever!!!\n",
    "        if n % d  == 0:\n",
    "            return False\n",
    "        d += 1\n",
    "    return True"
   ]
  },
  {
   "cell_type": "code",
   "execution_count": 3,
   "metadata": {
    "collapsed": true
   },
   "outputs": [],
   "source": [
    "# modularize your code by writing this useful function\n",
    "def is_prime_plus_twice_a_square(m, print_when_found=False):\n",
    "    # your code here \n",
    "    pass "
   ]
  },
  {
   "cell_type": "code",
   "execution_count": 4,
   "metadata": {},
   "outputs": [],
   "source": [
    "# test your function\n",
    "is_prime_plus_twice_a_square(35, print_when_found=True)"
   ]
  },
  {
   "cell_type": "code",
   "execution_count": 5,
   "metadata": {},
   "outputs": [],
   "source": [
    "# use your function to compute the first counter example\n",
    "# your code here"
   ]
  },
  {
   "cell_type": "markdown",
   "metadata": {},
   "source": [
    "# Problem 2: Polynomial v2.0\n",
    "\n",
    "In the previous homework, we designed a class for polynomials. Please check last week's solutions if you were not sure about how to do this. Our class supported \n",
    "\n",
    "* initialization by list, i.e. `__init__(self, coefficients)`\n",
    "* printing, i.e. `__repr__(self)`\n",
    "* addition, i.e. `__add__(self, other)`\n",
    "* evaluation, i.e. `evaluate(self, x)`\n",
    "\n",
    "Add the following functionality to `Polynomial`:\n",
    "\n",
    "* `cleanup()`, should remove monomials with zero coefficients at the end of the polynomial, i.e. monomials of highest degree. Assume a float is zero if it is less than $\\epsilon = 0.00000000001$. For example, \n",
    "```\n",
    "p = Polynomial([1.0,1.0,0.0])\n",
    "p.cleanup()\n",
    "print p\n",
    "```\n",
    "should print `1.0 + 1.0x^1`. \n",
    "\n",
    "* `p.degree()` should return the degree of $p(x)$. For example, `Polynomial([1.0, 0.0, 0.5]).degree()` should be 2. Be careful: `Polynomial([1.0, 0.0, 0.0, 0.0]).degree()` should be zero.\n",
    "  \n",
    "* `p == q`, should return `True` if all the coefficients of `p` and `q` are within $\\epsilon$ of each other, and `False` otherwise. You do this by implementing a method called `__eq__(self, other)` in the `Polynomial` class. \n",
    "\n",
    "* `power_of_x(n)` should return $x^n$ as a `Polynomial`.\n",
    "\n",
    "* `p * q`, should return the product of two polynomials. You do this by implementing `__mul__(self, other)` within the class. [Hint: use the `scalar_mult` method that I've written for you and the `power_of_x` function you wrote previously.]\n",
    "\n",
    "Make sure you test each method with a couple of examples. \n",
    "\n"
   ]
  },
  {
   "cell_type": "code",
   "execution_count": 6,
   "metadata": {},
   "outputs": [],
   "source": [
    "class Polynomial():\n",
    "    def __init__(self, xs):\n",
    "        self.coeffs = xs\n",
    "    \n",
    "    def __repr__(self):\n",
    "        if self.coeffs == []:\n",
    "            return \"0\"\n",
    "        c = \"\"\n",
    "        for i, x in enumerate(self.coeffs):\n",
    "            c += str(x) + \"x\" + \"^\" + str(i) + \" + \"\n",
    "        return c[:-3]\n",
    "    \n",
    "    def __add__(self, other):\n",
    "        i = 0\n",
    "        new_coeffs = [0.0 for i in range(max(len(self.coeffs), len(other.coeffs)))]\n",
    "        for i in range(len(new_coeffs)):\n",
    "            coefa = self.coeffs[i] if i < len(self.coeffs) else 0.0\n",
    "            coefb = other.coeffs[i] if i < len(other.coeffs) else 0.0\n",
    "            new_coeffs[i] = coefa + coefb\n",
    "        return Polynomial(new_coeffs)\n",
    "                \n",
    "    def evaluate(self, x):\n",
    "        total = 0.0\n",
    "        power_of_x = 1\n",
    "        for i, coe in enumerate(self.coeffs):\n",
    "            total += coe * power_of_x\n",
    "            power_of_x *= x\n",
    "        return total\n",
    "    \n",
    "    # removes 0 coefficients at end of polynomial\n",
    "    def cleanup(self):\n",
    "        # your code here \n",
    "        pass \n",
    "    \n",
    "    def degree(self):\n",
    "        # your code here \n",
    "        pass \n",
    "    \n",
    "    def __eq__(self, other):\n",
    "        # your code here \n",
    "        pass \n",
    "    \n",
    "    def scalar_mult(self, alpha):\n",
    "        for i in range(len(self.coeffs)):\n",
    "            self.coeffs[i] *= alpha\n",
    "        return self\n",
    "    \n",
    "    def __mul__(self, other):\n",
    "        # your code here \n",
    "        pass \n",
    "    \n",
    "def power_of_x(n):\n",
    "    # your code here \n",
    "    pass "
   ]
  },
  {
   "cell_type": "code",
   "execution_count": 7,
   "metadata": {},
   "outputs": [
    {
     "name": "stdout",
     "output_type": "stream",
     "text": [
      "p = 1.0x^0 + 2.0x^1 + 3.0x^2 + 0.0x^3\n",
      "q = 0.0x^0\n",
      "\n",
      "p + q = 1.0x^0 + 2.0x^1 + 3.0x^2 + 0.0x^3\n",
      "\n",
      "p(1.0) =  6.0\n",
      "\n",
      "cleaned-up p = 1.0x^0 + 2.0x^1 + 3.0x^2 + 0.0x^3\n",
      "cleaned-up q = 0.0x^0\n",
      "\n",
      "degree of p = None\n",
      "degree of q = None\n",
      "r = 1.0x^0 + 0.0x^1 + 0.0x^2 + 0.0x^3\n",
      "degree of r = None\n",
      "\n",
      "p = 1.0x^0 + 2.0x^1 + 0.0x^2 + 4.0x^3\n",
      "q = 1.0x^0 + 2.0x^1 + 0.0x^2 + 4.0x^3\n",
      "is p equal to q? None\n",
      "\n",
      "x^3 = None\n",
      "\n",
      "p = 1.0x^0 + 2.0x^1 + 0.0x^2 + 4.0x^3\n",
      "3*p = 3.0x^0 + 6.0x^1 + 0.0x^2 + 12.0x^3\n",
      "\n",
      "p = 1x^0 + 2x^1\n",
      "p^2 = None\n"
     ]
    }
   ],
   "source": [
    "p = Polynomial([1.0,2.0,3.0,0.0])\n",
    "print 'p =', p\n",
    "q = Polynomial([0.0])\n",
    "print 'q =', q\n",
    "print \n",
    "\n",
    "print 'p + q =', p+q\n",
    "print \n",
    "\n",
    "print 'p(1.0) = ', p.evaluate(1.0)\n",
    "print \n",
    "\n",
    "p.cleanup()\n",
    "print 'cleaned-up p =', p\n",
    "q.cleanup()\n",
    "print 'cleaned-up q =', q\n",
    "print \n",
    "\n",
    "print 'degree of p =', p.degree()\n",
    "print 'degree of q =', q.degree()\n",
    "r = Polynomial([1.0, 0.0, 0.0, 0.0])\n",
    "print 'r =', r\n",
    "print 'degree of r =', r.degree()\n",
    "print \n",
    "\n",
    "p = Polynomial([1.0, 2.0, 0.0, 4.0])\n",
    "q = Polynomial([1.0, 2.0, 0.0, 4.0])\n",
    "print 'p =', p\n",
    "print 'q =', q\n",
    "print 'is p equal to q?', p == q\n",
    "print \n",
    "\n",
    "print 'x^3 =', power_of_x(3)\n",
    "print \n",
    "\n",
    "print 'p =', p\n",
    "print '3*p =', p.scalar_mult(3)\n",
    "print \n",
    "\n",
    "p = Polynomial([1, 2])\n",
    "print 'p =', p\n",
    "print 'p^2 =', p * p"
   ]
  },
  {
   "cell_type": "markdown",
   "metadata": {},
   "source": [
    "# Problem 3: random walk \n",
    "\n",
    "A drunk bear called Randi is standing at the origin in $\\mathbb{R}$. At each time step, he goes 1 unit to the left with probability $p = 0.5$ or 1 unit to the right with probability $1-p = 0.5$. Let the length of a random walk (number of time steps) be denoted by $M$, where $M \\leq 100$. An example simulation of Randi's walk is `[1,0,1,2,1,0,-1,-2,...,-3]`.\n",
    "\n",
    "* Make a numpy array of shape `(10000,100)` and fill it with simulated random walks each consisting of 100 time steps.\n",
    "* Compute the mean and standard deviation of the ending point of  walks of length 30. [Hints: use `np.mean` and `np.std`; also take subarrays of your simulations to do your computation.] Make a histogram of where we will find Randi at the end of his walk. \n",
    "* Let $r_M$ be the fraction of walks where, *at any point during the walk*, Randi returned to the origin. For $M = 1,2,3,4,5,6,7,8,9,\\dots,100$, compute $r_M$ and make a graph of $r_M$ as a function of $M$."
   ]
  },
  {
   "cell_type": "markdown",
   "metadata": {},
   "source": [
    "### Solution"
   ]
  },
  {
   "cell_type": "code",
   "execution_count": 8,
   "metadata": {},
   "outputs": [
    {
     "name": "stdout",
     "output_type": "stream",
     "text": [
      "[[ 0.  0.  0.  0.  0.  0.  0.  0.  0.  0.  0.  0.  0.  0.  0.  0.  0.  0.\n",
      "   0.  0.  0.  0.  0.  0.  0.  0.  0.  0.  0.  0.  0.  0.  0.  0.  0.  0.\n",
      "   0.  0.  0.  0.  0.  0.  0.  0.  0.  0.  0.  0.  0.  0.  0.  0.  0.  0.\n",
      "   0.  0.  0.  0.  0.  0.  0.  0.  0.  0.  0.  0.  0.  0.  0.  0.  0.  0.\n",
      "   0.  0.  0.  0.  0.  0.  0.  0.  0.  0.  0.  0.  0.  0.  0.  0.  0.  0.\n",
      "   0.  0.  0.  0.  0.  0.  0.  0.  0.  0.  0.]\n",
      " [ 0.  0.  0.  0.  0.  0.  0.  0.  0.  0.  0.  0.  0.  0.  0.  0.  0.  0.\n",
      "   0.  0.  0.  0.  0.  0.  0.  0.  0.  0.  0.  0.  0.  0.  0.  0.  0.  0.\n",
      "   0.  0.  0.  0.  0.  0.  0.  0.  0.  0.  0.  0.  0.  0.  0.  0.  0.  0.\n",
      "   0.  0.  0.  0.  0.  0.  0.  0.  0.  0.  0.  0.  0.  0.  0.  0.  0.  0.\n",
      "   0.  0.  0.  0.  0.  0.  0.  0.  0.  0.  0.  0.  0.  0.  0.  0.  0.  0.\n",
      "   0.  0.  0.  0.  0.  0.  0.  0.  0.  0.  0.]]\n"
     ]
    }
   ],
   "source": [
    "import random\n",
    "import numpy as np\n",
    "import matplotlib.pyplot as plt\n",
    "%matplotlib inline\n",
    "\n",
    "max_M = 100 # maximum number of time steps\n",
    "N = 10000 # number of walks\n",
    "simulations = np.zeros([N,max_M+1])\n",
    "\n",
    "def get_step():\n",
    "    return -1 if random.random() < 0.5 else 1\n",
    "    # could have used random.choice([-1,1])\n",
    "\n",
    "# fill the array with simulations here\n",
    "\n",
    "print simulations[:2] "
   ]
  },
  {
   "cell_type": "code",
   "execution_count": 9,
   "metadata": {},
   "outputs": [
    {
     "name": "stdout",
     "output_type": "stream",
     "text": [
      "mean position after 30 time steps = \n",
      "std dev of position after 30 time steps = \n"
     ]
    }
   ],
   "source": [
    "M = 30\n",
    "print 'mean position after', M, 'time steps = ' # your code here\n",
    "\n",
    "print 'std dev of position after', M, 'time steps = ' # your code here\n",
    "# your histogram plotting code here "
   ]
  },
  {
   "cell_type": "code",
   "execution_count": 10,
   "metadata": {},
   "outputs": [
    {
     "data": {
      "text/plain": [
       "Text(0,0.5,u'fraction of random walks that returned to 0')"
      ]
     },
     "execution_count": 10,
     "metadata": {},
     "output_type": "execute_result"
    },
    {
     "data": {
      "image/png": "[encoded data removed]",
      "text/plain": [
       "<matplotlib.figure.Figure at 0x10848e610>"
      ]
     },
     "metadata": {},
     "output_type": "display_data"
    }
   ],
   "source": [
    "# we now want to see the ratio of simulations that returned to zero;\n",
    "# we'll do this for every M and plot\n",
    "\n",
    "numbers_of_walks_that_went_back_to_0 = np.zeros(max_M+1)\n",
    "\n",
    "def has_zero(xs):\n",
    "    # your code here \n",
    "    pass \n",
    "\n",
    "# your code here. Hint: use 'has_zero'\n",
    "\n",
    "# to get r_M, we need to divide by the number of simulations \n",
    "plt.plot(numbers_of_walks_that_went_back_to_0 / float(N))\n",
    "plt.xlabel('# time steps in random walk')\n",
    "plt.ylabel('fraction of random walks that returned to 0')"
   ]
  },
  {
   "cell_type": "code",
   "execution_count": null,
   "metadata": {
    "collapsed": true
   },
   "outputs": [],
   "source": []
  }
 ],
 "metadata": {
  "kernelspec": {
   "display_name": "Python 2",
   "language": "python",
   "name": "python2"
  },
  "language_info": {
   "codemirror_mode": {
    "name": "ipython",
    "version": 2
   },
   "file_extension": ".py",
   "mimetype": "text/x-python",
   "name": "python",
   "nbconvert_exporter": "python",
   "pygments_lexer": "ipython2",
   "version": "2.7.14"
  }
 },
 "nbformat": 4,
 "nbformat_minor": 2
}

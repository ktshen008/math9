{
 "cells": [
  {
   "cell_type": "code",
   "execution_count": 1,
   "metadata": {
    "collapsed": true
   },
   "outputs": [],
   "source": [
    "# Student name: \n",
    "# Student ID: "
   ]
  },
  {
   "cell_type": "markdown",
   "metadata": {},
   "source": [
    "Please fill this notebook with your code (if necessary, remove `pass` after \"# your code here\"), execute all cells, save the notebook on your machine. Upload the notebook (the file whose filename extension is `.ipynb`) only. Please upload to the [Math9 HW04 Dropbox](https://eee.uci.edu/toolbox/dropbox/) by the deadline indicated in the Dropbox. A primer on Dropbox is [here](https://eee.uci.edu/help/dropbox/instructors/_assets/dropbox_primer.pdf)."
   ]
  },
  {
   "cell_type": "markdown",
   "metadata": {},
   "source": [
    "# Problem 1: binary and decimal \n",
    "\n",
    "Write a function `binary(decimal_number)` that will return the binary representation of an integer, e.g., `binary(13)` should return `1101`. Refer to Method 1 at [this webpage](https://www.wikihow.com/Convert-from-Decimal-to-Binary). Write a function `decimal(binary_number)` that will return the base 10 representation of a binary number, e.g., `decimal(1101)` should return `13`. These two functions should be inverses of each other, i.e. `decimal(binary(decimal_number))` should return `decimal_number`. \n",
    "\n"
   ]
  },
  {
   "cell_type": "markdown",
   "metadata": {},
   "source": [
    "### Solution"
   ]
  },
  {
   "cell_type": "code",
   "execution_count": 38,
   "metadata": {},
   "outputs": [
    {
     "name": "stdout",
     "output_type": "stream",
     "text": [
      "binary digits of 13 in reverse order are:  [1, 0, 1, 1]\n",
      "decimal digits of 1101 in reverse order are:  [1, 0, 1, 1]\n"
     ]
    }
   ],
   "source": [
    "def digits(n, base): \n",
    "    if n == 0:\n",
    "        return []\n",
    "    return [n % base] + digits(n // base, base)\n",
    "\n",
    "print 'binary digits of 13 in reverse order are: ', digits(13,2)\n",
    "print 'decimal digits of 1101 in reverse order are: ', digits(1101,10)"
   ]
  },
  {
   "cell_type": "code",
   "execution_count": 39,
   "metadata": {},
   "outputs": [
    {
     "name": "stdout",
     "output_type": "stream",
     "text": [
      "13 in binary is: 1101\n",
      "1101 in decimal is: 13\n"
     ]
    }
   ],
   "source": [
    "def binary(decimal_number): \n",
    "    total = 0\n",
    "    for i, d in enumerate(digits(decimal_number,2)): \n",
    "        total += d*10**i\n",
    "    return total \n",
    "print '13 in binary is:', binary(13)\n",
    "\n",
    "def decimal(binary_number): \n",
    "    total = 0\n",
    "    for i, d in enumerate(digits(binary_number,10)): \n",
    "        total += d*2**i\n",
    "    return total \n",
    "print '1101 in decimal is:', decimal(1101)"
   ]
  },
  {
   "cell_type": "markdown",
   "metadata": {},
   "source": [
    "Checking to see if these functions are really inverses of each other:"
   ]
  },
  {
   "cell_type": "code",
   "execution_count": 43,
   "metadata": {},
   "outputs": [
    {
     "name": "stdout",
     "output_type": "stream",
     "text": [
      "0 1 2 3 4 5 6 7 8 9 10 11 12 13 14 15 16 17 18 19\n"
     ]
    }
   ],
   "source": [
    "for i in range(20):\n",
    "    print decimal(binary(i)), "
   ]
  },
  {
   "cell_type": "markdown",
   "metadata": {},
   "source": [
    "# Problem 2: Goldbach’s conjecture\n",
    "\n",
    "The famous Goldbach conjecture states that every even number $n > 2$ is a sum of two\n",
    "prime numbers. Forexample: $4=2+2,6=3+3,8=5+3,10=7+3,12=7+5,...$\n",
    "\n",
    "Write Python code that checks Goldbach’s conjecture for $n$ up to $10000$. Print out how the even numbers from $9900$ to $9998$ can be written as sums of prime numbers (one example for each even number is sufficient). Use your `primes_sieve(n)`, which returned a list of primes up to $n$ from the previous assignment."
   ]
  },
  {
   "cell_type": "code",
   "execution_count": 49,
   "metadata": {},
   "outputs": [
    {
     "name": "stdout",
     "output_type": "stream",
     "text": [
      "9900 = 13 + 9887\n",
      "9902 = 19 + 9883\n",
      "9904 = 3 + 9901\n",
      "9906 = 5 + 9901\n",
      "9908 = 7 + 9901\n",
      "9910 = 3 + 9907\n",
      "9912 = 5 + 9907\n",
      "9914 = 7 + 9907\n",
      "9916 = 29 + 9887\n",
      "9918 = 11 + 9907\n",
      "9920 = 13 + 9907\n",
      "9922 = 71 + 9851\n",
      "9924 = 17 + 9907\n",
      "9926 = 3 + 9923\n",
      "9928 = 5 + 9923\n",
      "9930 = 7 + 9923\n",
      "9932 = 3 + 9929\n",
      "9934 = 3 + 9931\n",
      "9936 = 5 + 9931\n",
      "9938 = 7 + 9931\n",
      "9940 = 11 + 9929\n",
      "9942 = 11 + 9931\n",
      "9944 = 3 + 9941\n",
      "9946 = 5 + 9941\n",
      "9948 = 7 + 9941\n",
      "9950 = 19 + 9931\n",
      "9952 = 3 + 9949\n",
      "9954 = 5 + 9949\n",
      "9956 = 7 + 9949\n",
      "9958 = 17 + 9941\n",
      "9960 = 11 + 9949\n",
      "9962 = 13 + 9949\n",
      "9964 = 23 + 9941\n",
      "9966 = 17 + 9949\n",
      "9968 = 19 + 9949\n",
      "9970 = 3 + 9967\n",
      "9972 = 5 + 9967\n",
      "9974 = 7 + 9967\n",
      "9976 = 3 + 9973\n",
      "9978 = 5 + 9973\n",
      "9980 = 7 + 9973\n",
      "9982 = 41 + 9941\n",
      "9984 = 11 + 9973\n",
      "9986 = 13 + 9973\n",
      "9988 = 47 + 9941\n",
      "9990 = 17 + 9973\n",
      "9992 = 19 + 9973\n",
      "9994 = 53 + 9941\n",
      "9996 = 23 + 9973\n",
      "9998 = 31 + 9967\n",
      "10000 = 59 + 9941\n"
     ]
    },
    {
     "data": {
      "text/plain": [
       "'no counter examples found'"
      ]
     },
     "execution_count": 49,
     "metadata": {},
     "output_type": "execute_result"
    }
   ],
   "source": [
    "def primes_sieve(m):\n",
    "    is_prime = m*[True]\n",
    "    primes = []  \n",
    "    for i in range(2,m):\n",
    "        if is_prime[i]:\n",
    "            primes.append(i)\n",
    "            # mark out multiples of i\n",
    "            for j in range(2*i,m,i):\n",
    "                is_prime[j] = False\n",
    "    return primes\n",
    "\n",
    "plist = primes_sieve(100000)\n",
    "\n",
    "def isinsortedlist(x, lis):\n",
    "    \"\"\" is x in sorted list lis \"\"\"\n",
    "    for i in lis:\n",
    "        if x == i:\n",
    "            return True\n",
    "        if i > x:\n",
    "            return False\n",
    "    return False\n",
    "\n",
    "def find_two_primes_for(n):\n",
    "    for p in plist:\n",
    "        if isinsortedlist(n-p, plist): # is in sorted list is an efficient way of checking\n",
    "                                       # to see if your number is in plist\n",
    "                                       # you can also just say: if n-p in plist\n",
    "            return (p, n-p)\n",
    "        if p > n:\n",
    "            break\n",
    "    return None, None\n",
    "\n",
    "def check_gc_up_to(m):\n",
    "    # only check even numbers\n",
    "    for n in range(4,m+1,2):\n",
    "        p, q = find_two_primes_for(n)\n",
    "        if 9900 <= n <= 10000:\n",
    "            print n, \"=\", p , \"+\", n-p\n",
    "        if not p:\n",
    "            return \"counter example found; CALL 911 NOW!\"\n",
    "    return \"no counter examples found\"\n",
    "\n",
    "check_gc_up_to(10000)"
   ]
  },
  {
   "cell_type": "markdown",
   "metadata": {},
   "source": [
    "# Problem 3: Recursion\n",
    "\n",
    "Here is an example of a recursive function: (if you understand how this works, you understand recursion): \n",
    "\n"
   ]
  },
  {
   "cell_type": "code",
   "execution_count": 51,
   "metadata": {},
   "outputs": [
    {
     "data": {
      "text/plain": [
       "[4, 3, 2, 1]"
      ]
     },
     "execution_count": 51,
     "metadata": {},
     "output_type": "execute_result"
    }
   ],
   "source": [
    "def reverse(xs): \n",
    "    if xs == []:\n",
    "        return xs\n",
    "    return xs[-1:] + reverse(xs[:-1])\n",
    "reverse([1,2,3,4])"
   ]
  },
  {
   "cell_type": "markdown",
   "metadata": {},
   "source": [
    "Write the following functions  using only recursion. \n",
    "\n",
    "* `maximo(xs)`, returns the maximum of a list of numbers.\n",
    "* `lengtho(xs)`, returns the length of a list.\n",
    "* `ispalindrome(xs)` returns `True` if `xs` is a palindrome (a palindrome is a sequence that is the same in reverse, example: “amanaplanacanalpanama”).\n",
    "* `gcd(a,b)`, returns the greatest common divisor of two integers `a` and `b`. Use Euclid’s algorithm, but implement it using recursion. Remember the key fact: if `a = b*q + r`, then `gcd(a,b) = gcd(b,r)`.\n",
    "\n",
    "Please don’t use loops, the idea is for us to learn how to use recursion. If I gave you only recursion exercises that are easier to do with recursion and hard to do with loops, they would be very difficult and it would make it much harder for you to learn to use recursion. \n",
    "\n",
    "Also please don’t use the built-in function `max`, etc."
   ]
  },
  {
   "cell_type": "markdown",
   "metadata": {},
   "source": [
    "### Solution"
   ]
  },
  {
   "cell_type": "code",
   "execution_count": 53,
   "metadata": {},
   "outputs": [
    {
     "data": {
      "text/plain": [
       "5"
      ]
     },
     "execution_count": 53,
     "metadata": {},
     "output_type": "execute_result"
    }
   ],
   "source": [
    "def maximo(xs):\n",
    "    if len(xs) == 1:\n",
    "        return xs[0]\n",
    "    max_of_rest = maximo(xs[1:])\n",
    "    return xs[0] if xs[0] > max_of_rest else max_of_rest\n",
    "\n",
    "maximo([1,2,3,5,-2])"
   ]
  },
  {
   "cell_type": "markdown",
   "metadata": {},
   "source": [
    "This is actually inefficient because the use of list slicing makes a lot of data get copied over again and again. You are not expected to do it this way, but this is much better:"
   ]
  },
  {
   "cell_type": "code",
   "execution_count": 55,
   "metadata": {},
   "outputs": [
    {
     "data": {
      "text/plain": [
       "5"
      ]
     },
     "execution_count": 55,
     "metadata": {},
     "output_type": "execute_result"
    }
   ],
   "source": [
    "def maximo_of_part(xs, start, end):\n",
    "    if end-start == 1:\n",
    "        return xs[start]\n",
    "    max_of_rest = maximo_of_part(xs, start+1, end)\n",
    "    return xs[start] if xs[start] > max_of_rest else max_of_rest\n",
    "\n",
    "maximo_of_part([1,2,3,5,-2], 0, 5)"
   ]
  },
  {
   "cell_type": "markdown",
   "metadata": {},
   "source": [
    "\n",
    "\n",
    "Why is this more efficient? It's because if we pass xs as an argument to a function, a pointer to the actual list is passed; whereas if we pass a slice, then the sliced part is copied before passing.\n",
    "\n",
    "We won't worry about efficiency for the other examples.\n"
   ]
  },
  {
   "cell_type": "code",
   "execution_count": 58,
   "metadata": {},
   "outputs": [
    {
     "data": {
      "text/plain": [
       "10"
      ]
     },
     "execution_count": 58,
     "metadata": {},
     "output_type": "execute_result"
    }
   ],
   "source": [
    "def lengtho(xs):\n",
    "    if xs == []:\n",
    "        return 0\n",
    "    return 1 + lengtho(xs[1:])\n",
    "        \n",
    "lengtho([1,2,3,4,1,4,1,4,1,1])"
   ]
  },
  {
   "cell_type": "code",
   "execution_count": 62,
   "metadata": {},
   "outputs": [
    {
     "name": "stdout",
     "output_type": "stream",
     "text": [
      "True\n",
      "False\n"
     ]
    }
   ],
   "source": [
    "def ispalindrome(xs):\n",
    "    if len(xs) <= 1:\n",
    "        return True\n",
    "    if xs[0] != xs[-1]:\n",
    "        return False\n",
    "    return ispalindrome(xs[1:-1])\n",
    "\n",
    "print ispalindrome(\"abba\")\n",
    "print ispalindrome(\"abca\")"
   ]
  },
  {
   "cell_type": "markdown",
   "metadata": {},
   "source": [
    "We already know Euclid's algorithm for GCD. We now want to implement it using recursion:"
   ]
  },
  {
   "cell_type": "code",
   "execution_count": 64,
   "metadata": {},
   "outputs": [
    {
     "name": "stdout",
     "output_type": "stream",
     "text": [
      "5\n",
      "1\n",
      "10\n"
     ]
    }
   ],
   "source": [
    "def gcd(a,b):\n",
    "    if a < b:\n",
    "        return gcd(b,a)\n",
    "    if b == 0:\n",
    "        return a\n",
    "    return gcd(b, a % b)\n",
    "\n",
    "print(gcd(15,25))\n",
    "print(gcd(17,25))\n",
    "print(gcd(30,100))"
   ]
  }
 ],
 "metadata": {
  "kernelspec": {
   "display_name": "Python 2",
   "language": "python",
   "name": "python2"
  },
  "language_info": {
   "codemirror_mode": {
    "name": "ipython",
    "version": 2
   },
   "file_extension": ".py",
   "mimetype": "text/x-python",
   "name": "python",
   "nbconvert_exporter": "python",
   "pygments_lexer": "ipython2",
   "version": "2.7.14"
  }
 },
 "nbformat": 4,
 "nbformat_minor": 2
}
